{
  "nbformat": 4,
  "nbformat_minor": 0,
  "metadata": {
    "colab": {
      "provenance": [],
      "collapsed_sections": []
    },
    "kernelspec": {
      "name": "python3",
      "display_name": "Python 3"
    },
    "language_info": {
      "name": "python"
    },
    "gpuClass": "standard"
  },
  "cells": [
    {
      "cell_type": "code",
      "execution_count": 6,
      "metadata": {
        "id": "ekjb6lIcPVF0"
      },
      "outputs": [],
      "source": [
        "\"\"\"\n",
        "@author:  <Mohammed Awal Kassim>\n",
        "@contact: <mkass005@uottawa.ca>\n",
        "@version: 1.0\n",
        "@summary: <This is the solution to the second homework of the CSI 5155(Machine Learning) course at the University of Ottawa.>\n",
        "\"\"\"\n",
        "\n",
        "# Importing useful libraries\n",
        "import os\n",
        "import urllib\n",
        "import numpy as np\n",
        "import pandas as pd\n",
        "import imblearn\n",
        "import matplotlib.pyplot as plt\n",
        "from imblearn.over_sampling import RandomOverSampler\n",
        "from imblearn.under_sampling import RandomUnderSampler\n",
        "from imblearn.pipeline import Pipeline, make_pipeline\n",
        "from collections import Counter\n",
        "from sklearn.feature_selection import SelectFromModel\n",
        "from sklearn.model_selection import train_test_split, GridSearchCV, RandomizedSearchCV\n",
        "from sklearn.preprocessing import MinMaxScaler\n",
        "from sklearn.model_selection import cross_val_score, StratifiedKFold\n",
        "from sklearn.tree import DecisionTreeClassifier\n",
        "from sklearn.linear_model import LogisticRegression\n",
        "from sklearn.ensemble import RandomForestClassifier\n",
        "from sklearn.svm import SVC\n",
        "from sklearn.neighbors import KNeighborsClassifier\n",
        "from sklearn.ensemble import GradientBoostingClassifier\n",
        "from sklearn.neural_network import MLPClassifier\n",
        "from sklearn.metrics import accuracy_score\n",
        "from sklearn.metrics import ConfusionMatrixDisplay, RocCurveDisplay, recall_score, precision_score\n",
        "from sklearn.base import clone\n",
        "from sklearn.metrics import balanced_accuracy_score"
      ]
    },
    {
      "cell_type": "markdown",
      "source": [
        "### Declare All Constants"
      ],
      "metadata": {
        "id": "d8eQufsTTZAF"
      }
    },
    {
      "cell_type": "code",
      "source": [
        "DRUG_URL = \"https://archive.ics.uci.edu/ml/machine-learning-databases/00373/drug_consumption.data\"\n",
        "DRUG_STORAGE_PATH = os.path.join(\"datasets\", \"drug\")\n",
        "DRUG_FEATURES = [\"id\", \"age\", \"gender\", \"education\", \"country\", \"ethnicity\", \"nscore\", \"escore\", \"oscore\", \"ascore\", \"cscore\", \"impulsive\", \"ss\"]\n",
        "DRUG_CLASSES = [\"alcohol\", \"amphet\", \"amyl\", \"benzos\", \"caff\", \"cannabis\", \"choc\", \"coke\", \"crack\", \"ecstasy\", \"heroine\", \"ketamin\", \"legalh\", \"lsd\", \"meth\", \"mushrooms\", \"nicotine\", \"semer\", \"vsa\"]\n",
        "\n",
        "LABOR_URL = \"https://archive.ics.uci.edu/ml/machine-learning-databases/labor-negotiations/\"\n",
        "LABOR_STORAGE_PATH = os.path.join(\"datasets\", \"labor\")\n",
        "\n",
        "HEART_URL = \"https://www.kaggle.com/datasets/cherngs/heart-disease-cleveland-uci/download?datasetVersionNumber=1\"\n",
        "HEART_STORAGE_PATH = os.path.join(\"datasets\", \"heart\")"
      ],
      "metadata": {
        "id": "1toUiPpuSu3f"
      },
      "execution_count": 9,
      "outputs": []
    },
    {
      "cell_type": "markdown",
      "source": [
        "### Fetch data from online repository"
      ],
      "metadata": {
        "id": "5-VcmOj_W9N9"
      }
    },
    {
      "cell_type": "code",
      "source": [
        "def get_data(url, path, file_name):\n",
        "  \"\"\"\n",
        "  Fetches data from the internet given the url\n",
        "  :param:url: location of dataset on the internet\n",
        "  :param:path: destination in local environment\n",
        "  \"\"\"\n",
        "  data = os.path.join(path, file_name)\n",
        "  os.makedirs(path, exist_ok=True)\n",
        "  urllib.request.urlretrieve(url, data)"
      ],
      "metadata": {
        "id": "iRMnBnzrW8wv"
      },
      "execution_count": 2,
      "outputs": []
    },
    {
      "cell_type": "markdown",
      "source": [
        "### Load data into local workspace"
      ],
      "metadata": {
        "id": "IB8EtFuUXn2x"
      }
    },
    {
      "cell_type": "code",
      "source": [
        "def load_data(path, file_name ):\n",
        "  \"\"\"\n",
        "  Loads data from the local environment\n",
        "  :param: path: data directory\n",
        "  :return: pandas dataframe containing data\n",
        "  \"\"\"\n",
        "  data_file = os.path.join(path, file_name)\n",
        "  return pd.read_csv(data_file,  names = DRUG_FEATURES + DRUG_CLASSES)"
      ],
      "metadata": {
        "id": "CAJuRVbXXcRq"
      },
      "execution_count": 3,
      "outputs": []
    },
    {
      "cell_type": "markdown",
      "source": [
        "### Preprocess data"
      ],
      "metadata": {
        "id": "UDpzUAx4rTlh"
      }
    },
    {
      "cell_type": "code",
      "source": [
        "def preprocess_data(data):\n",
        "  \"\"\"\n",
        "  Performs data preprocessing \n",
        "  :param:data: pandas dataframe containing input data\n",
        "  :return: pandas dataframe containing preprocessed data\n",
        "  \"\"\"\n",
        "  data = data[DRUG_FEATURES + [\"semer\", \"caff\"]]\n",
        "  data = data[data.semer == \"CL0\"]\n",
        "  data = data.drop(columns = [\"id\", \"semer\"])\n",
        "  return data"
      ],
      "metadata": {
        "id": "yN3rhcDOrSS3"
      },
      "execution_count": 4,
      "outputs": []
    },
    {
      "cell_type": "markdown",
      "source": [
        "### Scale Features"
      ],
      "metadata": {
        "id": "gaoKQp07Sb-s"
      }
    },
    {
      "cell_type": "code",
      "source": [
        "def scale_features(X):\n",
        "  data = MinMaxScaler().fit_transform(X)\n",
        "  return data"
      ],
      "metadata": {
        "id": "gRPf_kp08gDI"
      },
      "execution_count": 63,
      "outputs": []
    },
    {
      "cell_type": "markdown",
      "source": [
        "### Feature Selection"
      ],
      "metadata": {
        "id": "BMW-hKSjumMD"
      }
    },
    {
      "cell_type": "code",
      "source": [
        "def select_features(dataset):\n",
        "  \"\"\"\n",
        "  Selects features that are relevant to the classification task using feature importance\n",
        "  :param: dataset: input data\n",
        "  :return: a dataframes containing selected features alongside their classes\n",
        "  \"\"\"\n",
        "  class_name = dataset.columns[-1]\n",
        "  class_name\n",
        "  #new_classes.remove(\"semer\")\n",
        "  dataset.shape\n",
        "  X_train = dataset.drop(dataset.columns[-1], axis=1)\n",
        "  y_train = dataset[dataset.columns[-1]].copy()\n",
        "\n",
        "  classifier = LogisticRegression()\n",
        "  classifier.fit(X_train, y_train)\n",
        "  model = SelectFromModel(classifier, prefit=True)\n",
        "  feature_idx = model.get_support()\n",
        "  feature_names = X_train.columns[feature_idx]\n",
        "  print(feature_names)\n",
        "  X_train_new = model.transform(X_train)\n",
        "  X_train_new = pd.DataFrame(X_train_new, columns=feature_names)\n",
        "  column_names = list(feature_names) + [class_name]\n",
        "  X_train_new.reset_index(drop=True, inplace=True)\n",
        "  y_train.reset_index(drop=True, inplace=True)\n",
        "  new_data = pd.concat([X_train_new, y_train], axis=1, ignore_index=True)\n",
        "  new_data.columns = column_names\n",
        "  new_data.shape\n",
        "\n",
        "\n",
        "  return new_data"
      ],
      "metadata": {
        "id": "S6ZWeD7lup8G"
      },
      "execution_count": 64,
      "outputs": []
    },
    {
      "cell_type": "markdown",
      "source": [
        "### Binarize labels"
      ],
      "metadata": {
        "id": "WAskk-88rXRT"
      }
    },
    {
      "cell_type": "code",
      "source": [
        "def binarize_labels(data):\n",
        "  \"\"\"\n",
        "  Converts the multi class labels to binary\n",
        "  :param:data: pandas dataframe containing input data\n",
        "  :return: six dataframes representing consumers of alcohol, amphet, cannabis, chocolate, mushrooms, and nicotine\n",
        "  \"\"\"\n",
        "  label = \"caff\"\n",
        "  data[label] = data[label].replace([\"CL0\", \"CL1\"], 0)\n",
        "  data[label] = data[label].replace([\"CL2\", \"CL3\", \"CL4\", \"CL5\", \"CL6\"], 1)\n",
        "  data[label].astype(float)\n",
        "\n",
        "  # Drop all null values\n",
        "  data.dropna(inplace=True)\n",
        "  return data"
      ],
      "metadata": {
        "id": "GIz880MqrboP"
      },
      "execution_count": 7,
      "outputs": []
    },
    {
      "cell_type": "markdown",
      "source": [
        "### Load and inspect data"
      ],
      "metadata": {
        "id": "OtnTlVEaSoVc"
      }
    },
    {
      "cell_type": "code",
      "source": [
        "get_data(DRUG_URL, DRUG_STORAGE_PATH, \"drug_consumption.data\" )\n",
        "drug_data = load_data(DRUG_STORAGE_PATH, \"drug_consumption.data\" )\n",
        "drug_data.info()"
      ],
      "metadata": {
        "colab": {
          "base_uri": "https://localhost:8080/"
        },
        "id": "kL-hIYs8YegX",
        "outputId": "f0f595a1-f1ac-484c-9ede-aa87a89c4caa"
      },
      "execution_count": 10,
      "outputs": [
        {
          "output_type": "stream",
          "name": "stdout",
          "text": [
            "<class 'pandas.core.frame.DataFrame'>\n",
            "RangeIndex: 1885 entries, 0 to 1884\n",
            "Data columns (total 32 columns):\n",
            " #   Column     Non-Null Count  Dtype  \n",
            "---  ------     --------------  -----  \n",
            " 0   id         1885 non-null   int64  \n",
            " 1   age        1885 non-null   float64\n",
            " 2   gender     1885 non-null   float64\n",
            " 3   education  1885 non-null   float64\n",
            " 4   country    1885 non-null   float64\n",
            " 5   ethnicity  1885 non-null   float64\n",
            " 6   nscore     1885 non-null   float64\n",
            " 7   escore     1885 non-null   float64\n",
            " 8   oscore     1885 non-null   float64\n",
            " 9   ascore     1885 non-null   float64\n",
            " 10  cscore     1885 non-null   float64\n",
            " 11  impulsive  1885 non-null   float64\n",
            " 12  ss         1885 non-null   float64\n",
            " 13  alcohol    1885 non-null   object \n",
            " 14  amphet     1885 non-null   object \n",
            " 15  amyl       1885 non-null   object \n",
            " 16  benzos     1885 non-null   object \n",
            " 17  caff       1885 non-null   object \n",
            " 18  cannabis   1885 non-null   object \n",
            " 19  choc       1885 non-null   object \n",
            " 20  coke       1885 non-null   object \n",
            " 21  crack      1885 non-null   object \n",
            " 22  ecstasy    1885 non-null   object \n",
            " 23  heroine    1885 non-null   object \n",
            " 24  ketamin    1885 non-null   object \n",
            " 25  legalh     1885 non-null   object \n",
            " 26  lsd        1885 non-null   object \n",
            " 27  meth       1885 non-null   object \n",
            " 28  mushrooms  1885 non-null   object \n",
            " 29  nicotine   1885 non-null   object \n",
            " 30  semer      1885 non-null   object \n",
            " 31  vsa        1885 non-null   object \n",
            "dtypes: float64(12), int64(1), object(19)\n",
            "memory usage: 471.4+ KB\n"
          ]
        }
      ]
    },
    {
      "cell_type": "code",
      "source": [
        "labor_data = pd.read_csv(\"labor.csv\")\n",
        "heart_data = pd.read_csv(\"heart_cleveland_upload.csv\")"
      ],
      "metadata": {
        "id": "YNr84SQ2hclZ"
      },
      "execution_count": 7,
      "outputs": []
    },
    {
      "cell_type": "code",
      "source": [
        "labor_data.info()"
      ],
      "metadata": {
        "colab": {
          "base_uri": "https://localhost:8080/"
        },
        "id": "qzylu1NnkWKh",
        "outputId": "5e43c161-2d4d-4697-9b7f-a648e0205b66"
      },
      "execution_count": 8,
      "outputs": [
        {
          "output_type": "stream",
          "name": "stdout",
          "text": [
            "<class 'pandas.core.frame.DataFrame'>\n",
            "RangeIndex: 57 entries, 0 to 56\n",
            "Data columns (total 17 columns):\n",
            " #   Column                          Non-Null Count  Dtype \n",
            "---  ------                          --------------  ----- \n",
            " 0   duration                        57 non-null     object\n",
            " 1   wage-increase-first-year        57 non-null     object\n",
            " 2   wage-increase-second-year       57 non-null     object\n",
            " 3   wage-increase-third-year        57 non-null     object\n",
            " 4   cost-of-living-adjustment       57 non-null     object\n",
            " 5   working-hours                   57 non-null     object\n",
            " 6   pension                         57 non-null     object\n",
            " 7   standby-pay                     57 non-null     object\n",
            " 8   shift-differential              57 non-null     object\n",
            " 9   education-allowance             57 non-null     object\n",
            " 10  statutory-holidays              57 non-null     object\n",
            " 11  vacation                        57 non-null     object\n",
            " 12  longterm-disability-assistance  57 non-null     object\n",
            " 13  contribution-to-dental-plan     57 non-null     object\n",
            " 14  bereavement-assistance          57 non-null     object\n",
            " 15  contribution-to-health-plan     57 non-null     object\n",
            " 16  class                           57 non-null     object\n",
            "dtypes: object(17)\n",
            "memory usage: 7.7+ KB\n"
          ]
        }
      ]
    },
    {
      "cell_type": "code",
      "source": [
        "labor_data.head(10)"
      ],
      "metadata": {
        "colab": {
          "base_uri": "https://localhost:8080/",
          "height": 479
        },
        "id": "dwrGYz_-j63k",
        "outputId": "0e157edf-a4ce-402d-d9b0-4d37a1d0d888"
      },
      "execution_count": 9,
      "outputs": [
        {
          "output_type": "execute_result",
          "data": {
            "text/plain": [
              "  duration wage-increase-first-year wage-increase-second-year  \\\n",
              "0        1                        5                         ?   \n",
              "1        2                      4.5                       5.8   \n",
              "2        ?                        ?                         ?   \n",
              "3        3                      3.7                         4   \n",
              "4        3                      4.5                       4.5   \n",
              "5        2                        2                       2.5   \n",
              "6        3                        4                         5   \n",
              "7        3                      6.9                       4.8   \n",
              "8        2                        3                         7   \n",
              "9        1                      5.7                         ?   \n",
              "\n",
              "  wage-increase-third-year cost-of-living-adjustment working-hours  \\\n",
              "0                        ?                         ?            40   \n",
              "1                        ?                         ?            35   \n",
              "2                        ?                         ?            38   \n",
              "3                        5                        tc             ?   \n",
              "4                        5                         ?            40   \n",
              "5                        ?                         ?            35   \n",
              "6                        5                        tc             ?   \n",
              "7                      2.3                         ?            40   \n",
              "8                        ?                         ?            38   \n",
              "9                        ?                      none            40   \n",
              "\n",
              "      pension standby-pay shift-differential education-allowance  \\\n",
              "0           ?           ?                  2                   ?   \n",
              "1    ret_allw           ?                  ?                 yes   \n",
              "2  empl_contr           ?                  5                   ?   \n",
              "3           ?           ?                  ?                 yes   \n",
              "4           ?           ?                  ?                   ?   \n",
              "5           ?           ?                  6                 yes   \n",
              "6  empl_contr           ?                  ?                   ?   \n",
              "7           ?           ?                  3                   ?   \n",
              "8           ?          12                 25                 yes   \n",
              "9  empl_contr           ?                  4                   ?   \n",
              "\n",
              "  statutory-holidays       vacation longterm-disability-assistance  \\\n",
              "0                 11        average                              ?   \n",
              "1                 11  below_average                              ?   \n",
              "2                 11       generous                            yes   \n",
              "3                  ?              ?                              ?   \n",
              "4                 12        average                              ?   \n",
              "5                 12        average                              ?   \n",
              "6                 12       generous                            yes   \n",
              "7                 12  below_average                              ?   \n",
              "8                 11  below_average                            yes   \n",
              "9                 11       generous                            yes   \n",
              "\n",
              "  contribution-to-dental-plan bereavement-assistance  \\\n",
              "0                           ?                    yes   \n",
              "1                        full                      ?   \n",
              "2                        half                    yes   \n",
              "3                           ?                    yes   \n",
              "4                        half                    yes   \n",
              "5                           ?                      ?   \n",
              "6                        none                    yes   \n",
              "7                           ?                      ?   \n",
              "8                        half                    yes   \n",
              "9                        full                      ?   \n",
              "\n",
              "  contribution-to-health-plan class  \n",
              "0                           ?  good  \n",
              "1                        full  good  \n",
              "2                        half  good  \n",
              "3                           ?  good  \n",
              "4                        half  good  \n",
              "5                           ?  good  \n",
              "6                        half  good  \n",
              "7                           ?  good  \n",
              "8                           ?  good  \n",
              "9                           ?  good  "
            ],
            "text/html": [
              "\n",
              "  <div id=\"df-f5a58d1c-26b6-4c62-834d-15627d36bdbc\">\n",
              "    <div class=\"colab-df-container\">\n",
              "      <div>\n",
              "<style scoped>\n",
              "    .dataframe tbody tr th:only-of-type {\n",
              "        vertical-align: middle;\n",
              "    }\n",
              "\n",
              "    .dataframe tbody tr th {\n",
              "        vertical-align: top;\n",
              "    }\n",
              "\n",
              "    .dataframe thead th {\n",
              "        text-align: right;\n",
              "    }\n",
              "</style>\n",
              "<table border=\"1\" class=\"dataframe\">\n",
              "  <thead>\n",
              "    <tr style=\"text-align: right;\">\n",
              "      <th></th>\n",
              "      <th>duration</th>\n",
              "      <th>wage-increase-first-year</th>\n",
              "      <th>wage-increase-second-year</th>\n",
              "      <th>wage-increase-third-year</th>\n",
              "      <th>cost-of-living-adjustment</th>\n",
              "      <th>working-hours</th>\n",
              "      <th>pension</th>\n",
              "      <th>standby-pay</th>\n",
              "      <th>shift-differential</th>\n",
              "      <th>education-allowance</th>\n",
              "      <th>statutory-holidays</th>\n",
              "      <th>vacation</th>\n",
              "      <th>longterm-disability-assistance</th>\n",
              "      <th>contribution-to-dental-plan</th>\n",
              "      <th>bereavement-assistance</th>\n",
              "      <th>contribution-to-health-plan</th>\n",
              "      <th>class</th>\n",
              "    </tr>\n",
              "  </thead>\n",
              "  <tbody>\n",
              "    <tr>\n",
              "      <th>0</th>\n",
              "      <td>1</td>\n",
              "      <td>5</td>\n",
              "      <td>?</td>\n",
              "      <td>?</td>\n",
              "      <td>?</td>\n",
              "      <td>40</td>\n",
              "      <td>?</td>\n",
              "      <td>?</td>\n",
              "      <td>2</td>\n",
              "      <td>?</td>\n",
              "      <td>11</td>\n",
              "      <td>average</td>\n",
              "      <td>?</td>\n",
              "      <td>?</td>\n",
              "      <td>yes</td>\n",
              "      <td>?</td>\n",
              "      <td>good</td>\n",
              "    </tr>\n",
              "    <tr>\n",
              "      <th>1</th>\n",
              "      <td>2</td>\n",
              "      <td>4.5</td>\n",
              "      <td>5.8</td>\n",
              "      <td>?</td>\n",
              "      <td>?</td>\n",
              "      <td>35</td>\n",
              "      <td>ret_allw</td>\n",
              "      <td>?</td>\n",
              "      <td>?</td>\n",
              "      <td>yes</td>\n",
              "      <td>11</td>\n",
              "      <td>below_average</td>\n",
              "      <td>?</td>\n",
              "      <td>full</td>\n",
              "      <td>?</td>\n",
              "      <td>full</td>\n",
              "      <td>good</td>\n",
              "    </tr>\n",
              "    <tr>\n",
              "      <th>2</th>\n",
              "      <td>?</td>\n",
              "      <td>?</td>\n",
              "      <td>?</td>\n",
              "      <td>?</td>\n",
              "      <td>?</td>\n",
              "      <td>38</td>\n",
              "      <td>empl_contr</td>\n",
              "      <td>?</td>\n",
              "      <td>5</td>\n",
              "      <td>?</td>\n",
              "      <td>11</td>\n",
              "      <td>generous</td>\n",
              "      <td>yes</td>\n",
              "      <td>half</td>\n",
              "      <td>yes</td>\n",
              "      <td>half</td>\n",
              "      <td>good</td>\n",
              "    </tr>\n",
              "    <tr>\n",
              "      <th>3</th>\n",
              "      <td>3</td>\n",
              "      <td>3.7</td>\n",
              "      <td>4</td>\n",
              "      <td>5</td>\n",
              "      <td>tc</td>\n",
              "      <td>?</td>\n",
              "      <td>?</td>\n",
              "      <td>?</td>\n",
              "      <td>?</td>\n",
              "      <td>yes</td>\n",
              "      <td>?</td>\n",
              "      <td>?</td>\n",
              "      <td>?</td>\n",
              "      <td>?</td>\n",
              "      <td>yes</td>\n",
              "      <td>?</td>\n",
              "      <td>good</td>\n",
              "    </tr>\n",
              "    <tr>\n",
              "      <th>4</th>\n",
              "      <td>3</td>\n",
              "      <td>4.5</td>\n",
              "      <td>4.5</td>\n",
              "      <td>5</td>\n",
              "      <td>?</td>\n",
              "      <td>40</td>\n",
              "      <td>?</td>\n",
              "      <td>?</td>\n",
              "      <td>?</td>\n",
              "      <td>?</td>\n",
              "      <td>12</td>\n",
              "      <td>average</td>\n",
              "      <td>?</td>\n",
              "      <td>half</td>\n",
              "      <td>yes</td>\n",
              "      <td>half</td>\n",
              "      <td>good</td>\n",
              "    </tr>\n",
              "    <tr>\n",
              "      <th>5</th>\n",
              "      <td>2</td>\n",
              "      <td>2</td>\n",
              "      <td>2.5</td>\n",
              "      <td>?</td>\n",
              "      <td>?</td>\n",
              "      <td>35</td>\n",
              "      <td>?</td>\n",
              "      <td>?</td>\n",
              "      <td>6</td>\n",
              "      <td>yes</td>\n",
              "      <td>12</td>\n",
              "      <td>average</td>\n",
              "      <td>?</td>\n",
              "      <td>?</td>\n",
              "      <td>?</td>\n",
              "      <td>?</td>\n",
              "      <td>good</td>\n",
              "    </tr>\n",
              "    <tr>\n",
              "      <th>6</th>\n",
              "      <td>3</td>\n",
              "      <td>4</td>\n",
              "      <td>5</td>\n",
              "      <td>5</td>\n",
              "      <td>tc</td>\n",
              "      <td>?</td>\n",
              "      <td>empl_contr</td>\n",
              "      <td>?</td>\n",
              "      <td>?</td>\n",
              "      <td>?</td>\n",
              "      <td>12</td>\n",
              "      <td>generous</td>\n",
              "      <td>yes</td>\n",
              "      <td>none</td>\n",
              "      <td>yes</td>\n",
              "      <td>half</td>\n",
              "      <td>good</td>\n",
              "    </tr>\n",
              "    <tr>\n",
              "      <th>7</th>\n",
              "      <td>3</td>\n",
              "      <td>6.9</td>\n",
              "      <td>4.8</td>\n",
              "      <td>2.3</td>\n",
              "      <td>?</td>\n",
              "      <td>40</td>\n",
              "      <td>?</td>\n",
              "      <td>?</td>\n",
              "      <td>3</td>\n",
              "      <td>?</td>\n",
              "      <td>12</td>\n",
              "      <td>below_average</td>\n",
              "      <td>?</td>\n",
              "      <td>?</td>\n",
              "      <td>?</td>\n",
              "      <td>?</td>\n",
              "      <td>good</td>\n",
              "    </tr>\n",
              "    <tr>\n",
              "      <th>8</th>\n",
              "      <td>2</td>\n",
              "      <td>3</td>\n",
              "      <td>7</td>\n",
              "      <td>?</td>\n",
              "      <td>?</td>\n",
              "      <td>38</td>\n",
              "      <td>?</td>\n",
              "      <td>12</td>\n",
              "      <td>25</td>\n",
              "      <td>yes</td>\n",
              "      <td>11</td>\n",
              "      <td>below_average</td>\n",
              "      <td>yes</td>\n",
              "      <td>half</td>\n",
              "      <td>yes</td>\n",
              "      <td>?</td>\n",
              "      <td>good</td>\n",
              "    </tr>\n",
              "    <tr>\n",
              "      <th>9</th>\n",
              "      <td>1</td>\n",
              "      <td>5.7</td>\n",
              "      <td>?</td>\n",
              "      <td>?</td>\n",
              "      <td>none</td>\n",
              "      <td>40</td>\n",
              "      <td>empl_contr</td>\n",
              "      <td>?</td>\n",
              "      <td>4</td>\n",
              "      <td>?</td>\n",
              "      <td>11</td>\n",
              "      <td>generous</td>\n",
              "      <td>yes</td>\n",
              "      <td>full</td>\n",
              "      <td>?</td>\n",
              "      <td>?</td>\n",
              "      <td>good</td>\n",
              "    </tr>\n",
              "  </tbody>\n",
              "</table>\n",
              "</div>\n",
              "      <button class=\"colab-df-convert\" onclick=\"convertToInteractive('df-f5a58d1c-26b6-4c62-834d-15627d36bdbc')\"\n",
              "              title=\"Convert this dataframe to an interactive table.\"\n",
              "              style=\"display:none;\">\n",
              "        \n",
              "  <svg xmlns=\"http://www.w3.org/2000/svg\" height=\"24px\"viewBox=\"0 0 24 24\"\n",
              "       width=\"24px\">\n",
              "    <path d=\"M0 0h24v24H0V0z\" fill=\"none\"/>\n",
              "    <path d=\"M18.56 5.44l.94 2.06.94-2.06 2.06-.94-2.06-.94-.94-2.06-.94 2.06-2.06.94zm-11 1L8.5 8.5l.94-2.06 2.06-.94-2.06-.94L8.5 2.5l-.94 2.06-2.06.94zm10 10l.94 2.06.94-2.06 2.06-.94-2.06-.94-.94-2.06-.94 2.06-2.06.94z\"/><path d=\"M17.41 7.96l-1.37-1.37c-.4-.4-.92-.59-1.43-.59-.52 0-1.04.2-1.43.59L10.3 9.45l-7.72 7.72c-.78.78-.78 2.05 0 2.83L4 21.41c.39.39.9.59 1.41.59.51 0 1.02-.2 1.41-.59l7.78-7.78 2.81-2.81c.8-.78.8-2.07 0-2.86zM5.41 20L4 18.59l7.72-7.72 1.47 1.35L5.41 20z\"/>\n",
              "  </svg>\n",
              "      </button>\n",
              "      \n",
              "  <style>\n",
              "    .colab-df-container {\n",
              "      display:flex;\n",
              "      flex-wrap:wrap;\n",
              "      gap: 12px;\n",
              "    }\n",
              "\n",
              "    .colab-df-convert {\n",
              "      background-color: #E8F0FE;\n",
              "      border: none;\n",
              "      border-radius: 50%;\n",
              "      cursor: pointer;\n",
              "      display: none;\n",
              "      fill: #1967D2;\n",
              "      height: 32px;\n",
              "      padding: 0 0 0 0;\n",
              "      width: 32px;\n",
              "    }\n",
              "\n",
              "    .colab-df-convert:hover {\n",
              "      background-color: #E2EBFA;\n",
              "      box-shadow: 0px 1px 2px rgba(60, 64, 67, 0.3), 0px 1px 3px 1px rgba(60, 64, 67, 0.15);\n",
              "      fill: #174EA6;\n",
              "    }\n",
              "\n",
              "    [theme=dark] .colab-df-convert {\n",
              "      background-color: #3B4455;\n",
              "      fill: #D2E3FC;\n",
              "    }\n",
              "\n",
              "    [theme=dark] .colab-df-convert:hover {\n",
              "      background-color: #434B5C;\n",
              "      box-shadow: 0px 1px 3px 1px rgba(0, 0, 0, 0.15);\n",
              "      filter: drop-shadow(0px 1px 2px rgba(0, 0, 0, 0.3));\n",
              "      fill: #FFFFFF;\n",
              "    }\n",
              "  </style>\n",
              "\n",
              "      <script>\n",
              "        const buttonEl =\n",
              "          document.querySelector('#df-f5a58d1c-26b6-4c62-834d-15627d36bdbc button.colab-df-convert');\n",
              "        buttonEl.style.display =\n",
              "          google.colab.kernel.accessAllowed ? 'block' : 'none';\n",
              "\n",
              "        async function convertToInteractive(key) {\n",
              "          const element = document.querySelector('#df-f5a58d1c-26b6-4c62-834d-15627d36bdbc');\n",
              "          const dataTable =\n",
              "            await google.colab.kernel.invokeFunction('convertToInteractive',\n",
              "                                                     [key], {});\n",
              "          if (!dataTable) return;\n",
              "\n",
              "          const docLinkHtml = 'Like what you see? Visit the ' +\n",
              "            '<a target=\"_blank\" href=https://colab.research.google.com/notebooks/data_table.ipynb>data table notebook</a>'\n",
              "            + ' to learn more about interactive tables.';\n",
              "          element.innerHTML = '';\n",
              "          dataTable['output_type'] = 'display_data';\n",
              "          await google.colab.output.renderOutput(dataTable, element);\n",
              "          const docLink = document.createElement('div');\n",
              "          docLink.innerHTML = docLinkHtml;\n",
              "          element.appendChild(docLink);\n",
              "        }\n",
              "      </script>\n",
              "    </div>\n",
              "  </div>\n",
              "  "
            ]
          },
          "metadata": {},
          "execution_count": 9
        }
      ]
    },
    {
      "cell_type": "code",
      "source": [
        "heart_data.info()"
      ],
      "metadata": {
        "colab": {
          "base_uri": "https://localhost:8080/"
        },
        "id": "trJqMuU8kEtS",
        "outputId": "e01678c6-f2e4-4196-aa1e-06f7ea2befcb"
      },
      "execution_count": 14,
      "outputs": [
        {
          "output_type": "stream",
          "name": "stdout",
          "text": [
            "<class 'pandas.core.frame.DataFrame'>\n",
            "RangeIndex: 297 entries, 0 to 296\n",
            "Data columns (total 14 columns):\n",
            " #   Column     Non-Null Count  Dtype  \n",
            "---  ------     --------------  -----  \n",
            " 0   age        297 non-null    int64  \n",
            " 1   sex        297 non-null    int64  \n",
            " 2   cp         297 non-null    int64  \n",
            " 3   trestbps   297 non-null    int64  \n",
            " 4   chol       297 non-null    int64  \n",
            " 5   fbs        297 non-null    int64  \n",
            " 6   restecg    297 non-null    int64  \n",
            " 7   thalach    297 non-null    int64  \n",
            " 8   exang      297 non-null    int64  \n",
            " 9   oldpeak    297 non-null    float64\n",
            " 10  slope      297 non-null    int64  \n",
            " 11  ca         297 non-null    int64  \n",
            " 12  thal       297 non-null    int64  \n",
            " 13  condition  297 non-null    int64  \n",
            "dtypes: float64(1), int64(13)\n",
            "memory usage: 32.6 KB\n"
          ]
        }
      ]
    },
    {
      "cell_type": "code",
      "source": [
        "heart_data.head()"
      ],
      "metadata": {
        "colab": {
          "base_uri": "https://localhost:8080/",
          "height": 206
        },
        "id": "5cllyW9Tk55F",
        "outputId": "365dc480-eb50-413a-f851-a7c542bc3acb"
      },
      "execution_count": 15,
      "outputs": [
        {
          "output_type": "execute_result",
          "data": {
            "text/plain": [
              "   age  sex  cp  trestbps  chol  fbs  restecg  thalach  exang  oldpeak  slope  \\\n",
              "0   69    1   0       160   234    1        2      131      0      0.1      1   \n",
              "1   69    0   0       140   239    0        0      151      0      1.8      0   \n",
              "2   66    0   0       150   226    0        0      114      0      2.6      2   \n",
              "3   65    1   0       138   282    1        2      174      0      1.4      1   \n",
              "4   64    1   0       110   211    0        2      144      1      1.8      1   \n",
              "\n",
              "   ca  thal  condition  \n",
              "0   1     0          0  \n",
              "1   2     0          0  \n",
              "2   0     0          0  \n",
              "3   1     0          1  \n",
              "4   0     0          0  "
            ],
            "text/html": [
              "\n",
              "  <div id=\"df-5ee4dc8b-767d-46fa-a49c-e83ac8558094\">\n",
              "    <div class=\"colab-df-container\">\n",
              "      <div>\n",
              "<style scoped>\n",
              "    .dataframe tbody tr th:only-of-type {\n",
              "        vertical-align: middle;\n",
              "    }\n",
              "\n",
              "    .dataframe tbody tr th {\n",
              "        vertical-align: top;\n",
              "    }\n",
              "\n",
              "    .dataframe thead th {\n",
              "        text-align: right;\n",
              "    }\n",
              "</style>\n",
              "<table border=\"1\" class=\"dataframe\">\n",
              "  <thead>\n",
              "    <tr style=\"text-align: right;\">\n",
              "      <th></th>\n",
              "      <th>age</th>\n",
              "      <th>sex</th>\n",
              "      <th>cp</th>\n",
              "      <th>trestbps</th>\n",
              "      <th>chol</th>\n",
              "      <th>fbs</th>\n",
              "      <th>restecg</th>\n",
              "      <th>thalach</th>\n",
              "      <th>exang</th>\n",
              "      <th>oldpeak</th>\n",
              "      <th>slope</th>\n",
              "      <th>ca</th>\n",
              "      <th>thal</th>\n",
              "      <th>condition</th>\n",
              "    </tr>\n",
              "  </thead>\n",
              "  <tbody>\n",
              "    <tr>\n",
              "      <th>0</th>\n",
              "      <td>69</td>\n",
              "      <td>1</td>\n",
              "      <td>0</td>\n",
              "      <td>160</td>\n",
              "      <td>234</td>\n",
              "      <td>1</td>\n",
              "      <td>2</td>\n",
              "      <td>131</td>\n",
              "      <td>0</td>\n",
              "      <td>0.1</td>\n",
              "      <td>1</td>\n",
              "      <td>1</td>\n",
              "      <td>0</td>\n",
              "      <td>0</td>\n",
              "    </tr>\n",
              "    <tr>\n",
              "      <th>1</th>\n",
              "      <td>69</td>\n",
              "      <td>0</td>\n",
              "      <td>0</td>\n",
              "      <td>140</td>\n",
              "      <td>239</td>\n",
              "      <td>0</td>\n",
              "      <td>0</td>\n",
              "      <td>151</td>\n",
              "      <td>0</td>\n",
              "      <td>1.8</td>\n",
              "      <td>0</td>\n",
              "      <td>2</td>\n",
              "      <td>0</td>\n",
              "      <td>0</td>\n",
              "    </tr>\n",
              "    <tr>\n",
              "      <th>2</th>\n",
              "      <td>66</td>\n",
              "      <td>0</td>\n",
              "      <td>0</td>\n",
              "      <td>150</td>\n",
              "      <td>226</td>\n",
              "      <td>0</td>\n",
              "      <td>0</td>\n",
              "      <td>114</td>\n",
              "      <td>0</td>\n",
              "      <td>2.6</td>\n",
              "      <td>2</td>\n",
              "      <td>0</td>\n",
              "      <td>0</td>\n",
              "      <td>0</td>\n",
              "    </tr>\n",
              "    <tr>\n",
              "      <th>3</th>\n",
              "      <td>65</td>\n",
              "      <td>1</td>\n",
              "      <td>0</td>\n",
              "      <td>138</td>\n",
              "      <td>282</td>\n",
              "      <td>1</td>\n",
              "      <td>2</td>\n",
              "      <td>174</td>\n",
              "      <td>0</td>\n",
              "      <td>1.4</td>\n",
              "      <td>1</td>\n",
              "      <td>1</td>\n",
              "      <td>0</td>\n",
              "      <td>1</td>\n",
              "    </tr>\n",
              "    <tr>\n",
              "      <th>4</th>\n",
              "      <td>64</td>\n",
              "      <td>1</td>\n",
              "      <td>0</td>\n",
              "      <td>110</td>\n",
              "      <td>211</td>\n",
              "      <td>0</td>\n",
              "      <td>2</td>\n",
              "      <td>144</td>\n",
              "      <td>1</td>\n",
              "      <td>1.8</td>\n",
              "      <td>1</td>\n",
              "      <td>0</td>\n",
              "      <td>0</td>\n",
              "      <td>0</td>\n",
              "    </tr>\n",
              "  </tbody>\n",
              "</table>\n",
              "</div>\n",
              "      <button class=\"colab-df-convert\" onclick=\"convertToInteractive('df-5ee4dc8b-767d-46fa-a49c-e83ac8558094')\"\n",
              "              title=\"Convert this dataframe to an interactive table.\"\n",
              "              style=\"display:none;\">\n",
              "        \n",
              "  <svg xmlns=\"http://www.w3.org/2000/svg\" height=\"24px\"viewBox=\"0 0 24 24\"\n",
              "       width=\"24px\">\n",
              "    <path d=\"M0 0h24v24H0V0z\" fill=\"none\"/>\n",
              "    <path d=\"M18.56 5.44l.94 2.06.94-2.06 2.06-.94-2.06-.94-.94-2.06-.94 2.06-2.06.94zm-11 1L8.5 8.5l.94-2.06 2.06-.94-2.06-.94L8.5 2.5l-.94 2.06-2.06.94zm10 10l.94 2.06.94-2.06 2.06-.94-2.06-.94-.94-2.06-.94 2.06-2.06.94z\"/><path d=\"M17.41 7.96l-1.37-1.37c-.4-.4-.92-.59-1.43-.59-.52 0-1.04.2-1.43.59L10.3 9.45l-7.72 7.72c-.78.78-.78 2.05 0 2.83L4 21.41c.39.39.9.59 1.41.59.51 0 1.02-.2 1.41-.59l7.78-7.78 2.81-2.81c.8-.78.8-2.07 0-2.86zM5.41 20L4 18.59l7.72-7.72 1.47 1.35L5.41 20z\"/>\n",
              "  </svg>\n",
              "      </button>\n",
              "      \n",
              "  <style>\n",
              "    .colab-df-container {\n",
              "      display:flex;\n",
              "      flex-wrap:wrap;\n",
              "      gap: 12px;\n",
              "    }\n",
              "\n",
              "    .colab-df-convert {\n",
              "      background-color: #E8F0FE;\n",
              "      border: none;\n",
              "      border-radius: 50%;\n",
              "      cursor: pointer;\n",
              "      display: none;\n",
              "      fill: #1967D2;\n",
              "      height: 32px;\n",
              "      padding: 0 0 0 0;\n",
              "      width: 32px;\n",
              "    }\n",
              "\n",
              "    .colab-df-convert:hover {\n",
              "      background-color: #E2EBFA;\n",
              "      box-shadow: 0px 1px 2px rgba(60, 64, 67, 0.3), 0px 1px 3px 1px rgba(60, 64, 67, 0.15);\n",
              "      fill: #174EA6;\n",
              "    }\n",
              "\n",
              "    [theme=dark] .colab-df-convert {\n",
              "      background-color: #3B4455;\n",
              "      fill: #D2E3FC;\n",
              "    }\n",
              "\n",
              "    [theme=dark] .colab-df-convert:hover {\n",
              "      background-color: #434B5C;\n",
              "      box-shadow: 0px 1px 3px 1px rgba(0, 0, 0, 0.15);\n",
              "      filter: drop-shadow(0px 1px 2px rgba(0, 0, 0, 0.3));\n",
              "      fill: #FFFFFF;\n",
              "    }\n",
              "  </style>\n",
              "\n",
              "      <script>\n",
              "        const buttonEl =\n",
              "          document.querySelector('#df-5ee4dc8b-767d-46fa-a49c-e83ac8558094 button.colab-df-convert');\n",
              "        buttonEl.style.display =\n",
              "          google.colab.kernel.accessAllowed ? 'block' : 'none';\n",
              "\n",
              "        async function convertToInteractive(key) {\n",
              "          const element = document.querySelector('#df-5ee4dc8b-767d-46fa-a49c-e83ac8558094');\n",
              "          const dataTable =\n",
              "            await google.colab.kernel.invokeFunction('convertToInteractive',\n",
              "                                                     [key], {});\n",
              "          if (!dataTable) return;\n",
              "\n",
              "          const docLinkHtml = 'Like what you see? Visit the ' +\n",
              "            '<a target=\"_blank\" href=https://colab.research.google.com/notebooks/data_table.ipynb>data table notebook</a>'\n",
              "            + ' to learn more about interactive tables.';\n",
              "          element.innerHTML = '';\n",
              "          dataTable['output_type'] = 'display_data';\n",
              "          await google.colab.output.renderOutput(dataTable, element);\n",
              "          const docLink = document.createElement('div');\n",
              "          docLink.innerHTML = docLinkHtml;\n",
              "          element.appendChild(docLink);\n",
              "        }\n",
              "      </script>\n",
              "    </div>\n",
              "  </div>\n",
              "  "
            ]
          },
          "metadata": {},
          "execution_count": 15
        }
      ]
    },
    {
      "cell_type": "code",
      "source": [
        "new_drug_data = preprocess_data(drug_data)\n",
        "new_drug_data = binarize_labels(new_drug_data)\n",
        "new_drug_columns = new_drug_data.columns\n",
        "#new_drug_X = new_drug_data.drop(labels=[\"caff\"], axis=1)\n",
        "new_drug_data = scale_features(new_drug_data)\n",
        "new_drug_data.shape"
      ],
      "metadata": {
        "colab": {
          "base_uri": "https://localhost:8080/"
        },
        "id": "aiNh-ntzlXl8",
        "outputId": "35300515-b8fb-47e5-f53a-025dd31c9e65"
      },
      "execution_count": 125,
      "outputs": [
        {
          "output_type": "execute_result",
          "data": {
            "text/plain": [
              "(1877, 13)"
            ]
          },
          "metadata": {},
          "execution_count": 125
        }
      ]
    },
    {
      "cell_type": "code",
      "source": [
        "new_drug_columns"
      ],
      "metadata": {
        "colab": {
          "base_uri": "https://localhost:8080/"
        },
        "id": "oXpq79mGDxve",
        "outputId": "3092e77d-58e7-4a6c-b8d5-892ddba58938"
      },
      "execution_count": 126,
      "outputs": [
        {
          "output_type": "execute_result",
          "data": {
            "text/plain": [
              "Index(['age', 'gender', 'education', 'country', 'ethnicity', 'nscore',\n",
              "       'escore', 'oscore', 'ascore', 'cscore', 'impulsive', 'ss', 'caff'],\n",
              "      dtype='object')"
            ]
          },
          "metadata": {},
          "execution_count": 126
        }
      ]
    },
    {
      "cell_type": "code",
      "source": [
        "new_drug_X = pd.DataFrame(new_drug_data)\n",
        "new_drug_X.columns = new_drug_columns"
      ],
      "metadata": {
        "id": "xWoQx-kdq9de"
      },
      "execution_count": 127,
      "outputs": []
    },
    {
      "cell_type": "markdown",
      "source": [
        "### Visualize transformed data"
      ],
      "metadata": {
        "id": "sMZ8zXG-TbpX"
      }
    },
    {
      "cell_type": "code",
      "source": [
        "new_drug_X.describe()"
      ],
      "metadata": {
        "colab": {
          "base_uri": "https://localhost:8080/",
          "height": 364
        },
        "id": "N_x1ELdXAwSs",
        "outputId": "d8ffd833-2533-48ff-8935-0fdca8d17d3a"
      },
      "execution_count": 128,
      "outputs": [
        {
          "output_type": "execute_result",
          "data": {
            "text/plain": [
              "               age       gender    education      country    ethnicity  \\\n",
              "count  1877.000000  1877.000000  1877.000000  1877.000000  1877.000000   \n",
              "mean      0.279243     0.499201     0.550853     0.606877     0.264506   \n",
              "std       0.247874     0.500133     0.214880     0.457053     0.055144   \n",
              "min       0.000000     0.000000     0.000000     0.000000     0.000000   \n",
              "25%       0.000000     0.000000     0.412820     0.000000     0.262143   \n",
              "50%       0.246475     0.000000     0.537681     1.000000     0.262143   \n",
              "75%       0.409137     1.000000     0.653938     1.000000     0.262143   \n",
              "max       1.000000     1.000000     1.000000     1.000000     1.000000   \n",
              "\n",
              "            nscore       escore       oscore       ascore       cscore  \\\n",
              "count  1877.000000  1877.000000  1877.000000  1877.000000  1877.000000   \n",
              "mean      0.514049     0.499702     0.529623     0.499905     0.499943   \n",
              "std       0.148174     0.152327     0.161231     0.143849     0.143989   \n",
              "min       0.000000     0.000000     0.000000     0.000000     0.000000   \n",
              "25%       0.413474     0.393845     0.413998     0.412490     0.405822   \n",
              "50%       0.520448     0.500507     0.527023     0.497505     0.499040   \n",
              "75%       0.607577     0.597404     0.647268     0.609827     0.584415   \n",
              "max       1.000000     1.000000     1.000000     1.000000     1.000000   \n",
              "\n",
              "         impulsive           ss         caff  \n",
              "count  1877.000000  1877.000000  1877.000000  \n",
              "mean      0.469233     0.517741     0.980288  \n",
              "std       0.174853     0.240506     0.139047  \n",
              "min       0.000000     0.000000     0.000000  \n",
              "25%       0.337920     0.388117     1.000000  \n",
              "50%       0.428474     0.539559     1.000000  \n",
              "75%       0.565343     0.710933     1.000000  \n",
              "max       1.000000     1.000000     1.000000  "
            ],
            "text/html": [
              "\n",
              "  <div id=\"df-f110806b-9ecc-4eb9-b497-03dc79a2d1f0\">\n",
              "    <div class=\"colab-df-container\">\n",
              "      <div>\n",
              "<style scoped>\n",
              "    .dataframe tbody tr th:only-of-type {\n",
              "        vertical-align: middle;\n",
              "    }\n",
              "\n",
              "    .dataframe tbody tr th {\n",
              "        vertical-align: top;\n",
              "    }\n",
              "\n",
              "    .dataframe thead th {\n",
              "        text-align: right;\n",
              "    }\n",
              "</style>\n",
              "<table border=\"1\" class=\"dataframe\">\n",
              "  <thead>\n",
              "    <tr style=\"text-align: right;\">\n",
              "      <th></th>\n",
              "      <th>age</th>\n",
              "      <th>gender</th>\n",
              "      <th>education</th>\n",
              "      <th>country</th>\n",
              "      <th>ethnicity</th>\n",
              "      <th>nscore</th>\n",
              "      <th>escore</th>\n",
              "      <th>oscore</th>\n",
              "      <th>ascore</th>\n",
              "      <th>cscore</th>\n",
              "      <th>impulsive</th>\n",
              "      <th>ss</th>\n",
              "      <th>caff</th>\n",
              "    </tr>\n",
              "  </thead>\n",
              "  <tbody>\n",
              "    <tr>\n",
              "      <th>count</th>\n",
              "      <td>1877.000000</td>\n",
              "      <td>1877.000000</td>\n",
              "      <td>1877.000000</td>\n",
              "      <td>1877.000000</td>\n",
              "      <td>1877.000000</td>\n",
              "      <td>1877.000000</td>\n",
              "      <td>1877.000000</td>\n",
              "      <td>1877.000000</td>\n",
              "      <td>1877.000000</td>\n",
              "      <td>1877.000000</td>\n",
              "      <td>1877.000000</td>\n",
              "      <td>1877.000000</td>\n",
              "      <td>1877.000000</td>\n",
              "    </tr>\n",
              "    <tr>\n",
              "      <th>mean</th>\n",
              "      <td>0.279243</td>\n",
              "      <td>0.499201</td>\n",
              "      <td>0.550853</td>\n",
              "      <td>0.606877</td>\n",
              "      <td>0.264506</td>\n",
              "      <td>0.514049</td>\n",
              "      <td>0.499702</td>\n",
              "      <td>0.529623</td>\n",
              "      <td>0.499905</td>\n",
              "      <td>0.499943</td>\n",
              "      <td>0.469233</td>\n",
              "      <td>0.517741</td>\n",
              "      <td>0.980288</td>\n",
              "    </tr>\n",
              "    <tr>\n",
              "      <th>std</th>\n",
              "      <td>0.247874</td>\n",
              "      <td>0.500133</td>\n",
              "      <td>0.214880</td>\n",
              "      <td>0.457053</td>\n",
              "      <td>0.055144</td>\n",
              "      <td>0.148174</td>\n",
              "      <td>0.152327</td>\n",
              "      <td>0.161231</td>\n",
              "      <td>0.143849</td>\n",
              "      <td>0.143989</td>\n",
              "      <td>0.174853</td>\n",
              "      <td>0.240506</td>\n",
              "      <td>0.139047</td>\n",
              "    </tr>\n",
              "    <tr>\n",
              "      <th>min</th>\n",
              "      <td>0.000000</td>\n",
              "      <td>0.000000</td>\n",
              "      <td>0.000000</td>\n",
              "      <td>0.000000</td>\n",
              "      <td>0.000000</td>\n",
              "      <td>0.000000</td>\n",
              "      <td>0.000000</td>\n",
              "      <td>0.000000</td>\n",
              "      <td>0.000000</td>\n",
              "      <td>0.000000</td>\n",
              "      <td>0.000000</td>\n",
              "      <td>0.000000</td>\n",
              "      <td>0.000000</td>\n",
              "    </tr>\n",
              "    <tr>\n",
              "      <th>25%</th>\n",
              "      <td>0.000000</td>\n",
              "      <td>0.000000</td>\n",
              "      <td>0.412820</td>\n",
              "      <td>0.000000</td>\n",
              "      <td>0.262143</td>\n",
              "      <td>0.413474</td>\n",
              "      <td>0.393845</td>\n",
              "      <td>0.413998</td>\n",
              "      <td>0.412490</td>\n",
              "      <td>0.405822</td>\n",
              "      <td>0.337920</td>\n",
              "      <td>0.388117</td>\n",
              "      <td>1.000000</td>\n",
              "    </tr>\n",
              "    <tr>\n",
              "      <th>50%</th>\n",
              "      <td>0.246475</td>\n",
              "      <td>0.000000</td>\n",
              "      <td>0.537681</td>\n",
              "      <td>1.000000</td>\n",
              "      <td>0.262143</td>\n",
              "      <td>0.520448</td>\n",
              "      <td>0.500507</td>\n",
              "      <td>0.527023</td>\n",
              "      <td>0.497505</td>\n",
              "      <td>0.499040</td>\n",
              "      <td>0.428474</td>\n",
              "      <td>0.539559</td>\n",
              "      <td>1.000000</td>\n",
              "    </tr>\n",
              "    <tr>\n",
              "      <th>75%</th>\n",
              "      <td>0.409137</td>\n",
              "      <td>1.000000</td>\n",
              "      <td>0.653938</td>\n",
              "      <td>1.000000</td>\n",
              "      <td>0.262143</td>\n",
              "      <td>0.607577</td>\n",
              "      <td>0.597404</td>\n",
              "      <td>0.647268</td>\n",
              "      <td>0.609827</td>\n",
              "      <td>0.584415</td>\n",
              "      <td>0.565343</td>\n",
              "      <td>0.710933</td>\n",
              "      <td>1.000000</td>\n",
              "    </tr>\n",
              "    <tr>\n",
              "      <th>max</th>\n",
              "      <td>1.000000</td>\n",
              "      <td>1.000000</td>\n",
              "      <td>1.000000</td>\n",
              "      <td>1.000000</td>\n",
              "      <td>1.000000</td>\n",
              "      <td>1.000000</td>\n",
              "      <td>1.000000</td>\n",
              "      <td>1.000000</td>\n",
              "      <td>1.000000</td>\n",
              "      <td>1.000000</td>\n",
              "      <td>1.000000</td>\n",
              "      <td>1.000000</td>\n",
              "      <td>1.000000</td>\n",
              "    </tr>\n",
              "  </tbody>\n",
              "</table>\n",
              "</div>\n",
              "      <button class=\"colab-df-convert\" onclick=\"convertToInteractive('df-f110806b-9ecc-4eb9-b497-03dc79a2d1f0')\"\n",
              "              title=\"Convert this dataframe to an interactive table.\"\n",
              "              style=\"display:none;\">\n",
              "        \n",
              "  <svg xmlns=\"http://www.w3.org/2000/svg\" height=\"24px\"viewBox=\"0 0 24 24\"\n",
              "       width=\"24px\">\n",
              "    <path d=\"M0 0h24v24H0V0z\" fill=\"none\"/>\n",
              "    <path d=\"M18.56 5.44l.94 2.06.94-2.06 2.06-.94-2.06-.94-.94-2.06-.94 2.06-2.06.94zm-11 1L8.5 8.5l.94-2.06 2.06-.94-2.06-.94L8.5 2.5l-.94 2.06-2.06.94zm10 10l.94 2.06.94-2.06 2.06-.94-2.06-.94-.94-2.06-.94 2.06-2.06.94z\"/><path d=\"M17.41 7.96l-1.37-1.37c-.4-.4-.92-.59-1.43-.59-.52 0-1.04.2-1.43.59L10.3 9.45l-7.72 7.72c-.78.78-.78 2.05 0 2.83L4 21.41c.39.39.9.59 1.41.59.51 0 1.02-.2 1.41-.59l7.78-7.78 2.81-2.81c.8-.78.8-2.07 0-2.86zM5.41 20L4 18.59l7.72-7.72 1.47 1.35L5.41 20z\"/>\n",
              "  </svg>\n",
              "      </button>\n",
              "      \n",
              "  <style>\n",
              "    .colab-df-container {\n",
              "      display:flex;\n",
              "      flex-wrap:wrap;\n",
              "      gap: 12px;\n",
              "    }\n",
              "\n",
              "    .colab-df-convert {\n",
              "      background-color: #E8F0FE;\n",
              "      border: none;\n",
              "      border-radius: 50%;\n",
              "      cursor: pointer;\n",
              "      display: none;\n",
              "      fill: #1967D2;\n",
              "      height: 32px;\n",
              "      padding: 0 0 0 0;\n",
              "      width: 32px;\n",
              "    }\n",
              "\n",
              "    .colab-df-convert:hover {\n",
              "      background-color: #E2EBFA;\n",
              "      box-shadow: 0px 1px 2px rgba(60, 64, 67, 0.3), 0px 1px 3px 1px rgba(60, 64, 67, 0.15);\n",
              "      fill: #174EA6;\n",
              "    }\n",
              "\n",
              "    [theme=dark] .colab-df-convert {\n",
              "      background-color: #3B4455;\n",
              "      fill: #D2E3FC;\n",
              "    }\n",
              "\n",
              "    [theme=dark] .colab-df-convert:hover {\n",
              "      background-color: #434B5C;\n",
              "      box-shadow: 0px 1px 3px 1px rgba(0, 0, 0, 0.15);\n",
              "      filter: drop-shadow(0px 1px 2px rgba(0, 0, 0, 0.3));\n",
              "      fill: #FFFFFF;\n",
              "    }\n",
              "  </style>\n",
              "\n",
              "      <script>\n",
              "        const buttonEl =\n",
              "          document.querySelector('#df-f110806b-9ecc-4eb9-b497-03dc79a2d1f0 button.colab-df-convert');\n",
              "        buttonEl.style.display =\n",
              "          google.colab.kernel.accessAllowed ? 'block' : 'none';\n",
              "\n",
              "        async function convertToInteractive(key) {\n",
              "          const element = document.querySelector('#df-f110806b-9ecc-4eb9-b497-03dc79a2d1f0');\n",
              "          const dataTable =\n",
              "            await google.colab.kernel.invokeFunction('convertToInteractive',\n",
              "                                                     [key], {});\n",
              "          if (!dataTable) return;\n",
              "\n",
              "          const docLinkHtml = 'Like what you see? Visit the ' +\n",
              "            '<a target=\"_blank\" href=https://colab.research.google.com/notebooks/data_table.ipynb>data table notebook</a>'\n",
              "            + ' to learn more about interactive tables.';\n",
              "          element.innerHTML = '';\n",
              "          dataTable['output_type'] = 'display_data';\n",
              "          await google.colab.output.renderOutput(dataTable, element);\n",
              "          const docLink = document.createElement('div');\n",
              "          docLink.innerHTML = docLinkHtml;\n",
              "          element.appendChild(docLink);\n",
              "        }\n",
              "      </script>\n",
              "    </div>\n",
              "  </div>\n",
              "  "
            ]
          },
          "metadata": {},
          "execution_count": 128
        }
      ]
    },
    {
      "cell_type": "code",
      "source": [
        "new_drug_X.tail(10)"
      ],
      "metadata": {
        "colab": {
          "base_uri": "https://localhost:8080/",
          "height": 427
        },
        "id": "hkdy-oEcA0YB",
        "outputId": "f8058a6c-76f8-4b65-fa4a-4fd78f31cd7c"
      },
      "execution_count": 129,
      "outputs": [
        {
          "output_type": "execute_result",
          "data": {
            "text/plain": [
              "           age  gender  education   country  ethnicity    nscore    escore  \\\n",
              "1867  0.000000     0.0   0.412820  0.000000   0.409061  0.506431  0.230828   \n",
              "1868  0.246475     0.0   0.412820  0.535185   0.405213  0.492045  0.412116   \n",
              "1869  0.000000     0.0   0.225940  0.000000   0.262143  0.735489  0.206510   \n",
              "1870  0.000000     0.0   0.653938  0.535185   0.262143  0.506431  0.230828   \n",
              "1871  0.000000     0.0   0.412820  0.186098   0.262143  0.396666  0.549172   \n",
              "1872  0.000000     1.0   0.412820  0.000000   0.262143  0.336890  0.765875   \n",
              "1873  0.000000     0.0   0.412820  0.000000   0.262143  0.477550  0.765875   \n",
              "1874  0.246475     1.0   0.653938  0.000000   0.262143  0.682246  0.289795   \n",
              "1875  0.000000     1.0   0.412820  0.000000   0.262143  0.649318  0.206510   \n",
              "1876  0.000000     0.0   0.412820  0.510396   0.262143  0.444788  0.824839   \n",
              "\n",
              "        oscore    ascore    cscore  impulsive        ss  caff  \n",
              "1867  0.624600  0.390173  0.479394   0.705068  0.825752   1.0  \n",
              "1868  0.762567  0.367654  0.387201   0.565343  0.619957   1.0  \n",
              "1869  0.435690  0.244253  0.584415   0.428474  0.825752   1.0  \n",
              "1870  0.673143  0.390173  0.836768   0.337920  0.465658   1.0  \n",
              "1871  0.577652  0.456454  0.460156   0.629735  0.710933   1.0  \n",
              "1872  0.835399  0.609827  0.335773   0.629735  1.000000   1.0  \n",
              "1873  0.624600  0.609827  0.280854   0.629735  0.710933   1.0  \n",
              "1874  0.323599  0.244253  0.300104   0.565343  0.388117   1.0  \n",
              "1875  0.577652  0.266061  0.128634   0.705068  0.825752   1.0  \n",
              "1876  0.798385  0.660789  0.560031   0.629735  0.825752   1.0  "
            ],
            "text/html": [
              "\n",
              "  <div id=\"df-b2e632dc-db5b-4b33-af7a-1fd2a13862d1\">\n",
              "    <div class=\"colab-df-container\">\n",
              "      <div>\n",
              "<style scoped>\n",
              "    .dataframe tbody tr th:only-of-type {\n",
              "        vertical-align: middle;\n",
              "    }\n",
              "\n",
              "    .dataframe tbody tr th {\n",
              "        vertical-align: top;\n",
              "    }\n",
              "\n",
              "    .dataframe thead th {\n",
              "        text-align: right;\n",
              "    }\n",
              "</style>\n",
              "<table border=\"1\" class=\"dataframe\">\n",
              "  <thead>\n",
              "    <tr style=\"text-align: right;\">\n",
              "      <th></th>\n",
              "      <th>age</th>\n",
              "      <th>gender</th>\n",
              "      <th>education</th>\n",
              "      <th>country</th>\n",
              "      <th>ethnicity</th>\n",
              "      <th>nscore</th>\n",
              "      <th>escore</th>\n",
              "      <th>oscore</th>\n",
              "      <th>ascore</th>\n",
              "      <th>cscore</th>\n",
              "      <th>impulsive</th>\n",
              "      <th>ss</th>\n",
              "      <th>caff</th>\n",
              "    </tr>\n",
              "  </thead>\n",
              "  <tbody>\n",
              "    <tr>\n",
              "      <th>1867</th>\n",
              "      <td>0.000000</td>\n",
              "      <td>0.0</td>\n",
              "      <td>0.412820</td>\n",
              "      <td>0.000000</td>\n",
              "      <td>0.409061</td>\n",
              "      <td>0.506431</td>\n",
              "      <td>0.230828</td>\n",
              "      <td>0.624600</td>\n",
              "      <td>0.390173</td>\n",
              "      <td>0.479394</td>\n",
              "      <td>0.705068</td>\n",
              "      <td>0.825752</td>\n",
              "      <td>1.0</td>\n",
              "    </tr>\n",
              "    <tr>\n",
              "      <th>1868</th>\n",
              "      <td>0.246475</td>\n",
              "      <td>0.0</td>\n",
              "      <td>0.412820</td>\n",
              "      <td>0.535185</td>\n",
              "      <td>0.405213</td>\n",
              "      <td>0.492045</td>\n",
              "      <td>0.412116</td>\n",
              "      <td>0.762567</td>\n",
              "      <td>0.367654</td>\n",
              "      <td>0.387201</td>\n",
              "      <td>0.565343</td>\n",
              "      <td>0.619957</td>\n",
              "      <td>1.0</td>\n",
              "    </tr>\n",
              "    <tr>\n",
              "      <th>1869</th>\n",
              "      <td>0.000000</td>\n",
              "      <td>0.0</td>\n",
              "      <td>0.225940</td>\n",
              "      <td>0.000000</td>\n",
              "      <td>0.262143</td>\n",
              "      <td>0.735489</td>\n",
              "      <td>0.206510</td>\n",
              "      <td>0.435690</td>\n",
              "      <td>0.244253</td>\n",
              "      <td>0.584415</td>\n",
              "      <td>0.428474</td>\n",
              "      <td>0.825752</td>\n",
              "      <td>1.0</td>\n",
              "    </tr>\n",
              "    <tr>\n",
              "      <th>1870</th>\n",
              "      <td>0.000000</td>\n",
              "      <td>0.0</td>\n",
              "      <td>0.653938</td>\n",
              "      <td>0.535185</td>\n",
              "      <td>0.262143</td>\n",
              "      <td>0.506431</td>\n",
              "      <td>0.230828</td>\n",
              "      <td>0.673143</td>\n",
              "      <td>0.390173</td>\n",
              "      <td>0.836768</td>\n",
              "      <td>0.337920</td>\n",
              "      <td>0.465658</td>\n",
              "      <td>1.0</td>\n",
              "    </tr>\n",
              "    <tr>\n",
              "      <th>1871</th>\n",
              "      <td>0.000000</td>\n",
              "      <td>0.0</td>\n",
              "      <td>0.412820</td>\n",
              "      <td>0.186098</td>\n",
              "      <td>0.262143</td>\n",
              "      <td>0.396666</td>\n",
              "      <td>0.549172</td>\n",
              "      <td>0.577652</td>\n",
              "      <td>0.456454</td>\n",
              "      <td>0.460156</td>\n",
              "      <td>0.629735</td>\n",
              "      <td>0.710933</td>\n",
              "      <td>1.0</td>\n",
              "    </tr>\n",
              "    <tr>\n",
              "      <th>1872</th>\n",
              "      <td>0.000000</td>\n",
              "      <td>1.0</td>\n",
              "      <td>0.412820</td>\n",
              "      <td>0.000000</td>\n",
              "      <td>0.262143</td>\n",
              "      <td>0.336890</td>\n",
              "      <td>0.765875</td>\n",
              "      <td>0.835399</td>\n",
              "      <td>0.609827</td>\n",
              "      <td>0.335773</td>\n",
              "      <td>0.629735</td>\n",
              "      <td>1.000000</td>\n",
              "      <td>1.0</td>\n",
              "    </tr>\n",
              "    <tr>\n",
              "      <th>1873</th>\n",
              "      <td>0.000000</td>\n",
              "      <td>0.0</td>\n",
              "      <td>0.412820</td>\n",
              "      <td>0.000000</td>\n",
              "      <td>0.262143</td>\n",
              "      <td>0.477550</td>\n",
              "      <td>0.765875</td>\n",
              "      <td>0.624600</td>\n",
              "      <td>0.609827</td>\n",
              "      <td>0.280854</td>\n",
              "      <td>0.629735</td>\n",
              "      <td>0.710933</td>\n",
              "      <td>1.0</td>\n",
              "    </tr>\n",
              "    <tr>\n",
              "      <th>1874</th>\n",
              "      <td>0.246475</td>\n",
              "      <td>1.0</td>\n",
              "      <td>0.653938</td>\n",
              "      <td>0.000000</td>\n",
              "      <td>0.262143</td>\n",
              "      <td>0.682246</td>\n",
              "      <td>0.289795</td>\n",
              "      <td>0.323599</td>\n",
              "      <td>0.244253</td>\n",
              "      <td>0.300104</td>\n",
              "      <td>0.565343</td>\n",
              "      <td>0.388117</td>\n",
              "      <td>1.0</td>\n",
              "    </tr>\n",
              "    <tr>\n",
              "      <th>1875</th>\n",
              "      <td>0.000000</td>\n",
              "      <td>1.0</td>\n",
              "      <td>0.412820</td>\n",
              "      <td>0.000000</td>\n",
              "      <td>0.262143</td>\n",
              "      <td>0.649318</td>\n",
              "      <td>0.206510</td>\n",
              "      <td>0.577652</td>\n",
              "      <td>0.266061</td>\n",
              "      <td>0.128634</td>\n",
              "      <td>0.705068</td>\n",
              "      <td>0.825752</td>\n",
              "      <td>1.0</td>\n",
              "    </tr>\n",
              "    <tr>\n",
              "      <th>1876</th>\n",
              "      <td>0.000000</td>\n",
              "      <td>0.0</td>\n",
              "      <td>0.412820</td>\n",
              "      <td>0.510396</td>\n",
              "      <td>0.262143</td>\n",
              "      <td>0.444788</td>\n",
              "      <td>0.824839</td>\n",
              "      <td>0.798385</td>\n",
              "      <td>0.660789</td>\n",
              "      <td>0.560031</td>\n",
              "      <td>0.629735</td>\n",
              "      <td>0.825752</td>\n",
              "      <td>1.0</td>\n",
              "    </tr>\n",
              "  </tbody>\n",
              "</table>\n",
              "</div>\n",
              "      <button class=\"colab-df-convert\" onclick=\"convertToInteractive('df-b2e632dc-db5b-4b33-af7a-1fd2a13862d1')\"\n",
              "              title=\"Convert this dataframe to an interactive table.\"\n",
              "              style=\"display:none;\">\n",
              "        \n",
              "  <svg xmlns=\"http://www.w3.org/2000/svg\" height=\"24px\"viewBox=\"0 0 24 24\"\n",
              "       width=\"24px\">\n",
              "    <path d=\"M0 0h24v24H0V0z\" fill=\"none\"/>\n",
              "    <path d=\"M18.56 5.44l.94 2.06.94-2.06 2.06-.94-2.06-.94-.94-2.06-.94 2.06-2.06.94zm-11 1L8.5 8.5l.94-2.06 2.06-.94-2.06-.94L8.5 2.5l-.94 2.06-2.06.94zm10 10l.94 2.06.94-2.06 2.06-.94-2.06-.94-.94-2.06-.94 2.06-2.06.94z\"/><path d=\"M17.41 7.96l-1.37-1.37c-.4-.4-.92-.59-1.43-.59-.52 0-1.04.2-1.43.59L10.3 9.45l-7.72 7.72c-.78.78-.78 2.05 0 2.83L4 21.41c.39.39.9.59 1.41.59.51 0 1.02-.2 1.41-.59l7.78-7.78 2.81-2.81c.8-.78.8-2.07 0-2.86zM5.41 20L4 18.59l7.72-7.72 1.47 1.35L5.41 20z\"/>\n",
              "  </svg>\n",
              "      </button>\n",
              "      \n",
              "  <style>\n",
              "    .colab-df-container {\n",
              "      display:flex;\n",
              "      flex-wrap:wrap;\n",
              "      gap: 12px;\n",
              "    }\n",
              "\n",
              "    .colab-df-convert {\n",
              "      background-color: #E8F0FE;\n",
              "      border: none;\n",
              "      border-radius: 50%;\n",
              "      cursor: pointer;\n",
              "      display: none;\n",
              "      fill: #1967D2;\n",
              "      height: 32px;\n",
              "      padding: 0 0 0 0;\n",
              "      width: 32px;\n",
              "    }\n",
              "\n",
              "    .colab-df-convert:hover {\n",
              "      background-color: #E2EBFA;\n",
              "      box-shadow: 0px 1px 2px rgba(60, 64, 67, 0.3), 0px 1px 3px 1px rgba(60, 64, 67, 0.15);\n",
              "      fill: #174EA6;\n",
              "    }\n",
              "\n",
              "    [theme=dark] .colab-df-convert {\n",
              "      background-color: #3B4455;\n",
              "      fill: #D2E3FC;\n",
              "    }\n",
              "\n",
              "    [theme=dark] .colab-df-convert:hover {\n",
              "      background-color: #434B5C;\n",
              "      box-shadow: 0px 1px 3px 1px rgba(0, 0, 0, 0.15);\n",
              "      filter: drop-shadow(0px 1px 2px rgba(0, 0, 0, 0.3));\n",
              "      fill: #FFFFFF;\n",
              "    }\n",
              "  </style>\n",
              "\n",
              "      <script>\n",
              "        const buttonEl =\n",
              "          document.querySelector('#df-b2e632dc-db5b-4b33-af7a-1fd2a13862d1 button.colab-df-convert');\n",
              "        buttonEl.style.display =\n",
              "          google.colab.kernel.accessAllowed ? 'block' : 'none';\n",
              "\n",
              "        async function convertToInteractive(key) {\n",
              "          const element = document.querySelector('#df-b2e632dc-db5b-4b33-af7a-1fd2a13862d1');\n",
              "          const dataTable =\n",
              "            await google.colab.kernel.invokeFunction('convertToInteractive',\n",
              "                                                     [key], {});\n",
              "          if (!dataTable) return;\n",
              "\n",
              "          const docLinkHtml = 'Like what you see? Visit the ' +\n",
              "            '<a target=\"_blank\" href=https://colab.research.google.com/notebooks/data_table.ipynb>data table notebook</a>'\n",
              "            + ' to learn more about interactive tables.';\n",
              "          element.innerHTML = '';\n",
              "          dataTable['output_type'] = 'display_data';\n",
              "          await google.colab.output.renderOutput(dataTable, element);\n",
              "          const docLink = document.createElement('div');\n",
              "          docLink.innerHTML = docLinkHtml;\n",
              "          element.appendChild(docLink);\n",
              "        }\n",
              "      </script>\n",
              "    </div>\n",
              "  </div>\n",
              "  "
            ]
          },
          "metadata": {},
          "execution_count": 129
        }
      ]
    },
    {
      "cell_type": "markdown",
      "source": [
        "### Select important features"
      ],
      "metadata": {
        "id": "XPnvllr_TliY"
      }
    },
    {
      "cell_type": "code",
      "source": [
        "dataset1 = select_features(new_drug_X)\n",
        "dataset1.info()"
      ],
      "metadata": {
        "colab": {
          "base_uri": "https://localhost:8080/"
        },
        "id": "ROKYmr5fB00h",
        "outputId": "ca674a6b-7681-4728-937c-74588c71ef0e"
      },
      "execution_count": 130,
      "outputs": [
        {
          "output_type": "stream",
          "name": "stdout",
          "text": [
            "Index(['age', 'country', 'ethnicity', 'escore', 'oscore', 'cscore', 'ss'], dtype='object')\n",
            "<class 'pandas.core.frame.DataFrame'>\n",
            "RangeIndex: 1877 entries, 0 to 1876\n",
            "Data columns (total 8 columns):\n",
            " #   Column     Non-Null Count  Dtype  \n",
            "---  ------     --------------  -----  \n",
            " 0   age        1877 non-null   float64\n",
            " 1   country    1877 non-null   float64\n",
            " 2   ethnicity  1877 non-null   float64\n",
            " 3   escore     1877 non-null   float64\n",
            " 4   oscore     1877 non-null   float64\n",
            " 5   cscore     1877 non-null   float64\n",
            " 6   ss         1877 non-null   float64\n",
            " 7   caff       1877 non-null   float64\n",
            "dtypes: float64(8)\n",
            "memory usage: 117.4 KB\n"
          ]
        },
        {
          "output_type": "stream",
          "name": "stderr",
          "text": [
            "/usr/local/lib/python3.7/dist-packages/sklearn/base.py:444: UserWarning: X has feature names, but SelectFromModel was fitted without feature names\n",
            "  f\"X has feature names, but {self.__class__.__name__} was fitted without\"\n"
          ]
        }
      ]
    },
    {
      "cell_type": "code",
      "source": [
        "dataset1[\"caff\"].hist()"
      ],
      "metadata": {
        "colab": {
          "base_uri": "https://localhost:8080/",
          "height": 282
        },
        "id": "qJDwvK9-ES5C",
        "outputId": "3c0dce51-2ee6-466e-9881-b3d911ddcb27"
      },
      "execution_count": 131,
      "outputs": [
        {
          "output_type": "execute_result",
          "data": {
            "text/plain": [
              "<matplotlib.axes._subplots.AxesSubplot at 0x7f8e61a57b50>"
            ]
          },
          "metadata": {},
          "execution_count": 131
        },
        {
          "output_type": "display_data",
          "data": {
            "text/plain": [
              "<Figure size 432x288 with 1 Axes>"
            ],
            "image/png": "[encoded data removed]"
          },
          "metadata": {
            "needs_background": "light"
          }
        }
      ]
    },
    {
      "cell_type": "code",
      "source": [
        "x = dataset1.drop(columns=[\"caff\"])\n",
        "y = dataset1[new_drug_columns[-1]].copy()\n",
        "y"
      ],
      "metadata": {
        "colab": {
          "base_uri": "https://localhost:8080/"
        },
        "id": "rznnA-KcoDI3",
        "outputId": "9434833a-90ce-413c-9b3d-4c23a70fbb33"
      },
      "execution_count": 132,
      "outputs": [
        {
          "output_type": "execute_result",
          "data": {
            "text/plain": [
              "0       1.0\n",
              "1       1.0\n",
              "2       1.0\n",
              "3       1.0\n",
              "4       1.0\n",
              "       ... \n",
              "1872    1.0\n",
              "1873    1.0\n",
              "1874    1.0\n",
              "1875    1.0\n",
              "1876    1.0\n",
              "Name: caff, Length: 1877, dtype: float64"
            ]
          },
          "metadata": {},
          "execution_count": 132
        }
      ]
    },
    {
      "cell_type": "code",
      "source": [
        "# Initialize all four estimators\n",
        "decision_tree = DecisionTreeClassifier(max_depth=2)\n",
        "random_forest = RandomForestClassifier(n_estimators=250)\n",
        "support_vector = SVC(kernel='rbf', random_state=42)\n",
        "nearest_neighbor = KNeighborsClassifier(n_neighbors=7)"
      ],
      "metadata": {
        "id": "JLOrQ1QriHfH"
      },
      "execution_count": 72,
      "outputs": []
    },
    {
      "cell_type": "code",
      "source": [
        "algorithms = {\n",
        "    'decision trees': decision_tree,\n",
        "    'random forest': random_forest,\n",
        "    'support vector': support_vector,\n",
        "    'nearest neighbor': nearest_neighbor\n",
        "}"
      ],
      "metadata": {
        "id": "bBljAAKBj-c7"
      },
      "execution_count": 73,
      "outputs": []
    },
    {
      "cell_type": "code",
      "source": [
        "db_results = {}"
      ],
      "metadata": {
        "id": "xZRhR7KbjM_B"
      },
      "execution_count": 168,
      "outputs": []
    },
    {
      "cell_type": "code",
      "source": [
        "import sklearn.metrics as metrics\n",
        "metrics.SCORERS.keys()"
      ],
      "metadata": {
        "colab": {
          "base_uri": "https://localhost:8080/"
        },
        "id": "vXktGGHHz426",
        "outputId": "e69ea78b-5d28-4e66-a9e2-44ff4c087e1d"
      },
      "execution_count": 169,
      "outputs": [
        {
          "output_type": "execute_result",
          "data": {
            "text/plain": [
              "dict_keys(['explained_variance', 'r2', 'max_error', 'neg_median_absolute_error', 'neg_mean_absolute_error', 'neg_mean_absolute_percentage_error', 'neg_mean_squared_error', 'neg_mean_squared_log_error', 'neg_root_mean_squared_error', 'neg_mean_poisson_deviance', 'neg_mean_gamma_deviance', 'accuracy', 'top_k_accuracy', 'roc_auc', 'roc_auc_ovr', 'roc_auc_ovo', 'roc_auc_ovr_weighted', 'roc_auc_ovo_weighted', 'balanced_accuracy', 'average_precision', 'neg_log_loss', 'neg_brier_score', 'adjusted_rand_score', 'rand_score', 'homogeneity_score', 'completeness_score', 'v_measure_score', 'mutual_info_score', 'adjusted_mutual_info_score', 'normalized_mutual_info_score', 'fowlkes_mallows_score', 'precision', 'precision_macro', 'precision_micro', 'precision_samples', 'precision_weighted', 'recall', 'recall_macro', 'recall_micro', 'recall_samples', 'recall_weighted', 'f1', 'f1_macro', 'f1_micro', 'f1_samples', 'f1_weighted', 'jaccard', 'jaccard_macro', 'jaccard_micro', 'jaccard_samples', 'jaccard_weighted'])"
            ]
          },
          "metadata": {},
          "execution_count": 169
        }
      ]
    },
    {
      "cell_type": "code",
      "source": [
        "\n",
        "for algorithm in algorithms:\n",
        "  scores = cross_val_score(algorithms[algorithm], x, y, cv=10, verbose=1, scoring='accuracy')\n",
        "  score = scores.mean()\n",
        "  db_results[algorithm] = round(score * 100, 2)"
      ],
      "metadata": {
        "colab": {
          "base_uri": "https://localhost:8080/"
        },
        "id": "DiEbPOD0lMCF",
        "outputId": "8391b2f4-c282-45f6-849e-9451c8a32cf2"
      },
      "execution_count": 170,
      "outputs": [
        {
          "output_type": "stream",
          "name": "stderr",
          "text": [
            "[Parallel(n_jobs=1)]: Using backend SequentialBackend with 1 concurrent workers.\n",
            "[Parallel(n_jobs=1)]: Done  10 out of  10 | elapsed:    0.1s finished\n",
            "[Parallel(n_jobs=1)]: Using backend SequentialBackend with 1 concurrent workers.\n",
            "[Parallel(n_jobs=1)]: Done  10 out of  10 | elapsed:    6.1s finished\n",
            "[Parallel(n_jobs=1)]: Using backend SequentialBackend with 1 concurrent workers.\n",
            "[Parallel(n_jobs=1)]: Done  10 out of  10 | elapsed:    0.4s finished\n",
            "[Parallel(n_jobs=1)]: Using backend SequentialBackend with 1 concurrent workers.\n",
            "[Parallel(n_jobs=1)]: Done  10 out of  10 | elapsed:    0.1s finished\n"
          ]
        }
      ]
    },
    {
      "cell_type": "code",
      "source": [
        "db_results"
      ],
      "metadata": {
        "colab": {
          "base_uri": "https://localhost:8080/"
        },
        "id": "Uh0SKgZukvTV",
        "outputId": "a982ba50-6562-46f9-df4f-bb871801179b"
      },
      "execution_count": 183,
      "outputs": [
        {
          "output_type": "execute_result",
          "data": {
            "text/plain": [
              "{'decision trees': 98.03,\n",
              " 'random forest': 97.87,\n",
              " 'support vector': 98.03,\n",
              " 'nearest neighbor': 97.98}"
            ]
          },
          "metadata": {},
          "execution_count": 183
        }
      ]
    },
    {
      "cell_type": "code",
      "source": [
        "df = pd.DataFrame(db_results.items(), columns=[\"Algorithm\", \"Average Accuracy\" ])\n",
        "df.to_csv(\"cross_validation.csv\")"
      ],
      "metadata": {
        "id": "wcBEqaEcUkiB"
      },
      "execution_count": 184,
      "outputs": []
    },
    {
      "cell_type": "markdown",
      "source": [
        "### Oversampling\n",
        "\n",
        "Random oversampling involves randomly duplicating examples from the minority class and adding them to the training dataset. Examples from the training dataset are selected randomly with replacement. This means that examples from the minority class can be chosen and added to the new balanced training dataset multiple times"
      ],
      "metadata": {
        "id": "4pP81MAle3Q6"
      }
    },
    {
      "cell_type": "code",
      "source": [
        "print(Counter(y))"
      ],
      "metadata": {
        "colab": {
          "base_uri": "https://localhost:8080/"
        },
        "id": "H1LcVnOLh5a9",
        "outputId": "8992f4fb-6ff1-4bc2-9a92-21ffeb6346f6"
      },
      "execution_count": 97,
      "outputs": [
        {
          "output_type": "stream",
          "name": "stdout",
          "text": [
            "Counter({1.0: 1840, 0.0: 37})\n"
          ]
        }
      ]
    },
    {
      "cell_type": "code",
      "source": [
        "# # define oversampling strategy\n",
        "# oversample = RandomOverSampler(sampling_strategy='minority')\n",
        "# # fit and apply the transform\n",
        "# db1_x, db1_y = oversample.fit_resample(x, y)\n",
        "# # summarize class distribution\n",
        "# print(Counter(db1_y))"
      ],
      "metadata": {
        "colab": {
          "base_uri": "https://localhost:8080/"
        },
        "id": "aJLqkhESeQ-7",
        "outputId": "cd8a99f8-ac5e-4713-86a1-7ae27f9af381"
      },
      "execution_count": 32,
      "outputs": [
        {
          "output_type": "stream",
          "name": "stdout",
          "text": [
            "Counter({1.0: 1840, 0.0: 1840})\n"
          ]
        }
      ]
    },
    {
      "cell_type": "markdown",
      "source": [
        "Both classes now have 1840 instances each"
      ],
      "metadata": {
        "id": "jaggmY4poPB5"
      }
    },
    {
      "cell_type": "markdown",
      "source": [
        "### Retrain all four algorithms on DB1 and perform cross evaluation"
      ],
      "metadata": {
        "id": "UcImAPwKi62s"
      }
    },
    {
      "cell_type": "markdown",
      "source": [
        "### Implement cross validation\n",
        "\n",
        "scikit-learn doesn't give much control over the cross validation process. To get access to the k-1 sample before applying resampling, we will implement cross validation"
      ],
      "metadata": {
        "id": "-Y_PWcGY2TDk"
      }
    },
    {
      "cell_type": "markdown",
      "source": [
        "Accuracy is not the metric of choice given how heavily skewed the data is. Since we are trying to predict a person's risk of drug consumption(the positive class), recall and precision will be better metrics. However, the data is skewed towards the positive class(i.e positive is majority). This means the precision and recall values may equally be overly optimistic"
      ],
      "metadata": {
        "id": "8dJXiLJT4EDX"
      }
    },
    {
      "cell_type": "code",
      "source": [
        "def oversample_cross_validate(model, X, y, folds):\n",
        "    \"\"\"\n",
        "    Creates folds manually, and upsamples within each fold.\n",
        "    Returns an array of accuracy scores\n",
        "    \"\"\"\n",
        "    cv = StratifiedKFold(n_splits=folds)\n",
        "    oversample = RandomOverSampler(sampling_strategy='minority')\n",
        "    scores = []\n",
        "\n",
        "    for train_fold_index, val_fold_index in cv.split(X, y):\n",
        "        # Create a clone of the model\n",
        "        model_obj = clone(model)\n",
        "        # Get the training data\n",
        "        X_train_fold, y_train_fold = X.iloc[train_fold_index], y[train_fold_index]\n",
        "        # Get the validation data\n",
        "        X_val_fold, y_val_fold = X.iloc[val_fold_index], y[val_fold_index]\n",
        "\n",
        "        # Upsample only the data in the training section (DB1)\n",
        "        db1_x, db1_y = oversample.fit_resample(X_train_fold, y_train_fold)\n",
        "\n",
        "        # Fit the model on the upsampled training data (DB1)\n",
        "        model_obj = model.fit(db1_x, db1_y)\n",
        "        # Score the model on the (not sampled) validation data\n",
        "        score = accuracy_score(y_val_fold, model_obj.predict(X_val_fold))\n",
        "        scores.append(score)\n",
        "    return np.array(scores)"
      ],
      "metadata": {
        "id": "Ed47jVLx2EuQ"
      },
      "execution_count": 185,
      "outputs": []
    },
    {
      "cell_type": "code",
      "source": [
        "db1_results = {}\n",
        "\n",
        "for algorithm in algorithms:\n",
        "  scores = oversample_cross_validate(algorithms[algorithm], x, y, 10)\n",
        "  score = scores.mean()\n",
        "  db1_results[algorithm] = round(score * 100, 2)"
      ],
      "metadata": {
        "id": "ZXFcOmIdlqkV"
      },
      "execution_count": 186,
      "outputs": []
    },
    {
      "cell_type": "code",
      "source": [
        "db1_results"
      ],
      "metadata": {
        "colab": {
          "base_uri": "https://localhost:8080/"
        },
        "id": "V7dFVUzCl6C1",
        "outputId": "049dc146-78a3-43f6-c2d6-0e342bdeb92b"
      },
      "execution_count": 187,
      "outputs": [
        {
          "output_type": "execute_result",
          "data": {
            "text/plain": [
              "{'decision trees': 46.04,\n",
              " 'random forest': 97.34,\n",
              " 'support vector': 72.83,\n",
              " 'nearest neighbor': 91.58}"
            ]
          },
          "metadata": {},
          "execution_count": 187
        }
      ]
    },
    {
      "cell_type": "code",
      "source": [
        "df1 = pd.DataFrame(db1_results.items(), columns=[\"Algorithm\", \"Average Accuracy\" ])"
      ],
      "metadata": {
        "id": "pzHYg3_WgtU5"
      },
      "execution_count": 188,
      "outputs": []
    },
    {
      "cell_type": "markdown",
      "source": [
        "### Under-sampling\n",
        "\n",
        "Random undersampling involves randomly selecting examples from the majority class to delete from the training dataset.\n",
        "This has the effect of reducing the number of examples in the majority class in the transformed version of the training dataset. This process can be repeated until the desired class distribution is achieved, such as an equal number of examples for each class"
      ],
      "metadata": {
        "id": "oqMvo1ifnVqP"
      }
    },
    {
      "cell_type": "code",
      "source": [
        "def undersample_cross_validate(model, X, y, folds):\n",
        "    \"\"\"\n",
        "    Creates folds manually, and upsamples within each fold.\n",
        "    Returns an array of accuracy scores\n",
        "    \"\"\"\n",
        "    cv = StratifiedKFold(n_splits=folds)\n",
        "    undersample = RandomUnderSampler(sampling_strategy='majority')\n",
        "    scores = []\n",
        "\n",
        "    for train_fold_index, val_fold_index in cv.split(X, y):\n",
        "        # Create a clone of the model\n",
        "        model_obj = clone(model)\n",
        "        # Get the training data\n",
        "        X_train_fold, y_train_fold = X.iloc[train_fold_index], y[train_fold_index]\n",
        "        # Get the validation data\n",
        "        X_val_fold, y_val_fold = X.iloc[val_fold_index], y[val_fold_index]\n",
        "\n",
        "        # Under sample only the data in the training section(DB2)\n",
        "        db2_x, db2_y = undersample.fit_resample(X_train_fold, y_train_fold)\n",
        "\n",
        "        # Fit the model on the undersampled training data\n",
        "        model_obj = model.fit(db2_x, db2_y)\n",
        "        \n",
        "        # Score the model on the (not sampled) validation data\n",
        "        score = accuracy_score(y_val_fold, model_obj.predict(X_val_fold))\n",
        "        scores.append(score)\n",
        "    return np.array(scores)"
      ],
      "metadata": {
        "id": "XA_GhvTe6T8S"
      },
      "execution_count": 189,
      "outputs": []
    },
    {
      "cell_type": "code",
      "source": [
        "# print(Counter(y))\n",
        "# # define undersample strategy\n",
        "# undersample = RandomUnderSampler(sampling_strategy='majority')\n",
        "# # fit and apply the transform\n",
        "# db2_x, db2_y = undersample.fit_resample(x, y)\n",
        "# # summarize class distribution\n",
        "# print(Counter(db2_y))"
      ],
      "metadata": {
        "colab": {
          "base_uri": "https://localhost:8080/"
        },
        "id": "7q48Ugxtl-eL",
        "outputId": "633c331f-ac50-4455-c8b1-465d72f290ab"
      },
      "execution_count": 46,
      "outputs": [
        {
          "output_type": "stream",
          "name": "stdout",
          "text": [
            "Counter({1.0: 1840, 0.0: 37})\n",
            "Counter({0.0: 37, 1.0: 37})\n"
          ]
        }
      ]
    },
    {
      "cell_type": "markdown",
      "source": [
        "Both classes now have 37 instances each"
      ],
      "metadata": {
        "id": "vHY8EIwmoCUm"
      }
    },
    {
      "cell_type": "markdown",
      "source": [
        "### Retrain all four algorithms on DB2 and perform cross validation"
      ],
      "metadata": {
        "id": "y-ZMhQlYouFH"
      }
    },
    {
      "cell_type": "code",
      "source": [
        "db2_results = {}\n",
        "\n",
        "for algorithm in algorithms:\n",
        "  scores = undersample_cross_validate(algorithms[algorithm], x, y, 10)\n",
        "  score = scores.mean()\n",
        "  db2_results[algorithm] = round(score * 100, 2)\n",
        "\n",
        "db2_results"
      ],
      "metadata": {
        "colab": {
          "base_uri": "https://localhost:8080/"
        },
        "id": "dIR_fSD4n_IV",
        "outputId": "0d4dc79c-327b-4603-d9f8-b61a7a332578"
      },
      "execution_count": 190,
      "outputs": [
        {
          "output_type": "execute_result",
          "data": {
            "text/plain": [
              "{'decision trees': 48.42,\n",
              " 'random forest': 62.44,\n",
              " 'support vector': 52.63,\n",
              " 'nearest neighbor': 61.86}"
            ]
          },
          "metadata": {},
          "execution_count": 190
        }
      ]
    },
    {
      "cell_type": "code",
      "source": [
        "df2 = pd.DataFrame(db2_results.items(), columns=[\"Algorithm\", \"Average Accuracy\" ])"
      ],
      "metadata": {
        "id": "ACExbCarlXGY"
      },
      "execution_count": 191,
      "outputs": []
    },
    {
      "cell_type": "markdown",
      "source": [
        "### MLP and  Gradient Boosting"
      ],
      "metadata": {
        "id": "NkV9vVUTpmyb"
      }
    },
    {
      "cell_type": "code",
      "source": [
        "algorithms2 = {\n",
        "    \"gb\": GradientBoostingClassifier(),\n",
        "    \"mlp\": MLPClassifier(max_iter=100)\n",
        "}\n",
        "# max_iter is the number of epochs, not a hyper parameter"
      ],
      "metadata": {
        "id": "oX2O4Ak6o818"
      },
      "execution_count": 74,
      "outputs": []
    },
    {
      "cell_type": "markdown",
      "source": [
        "### Parameter Search\n",
        "\n",
        "For the gradient boosting classifier, we have to choose the optimal values for the model parameters to get the best accuracy. These parameters include but not limited to the following\n",
        "\n",
        " - Number of trees(where we use trees as the estimator)\n",
        " - Maximum depth of each tree\n",
        " - Learning rate\n",
        "\n",
        "\n",
        "For the MLP, we have to choose the optimal values for the following parameters to get the best accuracy\n",
        "  - Learning rate\n",
        "  - Number of hidden layers\n",
        "  - Optimization algorithm(solver)\n",
        "  - alpha(strength of L2 regularization term)\n",
        "  - activation function\n",
        "   "
      ],
      "metadata": {
        "id": "bErVsMZjrOHL"
      }
    },
    {
      "cell_type": "markdown",
      "source": [
        "### Tuning parameters for the multi-layer perceptron"
      ],
      "metadata": {
        "id": "i0ZcqdxMwzMt"
      }
    },
    {
      "cell_type": "code",
      "source": [
        "parameter_distribution = {\n",
        "    'solver': ['sgd', 'adam'],\n",
        "    'alpha': [0.0001, 0.05],\n",
        "    'learning_rate': ['constant','adaptive'],\n",
        "    'hidden_layer_sizes': [(10,), (20,), (50,), (100)],\n",
        "    'activation': ['tanh', 'relu']\n",
        "}"
      ],
      "metadata": {
        "id": "ZawoxdnEs1Ls"
      },
      "execution_count": 75,
      "outputs": []
    },
    {
      "cell_type": "markdown",
      "source": [
        "Using grid search to get the best parameters for 10 fold cross validation"
      ],
      "metadata": {
        "id": "Q9TYtTZjxMjQ"
      }
    },
    {
      "cell_type": "code",
      "source": [
        "search = GridSearchCV(algorithms2[\"mlp\"], parameter_distribution, n_jobs=-1, cv=10, verbose=1)"
      ],
      "metadata": {
        "id": "sl-SGGRJw54J"
      },
      "execution_count": 76,
      "outputs": []
    },
    {
      "cell_type": "markdown",
      "source": [
        "Find best parameters for D, DB1 and DB2"
      ],
      "metadata": {
        "id": "7rXgqUL0yESp"
      }
    },
    {
      "cell_type": "code",
      "source": [
        "search.fit(x, y)\n",
        "print(f\"Best parameters for D: {search.best_params_}\")"
      ],
      "metadata": {
        "colab": {
          "base_uri": "https://localhost:8080/"
        },
        "id": "NXJOqDqlyBLO",
        "outputId": "dc9a9a6f-7240-423c-a6b2-86f5720373c8"
      },
      "execution_count": 197,
      "outputs": [
        {
          "output_type": "stream",
          "name": "stdout",
          "text": [
            "Fitting 10 folds for each of 64 candidates, totalling 640 fits\n",
            "Best parameters for D: {'activation': 'tanh', 'alpha': 0.0001, 'hidden_layer_sizes': (10,), 'learning_rate': 'constant', 'solver': 'sgd'}\n"
          ]
        }
      ]
    },
    {
      "cell_type": "code",
      "source": [
        "search.best_score_"
      ],
      "metadata": {
        "colab": {
          "base_uri": "https://localhost:8080/"
        },
        "id": "nrfsb3FdnqK8",
        "outputId": "d582ccc8-d8ea-4d22-fea7-5e7179ab0448"
      },
      "execution_count": 198,
      "outputs": [
        {
          "output_type": "execute_result",
          "data": {
            "text/plain": [
              "0.9802935487541244"
            ]
          },
          "metadata": {},
          "execution_count": 198
        }
      ]
    },
    {
      "cell_type": "code",
      "source": [
        "# Random oversampler produces DB1 from X and Y\n",
        "# We use a pipeline to prevent upsampling the validation set\n",
        "# Similar to the oversample_cross_validate() custom function above\n",
        "\n",
        "oversample = RandomOverSampler(sampling_strategy='minority')\n",
        "imba_pipeline = make_pipeline(oversample, \n",
        "                              algorithms2[\"mlp\"])\n",
        "scores = cross_val_score(imba_pipeline, x, y, scoring='accuracy', cv=10)\n",
        "scores.mean()"
      ],
      "metadata": {
        "colab": {
          "base_uri": "https://localhost:8080/"
        },
        "id": "IG7C81gPmtkA",
        "outputId": "d71690e7-432c-4982-c4ee-679f3fe2d981"
      },
      "execution_count": 199,
      "outputs": [
        {
          "output_type": "stream",
          "name": "stderr",
          "text": [
            "/usr/local/lib/python3.7/dist-packages/sklearn/neural_network/_multilayer_perceptron.py:696: ConvergenceWarning: Stochastic Optimizer: Maximum iterations (100) reached and the optimization hasn't converged yet.\n",
            "  ConvergenceWarning,\n",
            "/usr/local/lib/python3.7/dist-packages/sklearn/neural_network/_multilayer_perceptron.py:696: ConvergenceWarning: Stochastic Optimizer: Maximum iterations (100) reached and the optimization hasn't converged yet.\n",
            "  ConvergenceWarning,\n",
            "/usr/local/lib/python3.7/dist-packages/sklearn/neural_network/_multilayer_perceptron.py:696: ConvergenceWarning: Stochastic Optimizer: Maximum iterations (100) reached and the optimization hasn't converged yet.\n",
            "  ConvergenceWarning,\n",
            "/usr/local/lib/python3.7/dist-packages/sklearn/neural_network/_multilayer_perceptron.py:696: ConvergenceWarning: Stochastic Optimizer: Maximum iterations (100) reached and the optimization hasn't converged yet.\n",
            "  ConvergenceWarning,\n",
            "/usr/local/lib/python3.7/dist-packages/sklearn/neural_network/_multilayer_perceptron.py:696: ConvergenceWarning: Stochastic Optimizer: Maximum iterations (100) reached and the optimization hasn't converged yet.\n",
            "  ConvergenceWarning,\n",
            "/usr/local/lib/python3.7/dist-packages/sklearn/neural_network/_multilayer_perceptron.py:696: ConvergenceWarning: Stochastic Optimizer: Maximum iterations (100) reached and the optimization hasn't converged yet.\n",
            "  ConvergenceWarning,\n",
            "/usr/local/lib/python3.7/dist-packages/sklearn/neural_network/_multilayer_perceptron.py:696: ConvergenceWarning: Stochastic Optimizer: Maximum iterations (100) reached and the optimization hasn't converged yet.\n",
            "  ConvergenceWarning,\n",
            "/usr/local/lib/python3.7/dist-packages/sklearn/neural_network/_multilayer_perceptron.py:696: ConvergenceWarning: Stochastic Optimizer: Maximum iterations (100) reached and the optimization hasn't converged yet.\n",
            "  ConvergenceWarning,\n",
            "/usr/local/lib/python3.7/dist-packages/sklearn/neural_network/_multilayer_perceptron.py:696: ConvergenceWarning: Stochastic Optimizer: Maximum iterations (100) reached and the optimization hasn't converged yet.\n",
            "  ConvergenceWarning,\n",
            "/usr/local/lib/python3.7/dist-packages/sklearn/neural_network/_multilayer_perceptron.py:696: ConvergenceWarning: Stochastic Optimizer: Maximum iterations (100) reached and the optimization hasn't converged yet.\n",
            "  ConvergenceWarning,\n"
          ]
        },
        {
          "output_type": "execute_result",
          "data": {
            "text/plain": [
              "0.7149817954261009"
            ]
          },
          "metadata": {},
          "execution_count": 199
        }
      ]
    },
    {
      "cell_type": "code",
      "source": [
        "undersample = RandomUnderSampler(sampling_strategy='majority')\n",
        "imba_pipeline = make_pipeline(undersample, \n",
        "                              algorithms2[\"mlp\"])\n",
        "scores = cross_val_score(imba_pipeline, x, y, scoring='accuracy', cv=10)\n",
        "scores.mean()"
      ],
      "metadata": {
        "colab": {
          "base_uri": "https://localhost:8080/"
        },
        "id": "VDUEOGjcoZoO",
        "outputId": "594cb4cf-aa37-4a9d-d3d4-75abe20d616e"
      },
      "execution_count": 200,
      "outputs": [
        {
          "output_type": "stream",
          "name": "stderr",
          "text": [
            "/usr/local/lib/python3.7/dist-packages/sklearn/neural_network/_multilayer_perceptron.py:696: ConvergenceWarning: Stochastic Optimizer: Maximum iterations (100) reached and the optimization hasn't converged yet.\n",
            "  ConvergenceWarning,\n",
            "/usr/local/lib/python3.7/dist-packages/sklearn/neural_network/_multilayer_perceptron.py:696: ConvergenceWarning: Stochastic Optimizer: Maximum iterations (100) reached and the optimization hasn't converged yet.\n",
            "  ConvergenceWarning,\n",
            "/usr/local/lib/python3.7/dist-packages/sklearn/neural_network/_multilayer_perceptron.py:696: ConvergenceWarning: Stochastic Optimizer: Maximum iterations (100) reached and the optimization hasn't converged yet.\n",
            "  ConvergenceWarning,\n",
            "/usr/local/lib/python3.7/dist-packages/sklearn/neural_network/_multilayer_perceptron.py:696: ConvergenceWarning: Stochastic Optimizer: Maximum iterations (100) reached and the optimization hasn't converged yet.\n",
            "  ConvergenceWarning,\n",
            "/usr/local/lib/python3.7/dist-packages/sklearn/neural_network/_multilayer_perceptron.py:696: ConvergenceWarning: Stochastic Optimizer: Maximum iterations (100) reached and the optimization hasn't converged yet.\n",
            "  ConvergenceWarning,\n",
            "/usr/local/lib/python3.7/dist-packages/sklearn/neural_network/_multilayer_perceptron.py:696: ConvergenceWarning: Stochastic Optimizer: Maximum iterations (100) reached and the optimization hasn't converged yet.\n",
            "  ConvergenceWarning,\n",
            "/usr/local/lib/python3.7/dist-packages/sklearn/neural_network/_multilayer_perceptron.py:696: ConvergenceWarning: Stochastic Optimizer: Maximum iterations (100) reached and the optimization hasn't converged yet.\n",
            "  ConvergenceWarning,\n",
            "/usr/local/lib/python3.7/dist-packages/sklearn/neural_network/_multilayer_perceptron.py:696: ConvergenceWarning: Stochastic Optimizer: Maximum iterations (100) reached and the optimization hasn't converged yet.\n",
            "  ConvergenceWarning,\n",
            "/usr/local/lib/python3.7/dist-packages/sklearn/neural_network/_multilayer_perceptron.py:696: ConvergenceWarning: Stochastic Optimizer: Maximum iterations (100) reached and the optimization hasn't converged yet.\n",
            "  ConvergenceWarning,\n",
            "/usr/local/lib/python3.7/dist-packages/sklearn/neural_network/_multilayer_perceptron.py:696: ConvergenceWarning: Stochastic Optimizer: Maximum iterations (100) reached and the optimization hasn't converged yet.\n",
            "  ConvergenceWarning,\n"
          ]
        },
        {
          "output_type": "execute_result",
          "data": {
            "text/plain": [
              "0.5743486175901695"
            ]
          },
          "metadata": {},
          "execution_count": 200
        }
      ]
    },
    {
      "cell_type": "markdown",
      "source": [
        "### Tuning parameters for gradient boosting"
      ],
      "metadata": {
        "id": "r39rVu8CCu5G"
      }
    },
    {
      "cell_type": "code",
      "source": [
        "gb_parameters = {\n",
        "    \"n_estimators\":[5,50,100,250],\n",
        "    \"max_depth\":[3,5,7],\n",
        "    \"learning_rate\":[0.01,0.1,1]\n",
        "}"
      ],
      "metadata": {
        "id": "fC3ukXsY0La3"
      },
      "execution_count": 77,
      "outputs": []
    },
    {
      "cell_type": "code",
      "source": [
        "gb_search = GridSearchCV(algorithms2[\"gb\"], gb_parameters, n_jobs=-1, cv=10, verbose=1)"
      ],
      "metadata": {
        "id": "4HRUAXEHHoyd"
      },
      "execution_count": 78,
      "outputs": []
    },
    {
      "cell_type": "code",
      "source": [
        "gb_search.fit(x, y)\n",
        "gb_search.best_params_\n",
        "gb_search.best_score_"
      ],
      "metadata": {
        "colab": {
          "base_uri": "https://localhost:8080/"
        },
        "id": "TFEHfiXUH810",
        "outputId": "7fc67f5f-3042-47a2-f6d8-991ebc33d028"
      },
      "execution_count": 203,
      "outputs": [
        {
          "output_type": "stream",
          "name": "stdout",
          "text": [
            "Fitting 10 folds for each of 36 candidates, totalling 360 fits\n"
          ]
        },
        {
          "output_type": "execute_result",
          "data": {
            "text/plain": [
              "0.9802935487541244"
            ]
          },
          "metadata": {},
          "execution_count": 203
        }
      ]
    },
    {
      "cell_type": "markdown",
      "source": [
        "To tune parameters using DB1 and DB2, we will use a pipeline for both oversampling and undersampling\n",
        "\n",
        "Using the pipeline helps maintain independence between training and validation set during oversampling and crossvalidation "
      ],
      "metadata": {
        "id": "R3rfkxuD_-T7"
      }
    },
    {
      "cell_type": "code",
      "source": [
        "oversample = RandomOverSampler(sampling_strategy='minority')\n",
        "imba_pipeline = make_pipeline(oversample, \n",
        "                              algorithms2[\"gb\"])\n",
        "scores = cross_val_score(imba_pipeline, x, y, scoring='accuracy', cv=10)\n",
        "scores.mean()"
      ],
      "metadata": {
        "colab": {
          "base_uri": "https://localhost:8080/"
        },
        "id": "hTM9KP6R_9aE",
        "outputId": "20aff89c-427f-432b-cfb7-98426ea13512"
      },
      "execution_count": 204,
      "outputs": [
        {
          "output_type": "execute_result",
          "data": {
            "text/plain": [
              "0.8913044714984639"
            ]
          },
          "metadata": {},
          "execution_count": 204
        }
      ]
    },
    {
      "cell_type": "code",
      "source": [
        "undersample = RandomUnderSampler(sampling_strategy='majority')\n",
        "imba_pipeline = make_pipeline(undersample, \n",
        "                              algorithms2[\"gb\"])\n",
        "scores = cross_val_score(imba_pipeline, x, y, scoring='accuracy', cv=10)\n",
        "scores.mean()"
      ],
      "metadata": {
        "colab": {
          "base_uri": "https://localhost:8080/"
        },
        "id": "tVT5B2YBpRJG",
        "outputId": "bbec1f23-7ec1-4ef0-fdc7-d5ae9cff5773"
      },
      "execution_count": 205,
      "outputs": [
        {
          "output_type": "execute_result",
          "data": {
            "text/plain": [
              "0.6291557628854251"
            ]
          },
          "metadata": {},
          "execution_count": 205
        }
      ]
    },
    {
      "cell_type": "markdown",
      "source": [
        "### 10 fold cross validation on heart disease data"
      ],
      "metadata": {
        "id": "pqblGiSuQooQ"
      }
    },
    {
      "cell_type": "code",
      "source": [
        "heart_data.head()"
      ],
      "metadata": {
        "colab": {
          "base_uri": "https://localhost:8080/",
          "height": 206
        },
        "id": "5rAvpxroJVVH",
        "outputId": "28a05f2b-fc03-42d8-8a90-c137fb814a64"
      },
      "execution_count": 65,
      "outputs": [
        {
          "output_type": "execute_result",
          "data": {
            "text/plain": [
              "   age  sex  cp  trestbps  chol  fbs  restecg  thalach  exang  oldpeak  slope  \\\n",
              "0   69    1   0       160   234    1        2      131      0      0.1      1   \n",
              "1   69    0   0       140   239    0        0      151      0      1.8      0   \n",
              "2   66    0   0       150   226    0        0      114      0      2.6      2   \n",
              "3   65    1   0       138   282    1        2      174      0      1.4      1   \n",
              "4   64    1   0       110   211    0        2      144      1      1.8      1   \n",
              "\n",
              "   ca  thal  condition  \n",
              "0   1     0          0  \n",
              "1   2     0          0  \n",
              "2   0     0          0  \n",
              "3   1     0          1  \n",
              "4   0     0          0  "
            ],
            "text/html": [
              "\n",
              "  <div id=\"df-66a9a3d1-3cda-4a69-9d41-dd95c9150368\">\n",
              "    <div class=\"colab-df-container\">\n",
              "      <div>\n",
              "<style scoped>\n",
              "    .dataframe tbody tr th:only-of-type {\n",
              "        vertical-align: middle;\n",
              "    }\n",
              "\n",
              "    .dataframe tbody tr th {\n",
              "        vertical-align: top;\n",
              "    }\n",
              "\n",
              "    .dataframe thead th {\n",
              "        text-align: right;\n",
              "    }\n",
              "</style>\n",
              "<table border=\"1\" class=\"dataframe\">\n",
              "  <thead>\n",
              "    <tr style=\"text-align: right;\">\n",
              "      <th></th>\n",
              "      <th>age</th>\n",
              "      <th>sex</th>\n",
              "      <th>cp</th>\n",
              "      <th>trestbps</th>\n",
              "      <th>chol</th>\n",
              "      <th>fbs</th>\n",
              "      <th>restecg</th>\n",
              "      <th>thalach</th>\n",
              "      <th>exang</th>\n",
              "      <th>oldpeak</th>\n",
              "      <th>slope</th>\n",
              "      <th>ca</th>\n",
              "      <th>thal</th>\n",
              "      <th>condition</th>\n",
              "    </tr>\n",
              "  </thead>\n",
              "  <tbody>\n",
              "    <tr>\n",
              "      <th>0</th>\n",
              "      <td>69</td>\n",
              "      <td>1</td>\n",
              "      <td>0</td>\n",
              "      <td>160</td>\n",
              "      <td>234</td>\n",
              "      <td>1</td>\n",
              "      <td>2</td>\n",
              "      <td>131</td>\n",
              "      <td>0</td>\n",
              "      <td>0.1</td>\n",
              "      <td>1</td>\n",
              "      <td>1</td>\n",
              "      <td>0</td>\n",
              "      <td>0</td>\n",
              "    </tr>\n",
              "    <tr>\n",
              "      <th>1</th>\n",
              "      <td>69</td>\n",
              "      <td>0</td>\n",
              "      <td>0</td>\n",
              "      <td>140</td>\n",
              "      <td>239</td>\n",
              "      <td>0</td>\n",
              "      <td>0</td>\n",
              "      <td>151</td>\n",
              "      <td>0</td>\n",
              "      <td>1.8</td>\n",
              "      <td>0</td>\n",
              "      <td>2</td>\n",
              "      <td>0</td>\n",
              "      <td>0</td>\n",
              "    </tr>\n",
              "    <tr>\n",
              "      <th>2</th>\n",
              "      <td>66</td>\n",
              "      <td>0</td>\n",
              "      <td>0</td>\n",
              "      <td>150</td>\n",
              "      <td>226</td>\n",
              "      <td>0</td>\n",
              "      <td>0</td>\n",
              "      <td>114</td>\n",
              "      <td>0</td>\n",
              "      <td>2.6</td>\n",
              "      <td>2</td>\n",
              "      <td>0</td>\n",
              "      <td>0</td>\n",
              "      <td>0</td>\n",
              "    </tr>\n",
              "    <tr>\n",
              "      <th>3</th>\n",
              "      <td>65</td>\n",
              "      <td>1</td>\n",
              "      <td>0</td>\n",
              "      <td>138</td>\n",
              "      <td>282</td>\n",
              "      <td>1</td>\n",
              "      <td>2</td>\n",
              "      <td>174</td>\n",
              "      <td>0</td>\n",
              "      <td>1.4</td>\n",
              "      <td>1</td>\n",
              "      <td>1</td>\n",
              "      <td>0</td>\n",
              "      <td>1</td>\n",
              "    </tr>\n",
              "    <tr>\n",
              "      <th>4</th>\n",
              "      <td>64</td>\n",
              "      <td>1</td>\n",
              "      <td>0</td>\n",
              "      <td>110</td>\n",
              "      <td>211</td>\n",
              "      <td>0</td>\n",
              "      <td>2</td>\n",
              "      <td>144</td>\n",
              "      <td>1</td>\n",
              "      <td>1.8</td>\n",
              "      <td>1</td>\n",
              "      <td>0</td>\n",
              "      <td>0</td>\n",
              "      <td>0</td>\n",
              "    </tr>\n",
              "  </tbody>\n",
              "</table>\n",
              "</div>\n",
              "      <button class=\"colab-df-convert\" onclick=\"convertToInteractive('df-66a9a3d1-3cda-4a69-9d41-dd95c9150368')\"\n",
              "              title=\"Convert this dataframe to an interactive table.\"\n",
              "              style=\"display:none;\">\n",
              "        \n",
              "  <svg xmlns=\"http://www.w3.org/2000/svg\" height=\"24px\"viewBox=\"0 0 24 24\"\n",
              "       width=\"24px\">\n",
              "    <path d=\"M0 0h24v24H0V0z\" fill=\"none\"/>\n",
              "    <path d=\"M18.56 5.44l.94 2.06.94-2.06 2.06-.94-2.06-.94-.94-2.06-.94 2.06-2.06.94zm-11 1L8.5 8.5l.94-2.06 2.06-.94-2.06-.94L8.5 2.5l-.94 2.06-2.06.94zm10 10l.94 2.06.94-2.06 2.06-.94-2.06-.94-.94-2.06-.94 2.06-2.06.94z\"/><path d=\"M17.41 7.96l-1.37-1.37c-.4-.4-.92-.59-1.43-.59-.52 0-1.04.2-1.43.59L10.3 9.45l-7.72 7.72c-.78.78-.78 2.05 0 2.83L4 21.41c.39.39.9.59 1.41.59.51 0 1.02-.2 1.41-.59l7.78-7.78 2.81-2.81c.8-.78.8-2.07 0-2.86zM5.41 20L4 18.59l7.72-7.72 1.47 1.35L5.41 20z\"/>\n",
              "  </svg>\n",
              "      </button>\n",
              "      \n",
              "  <style>\n",
              "    .colab-df-container {\n",
              "      display:flex;\n",
              "      flex-wrap:wrap;\n",
              "      gap: 12px;\n",
              "    }\n",
              "\n",
              "    .colab-df-convert {\n",
              "      background-color: #E8F0FE;\n",
              "      border: none;\n",
              "      border-radius: 50%;\n",
              "      cursor: pointer;\n",
              "      display: none;\n",
              "      fill: #1967D2;\n",
              "      height: 32px;\n",
              "      padding: 0 0 0 0;\n",
              "      width: 32px;\n",
              "    }\n",
              "\n",
              "    .colab-df-convert:hover {\n",
              "      background-color: #E2EBFA;\n",
              "      box-shadow: 0px 1px 2px rgba(60, 64, 67, 0.3), 0px 1px 3px 1px rgba(60, 64, 67, 0.15);\n",
              "      fill: #174EA6;\n",
              "    }\n",
              "\n",
              "    [theme=dark] .colab-df-convert {\n",
              "      background-color: #3B4455;\n",
              "      fill: #D2E3FC;\n",
              "    }\n",
              "\n",
              "    [theme=dark] .colab-df-convert:hover {\n",
              "      background-color: #434B5C;\n",
              "      box-shadow: 0px 1px 3px 1px rgba(0, 0, 0, 0.15);\n",
              "      filter: drop-shadow(0px 1px 2px rgba(0, 0, 0, 0.3));\n",
              "      fill: #FFFFFF;\n",
              "    }\n",
              "  </style>\n",
              "\n",
              "      <script>\n",
              "        const buttonEl =\n",
              "          document.querySelector('#df-66a9a3d1-3cda-4a69-9d41-dd95c9150368 button.colab-df-convert');\n",
              "        buttonEl.style.display =\n",
              "          google.colab.kernel.accessAllowed ? 'block' : 'none';\n",
              "\n",
              "        async function convertToInteractive(key) {\n",
              "          const element = document.querySelector('#df-66a9a3d1-3cda-4a69-9d41-dd95c9150368');\n",
              "          const dataTable =\n",
              "            await google.colab.kernel.invokeFunction('convertToInteractive',\n",
              "                                                     [key], {});\n",
              "          if (!dataTable) return;\n",
              "\n",
              "          const docLinkHtml = 'Like what you see? Visit the ' +\n",
              "            '<a target=\"_blank\" href=https://colab.research.google.com/notebooks/data_table.ipynb>data table notebook</a>'\n",
              "            + ' to learn more about interactive tables.';\n",
              "          element.innerHTML = '';\n",
              "          dataTable['output_type'] = 'display_data';\n",
              "          await google.colab.output.renderOutput(dataTable, element);\n",
              "          const docLink = document.createElement('div');\n",
              "          docLink.innerHTML = docLinkHtml;\n",
              "          element.appendChild(docLink);\n",
              "        }\n",
              "      </script>\n",
              "    </div>\n",
              "  </div>\n",
              "  "
            ]
          },
          "metadata": {},
          "execution_count": 65
        }
      ]
    },
    {
      "cell_type": "markdown",
      "source": [
        "Apply normalization and feature selection"
      ],
      "metadata": {
        "id": "Yk233IlPRVaU"
      }
    },
    {
      "cell_type": "code",
      "source": [
        "heart_columns = heart_data.columns\n",
        "scaled_heart_data = scale_features(heart_data)\n",
        "scaled_heart_data = pd.DataFrame(scaled_heart_data, columns=heart_columns)\n",
        "scaled_heart_data.head()"
      ],
      "metadata": {
        "colab": {
          "base_uri": "https://localhost:8080/",
          "height": 206
        },
        "id": "0K-sfWm5Q-2i",
        "outputId": "c16e95cf-3778-495a-ebfc-a89ee464eb55"
      },
      "execution_count": 66,
      "outputs": [
        {
          "output_type": "execute_result",
          "data": {
            "text/plain": [
              "        age  sex   cp  trestbps      chol  fbs  restecg   thalach  exang  \\\n",
              "0  0.833333  1.0  0.0  0.622642  0.246575  1.0      1.0  0.458015    0.0   \n",
              "1  0.833333  0.0  0.0  0.433962  0.257991  0.0      0.0  0.610687    0.0   \n",
              "2  0.770833  0.0  0.0  0.528302  0.228311  0.0      0.0  0.328244    0.0   \n",
              "3  0.750000  1.0  0.0  0.415094  0.356164  1.0      1.0  0.786260    0.0   \n",
              "4  0.729167  1.0  0.0  0.150943  0.194064  0.0      1.0  0.557252    1.0   \n",
              "\n",
              "    oldpeak  slope        ca  thal  condition  \n",
              "0  0.016129    0.5  0.333333   0.0        0.0  \n",
              "1  0.290323    0.0  0.666667   0.0        0.0  \n",
              "2  0.419355    1.0  0.000000   0.0        0.0  \n",
              "3  0.225806    0.5  0.333333   0.0        1.0  \n",
              "4  0.290323    0.5  0.000000   0.0        0.0  "
            ],
            "text/html": [
              "\n",
              "  <div id=\"df-6dc4ed76-2b36-48ab-9da5-06fe02175518\">\n",
              "    <div class=\"colab-df-container\">\n",
              "      <div>\n",
              "<style scoped>\n",
              "    .dataframe tbody tr th:only-of-type {\n",
              "        vertical-align: middle;\n",
              "    }\n",
              "\n",
              "    .dataframe tbody tr th {\n",
              "        vertical-align: top;\n",
              "    }\n",
              "\n",
              "    .dataframe thead th {\n",
              "        text-align: right;\n",
              "    }\n",
              "</style>\n",
              "<table border=\"1\" class=\"dataframe\">\n",
              "  <thead>\n",
              "    <tr style=\"text-align: right;\">\n",
              "      <th></th>\n",
              "      <th>age</th>\n",
              "      <th>sex</th>\n",
              "      <th>cp</th>\n",
              "      <th>trestbps</th>\n",
              "      <th>chol</th>\n",
              "      <th>fbs</th>\n",
              "      <th>restecg</th>\n",
              "      <th>thalach</th>\n",
              "      <th>exang</th>\n",
              "      <th>oldpeak</th>\n",
              "      <th>slope</th>\n",
              "      <th>ca</th>\n",
              "      <th>thal</th>\n",
              "      <th>condition</th>\n",
              "    </tr>\n",
              "  </thead>\n",
              "  <tbody>\n",
              "    <tr>\n",
              "      <th>0</th>\n",
              "      <td>0.833333</td>\n",
              "      <td>1.0</td>\n",
              "      <td>0.0</td>\n",
              "      <td>0.622642</td>\n",
              "      <td>0.246575</td>\n",
              "      <td>1.0</td>\n",
              "      <td>1.0</td>\n",
              "      <td>0.458015</td>\n",
              "      <td>0.0</td>\n",
              "      <td>0.016129</td>\n",
              "      <td>0.5</td>\n",
              "      <td>0.333333</td>\n",
              "      <td>0.0</td>\n",
              "      <td>0.0</td>\n",
              "    </tr>\n",
              "    <tr>\n",
              "      <th>1</th>\n",
              "      <td>0.833333</td>\n",
              "      <td>0.0</td>\n",
              "      <td>0.0</td>\n",
              "      <td>0.433962</td>\n",
              "      <td>0.257991</td>\n",
              "      <td>0.0</td>\n",
              "      <td>0.0</td>\n",
              "      <td>0.610687</td>\n",
              "      <td>0.0</td>\n",
              "      <td>0.290323</td>\n",
              "      <td>0.0</td>\n",
              "      <td>0.666667</td>\n",
              "      <td>0.0</td>\n",
              "      <td>0.0</td>\n",
              "    </tr>\n",
              "    <tr>\n",
              "      <th>2</th>\n",
              "      <td>0.770833</td>\n",
              "      <td>0.0</td>\n",
              "      <td>0.0</td>\n",
              "      <td>0.528302</td>\n",
              "      <td>0.228311</td>\n",
              "      <td>0.0</td>\n",
              "      <td>0.0</td>\n",
              "      <td>0.328244</td>\n",
              "      <td>0.0</td>\n",
              "      <td>0.419355</td>\n",
              "      <td>1.0</td>\n",
              "      <td>0.000000</td>\n",
              "      <td>0.0</td>\n",
              "      <td>0.0</td>\n",
              "    </tr>\n",
              "    <tr>\n",
              "      <th>3</th>\n",
              "      <td>0.750000</td>\n",
              "      <td>1.0</td>\n",
              "      <td>0.0</td>\n",
              "      <td>0.415094</td>\n",
              "      <td>0.356164</td>\n",
              "      <td>1.0</td>\n",
              "      <td>1.0</td>\n",
              "      <td>0.786260</td>\n",
              "      <td>0.0</td>\n",
              "      <td>0.225806</td>\n",
              "      <td>0.5</td>\n",
              "      <td>0.333333</td>\n",
              "      <td>0.0</td>\n",
              "      <td>1.0</td>\n",
              "    </tr>\n",
              "    <tr>\n",
              "      <th>4</th>\n",
              "      <td>0.729167</td>\n",
              "      <td>1.0</td>\n",
              "      <td>0.0</td>\n",
              "      <td>0.150943</td>\n",
              "      <td>0.194064</td>\n",
              "      <td>0.0</td>\n",
              "      <td>1.0</td>\n",
              "      <td>0.557252</td>\n",
              "      <td>1.0</td>\n",
              "      <td>0.290323</td>\n",
              "      <td>0.5</td>\n",
              "      <td>0.000000</td>\n",
              "      <td>0.0</td>\n",
              "      <td>0.0</td>\n",
              "    </tr>\n",
              "  </tbody>\n",
              "</table>\n",
              "</div>\n",
              "      <button class=\"colab-df-convert\" onclick=\"convertToInteractive('df-6dc4ed76-2b36-48ab-9da5-06fe02175518')\"\n",
              "              title=\"Convert this dataframe to an interactive table.\"\n",
              "              style=\"display:none;\">\n",
              "        \n",
              "  <svg xmlns=\"http://www.w3.org/2000/svg\" height=\"24px\"viewBox=\"0 0 24 24\"\n",
              "       width=\"24px\">\n",
              "    <path d=\"M0 0h24v24H0V0z\" fill=\"none\"/>\n",
              "    <path d=\"M18.56 5.44l.94 2.06.94-2.06 2.06-.94-2.06-.94-.94-2.06-.94 2.06-2.06.94zm-11 1L8.5 8.5l.94-2.06 2.06-.94-2.06-.94L8.5 2.5l-.94 2.06-2.06.94zm10 10l.94 2.06.94-2.06 2.06-.94-2.06-.94-.94-2.06-.94 2.06-2.06.94z\"/><path d=\"M17.41 7.96l-1.37-1.37c-.4-.4-.92-.59-1.43-.59-.52 0-1.04.2-1.43.59L10.3 9.45l-7.72 7.72c-.78.78-.78 2.05 0 2.83L4 21.41c.39.39.9.59 1.41.59.51 0 1.02-.2 1.41-.59l7.78-7.78 2.81-2.81c.8-.78.8-2.07 0-2.86zM5.41 20L4 18.59l7.72-7.72 1.47 1.35L5.41 20z\"/>\n",
              "  </svg>\n",
              "      </button>\n",
              "      \n",
              "  <style>\n",
              "    .colab-df-container {\n",
              "      display:flex;\n",
              "      flex-wrap:wrap;\n",
              "      gap: 12px;\n",
              "    }\n",
              "\n",
              "    .colab-df-convert {\n",
              "      background-color: #E8F0FE;\n",
              "      border: none;\n",
              "      border-radius: 50%;\n",
              "      cursor: pointer;\n",
              "      display: none;\n",
              "      fill: #1967D2;\n",
              "      height: 32px;\n",
              "      padding: 0 0 0 0;\n",
              "      width: 32px;\n",
              "    }\n",
              "\n",
              "    .colab-df-convert:hover {\n",
              "      background-color: #E2EBFA;\n",
              "      box-shadow: 0px 1px 2px rgba(60, 64, 67, 0.3), 0px 1px 3px 1px rgba(60, 64, 67, 0.15);\n",
              "      fill: #174EA6;\n",
              "    }\n",
              "\n",
              "    [theme=dark] .colab-df-convert {\n",
              "      background-color: #3B4455;\n",
              "      fill: #D2E3FC;\n",
              "    }\n",
              "\n",
              "    [theme=dark] .colab-df-convert:hover {\n",
              "      background-color: #434B5C;\n",
              "      box-shadow: 0px 1px 3px 1px rgba(0, 0, 0, 0.15);\n",
              "      filter: drop-shadow(0px 1px 2px rgba(0, 0, 0, 0.3));\n",
              "      fill: #FFFFFF;\n",
              "    }\n",
              "  </style>\n",
              "\n",
              "      <script>\n",
              "        const buttonEl =\n",
              "          document.querySelector('#df-6dc4ed76-2b36-48ab-9da5-06fe02175518 button.colab-df-convert');\n",
              "        buttonEl.style.display =\n",
              "          google.colab.kernel.accessAllowed ? 'block' : 'none';\n",
              "\n",
              "        async function convertToInteractive(key) {\n",
              "          const element = document.querySelector('#df-6dc4ed76-2b36-48ab-9da5-06fe02175518');\n",
              "          const dataTable =\n",
              "            await google.colab.kernel.invokeFunction('convertToInteractive',\n",
              "                                                     [key], {});\n",
              "          if (!dataTable) return;\n",
              "\n",
              "          const docLinkHtml = 'Like what you see? Visit the ' +\n",
              "            '<a target=\"_blank\" href=https://colab.research.google.com/notebooks/data_table.ipynb>data table notebook</a>'\n",
              "            + ' to learn more about interactive tables.';\n",
              "          element.innerHTML = '';\n",
              "          dataTable['output_type'] = 'display_data';\n",
              "          await google.colab.output.renderOutput(dataTable, element);\n",
              "          const docLink = document.createElement('div');\n",
              "          docLink.innerHTML = docLinkHtml;\n",
              "          element.appendChild(docLink);\n",
              "        }\n",
              "      </script>\n",
              "    </div>\n",
              "  </div>\n",
              "  "
            ]
          },
          "metadata": {},
          "execution_count": 66
        }
      ]
    },
    {
      "cell_type": "code",
      "source": [
        "heart_data = select_features(scaled_heart_data)\n",
        "heart_data.info()"
      ],
      "metadata": {
        "colab": {
          "base_uri": "https://localhost:8080/"
        },
        "id": "9t1Lw3xjSSPv",
        "outputId": "8a092858-ba00-45ae-f988-fa6ce178743c"
      },
      "execution_count": 67,
      "outputs": [
        {
          "output_type": "stream",
          "name": "stdout",
          "text": [
            "Index(['cp', 'thalach', 'oldpeak', 'ca', 'thal'], dtype='object')\n",
            "<class 'pandas.core.frame.DataFrame'>\n",
            "RangeIndex: 297 entries, 0 to 296\n",
            "Data columns (total 6 columns):\n",
            " #   Column     Non-Null Count  Dtype  \n",
            "---  ------     --------------  -----  \n",
            " 0   cp         297 non-null    float64\n",
            " 1   thalach    297 non-null    float64\n",
            " 2   oldpeak    297 non-null    float64\n",
            " 3   ca         297 non-null    float64\n",
            " 4   thal       297 non-null    float64\n",
            " 5   condition  297 non-null    float64\n",
            "dtypes: float64(6)\n",
            "memory usage: 14.0 KB\n"
          ]
        },
        {
          "output_type": "stream",
          "name": "stderr",
          "text": [
            "/usr/local/lib/python3.7/dist-packages/sklearn/base.py:444: UserWarning: X has feature names, but SelectFromModel was fitted without feature names\n",
            "  f\"X has feature names, but {self.__class__.__name__} was fitted without\"\n"
          ]
        }
      ]
    },
    {
      "cell_type": "code",
      "source": [
        "heart_x = heart_data.drop(columns=[\"condition\"])\n",
        "heart_y = heart_data[heart_columns[-1]].copy()"
      ],
      "metadata": {
        "id": "f41iTVHLTIPX"
      },
      "execution_count": 69,
      "outputs": []
    },
    {
      "cell_type": "markdown",
      "source": [
        "Train and validate heart data on first 4 algorithms"
      ],
      "metadata": {
        "id": "OSNdkpplUF8p"
      }
    },
    {
      "cell_type": "code",
      "source": [
        "heart_results = {}\n",
        "\n",
        "for algorithm in algorithms:\n",
        "  scores = cross_val_score(algorithms[algorithm], heart_x, heart_y, cv=10, verbose=1)\n",
        "  score = scores.mean()\n",
        "  heart_results[algorithm] = score\n",
        "\n",
        "heart_results"
      ],
      "metadata": {
        "colab": {
          "base_uri": "https://localhost:8080/"
        },
        "id": "jDyvnYdUTlJH",
        "outputId": "acab80cf-0a97-4fc0-b736-90c2a8fe161b"
      },
      "execution_count": 70,
      "outputs": [
        {
          "output_type": "stream",
          "name": "stderr",
          "text": [
            "[Parallel(n_jobs=1)]: Using backend SequentialBackend with 1 concurrent workers.\n",
            "[Parallel(n_jobs=1)]: Done  10 out of  10 | elapsed:    0.1s finished\n",
            "[Parallel(n_jobs=1)]: Using backend SequentialBackend with 1 concurrent workers.\n",
            "[Parallel(n_jobs=1)]: Done  10 out of  10 | elapsed:    4.2s finished\n",
            "[Parallel(n_jobs=1)]: Using backend SequentialBackend with 1 concurrent workers.\n",
            "[Parallel(n_jobs=1)]: Done  10 out of  10 | elapsed:    0.1s finished\n",
            "[Parallel(n_jobs=1)]: Using backend SequentialBackend with 1 concurrent workers.\n",
            "[Parallel(n_jobs=1)]: Done  10 out of  10 | elapsed:    0.1s finished\n"
          ]
        },
        {
          "output_type": "execute_result",
          "data": {
            "text/plain": [
              "{'decision_trees': 0.6289655172413793,\n",
              " 'random_forest': 0.7808045977011494,\n",
              " 'support_vector': 0.8049425287356321,\n",
              " 'nearest_neighbor': 0.8116091954022989}"
            ]
          },
          "metadata": {},
          "execution_count": 70
        }
      ]
    },
    {
      "cell_type": "markdown",
      "source": [
        "### Parameter search for MLP  and GB on heart data"
      ],
      "metadata": {
        "id": "gv58ZZYjufjE"
      }
    },
    {
      "cell_type": "code",
      "source": [
        "search.fit(heart_x, heart_y)\n",
        "search.best_params_\n",
        "search.best_score_"
      ],
      "metadata": {
        "colab": {
          "base_uri": "https://localhost:8080/"
        },
        "id": "Zj0MOLrtUwns",
        "outputId": "2a7ed19d-d6c1-410a-a187-e8453cd4cdc6"
      },
      "execution_count": 207,
      "outputs": [
        {
          "output_type": "stream",
          "name": "stdout",
          "text": [
            "Fitting 10 folds for each of 64 candidates, totalling 640 fits\n"
          ]
        },
        {
          "output_type": "stream",
          "name": "stderr",
          "text": [
            "/usr/local/lib/python3.7/dist-packages/sklearn/neural_network/_multilayer_perceptron.py:696: ConvergenceWarning: Stochastic Optimizer: Maximum iterations (100) reached and the optimization hasn't converged yet.\n",
            "  ConvergenceWarning,\n"
          ]
        },
        {
          "output_type": "execute_result",
          "data": {
            "text/plain": [
              "0.8350574712643679"
            ]
          },
          "metadata": {},
          "execution_count": 207
        }
      ]
    },
    {
      "cell_type": "code",
      "source": [
        "gb_search.fit(heart_x, heart_y)\n",
        "gb_search.best_params_\n",
        "gb_search.best_score_"
      ],
      "metadata": {
        "colab": {
          "base_uri": "https://localhost:8080/"
        },
        "id": "d4xTFJ2IvPpJ",
        "outputId": "ff46128d-37f2-438d-f90b-390333762da1"
      },
      "execution_count": 208,
      "outputs": [
        {
          "output_type": "stream",
          "name": "stdout",
          "text": [
            "Fitting 10 folds for each of 36 candidates, totalling 360 fits\n"
          ]
        },
        {
          "output_type": "execute_result",
          "data": {
            "text/plain": [
              "0.7981609195402299"
            ]
          },
          "metadata": {},
          "execution_count": 208
        }
      ]
    },
    {
      "cell_type": "code",
      "source": [
        "labor_data.info()"
      ],
      "metadata": {
        "colab": {
          "base_uri": "https://localhost:8080/"
        },
        "id": "kQgyeKcJv9hw",
        "outputId": "e4e4bb72-b0cc-4dbb-fc97-071a5b23ed4c"
      },
      "execution_count": 10,
      "outputs": [
        {
          "output_type": "stream",
          "name": "stdout",
          "text": [
            "<class 'pandas.core.frame.DataFrame'>\n",
            "RangeIndex: 57 entries, 0 to 56\n",
            "Data columns (total 17 columns):\n",
            " #   Column                          Non-Null Count  Dtype \n",
            "---  ------                          --------------  ----- \n",
            " 0   duration                        57 non-null     object\n",
            " 1   wage-increase-first-year        57 non-null     object\n",
            " 2   wage-increase-second-year       57 non-null     object\n",
            " 3   wage-increase-third-year        57 non-null     object\n",
            " 4   cost-of-living-adjustment       57 non-null     object\n",
            " 5   working-hours                   57 non-null     object\n",
            " 6   pension                         57 non-null     object\n",
            " 7   standby-pay                     57 non-null     object\n",
            " 8   shift-differential              57 non-null     object\n",
            " 9   education-allowance             57 non-null     object\n",
            " 10  statutory-holidays              57 non-null     object\n",
            " 11  vacation                        57 non-null     object\n",
            " 12  longterm-disability-assistance  57 non-null     object\n",
            " 13  contribution-to-dental-plan     57 non-null     object\n",
            " 14  bereavement-assistance          57 non-null     object\n",
            " 15  contribution-to-health-plan     57 non-null     object\n",
            " 16  class                           57 non-null     object\n",
            "dtypes: object(17)\n",
            "memory usage: 7.7+ KB\n"
          ]
        }
      ]
    },
    {
      "cell_type": "markdown",
      "source": [
        "The combined train and test labor-relations data has a total of 57 instances with missing values. dropping any of these instances is not an option given the size of the dataset"
      ],
      "metadata": {
        "id": "g-XypOFOxM3w"
      }
    },
    {
      "cell_type": "code",
      "source": [
        "new_relations = labor_data.replace('?', np.NaN)"
      ],
      "metadata": {
        "id": "Bq1x8AAmwdmL"
      },
      "execution_count": 34,
      "outputs": []
    },
    {
      "cell_type": "code",
      "source": [
        "new_relations.head()"
      ],
      "metadata": {
        "colab": {
          "base_uri": "https://localhost:8080/",
          "height": 322
        },
        "id": "rOwQA_9DydWy",
        "outputId": "0475df20-475d-47c9-ea72-5d258f60a0ba"
      },
      "execution_count": 35,
      "outputs": [
        {
          "output_type": "execute_result",
          "data": {
            "text/plain": [
              "  duration wage-increase-first-year wage-increase-second-year  \\\n",
              "0        1                        5                       NaN   \n",
              "1        2                      4.5                       5.8   \n",
              "2      NaN                      NaN                       NaN   \n",
              "3        3                      3.7                         4   \n",
              "4        3                      4.5                       4.5   \n",
              "\n",
              "  wage-increase-third-year cost-of-living-adjustment working-hours  \\\n",
              "0                      NaN                       NaN            40   \n",
              "1                      NaN                       NaN            35   \n",
              "2                      NaN                       NaN            38   \n",
              "3                        5                        tc           NaN   \n",
              "4                        5                       NaN            40   \n",
              "\n",
              "      pension standby-pay shift-differential education-allowance  \\\n",
              "0         NaN         NaN                  2                 NaN   \n",
              "1    ret_allw         NaN                NaN                 yes   \n",
              "2  empl_contr         NaN                  5                 NaN   \n",
              "3         NaN         NaN                NaN                 yes   \n",
              "4         NaN         NaN                NaN                 NaN   \n",
              "\n",
              "  statutory-holidays       vacation longterm-disability-assistance  \\\n",
              "0                 11        average                            NaN   \n",
              "1                 11  below_average                            NaN   \n",
              "2                 11       generous                            yes   \n",
              "3                NaN            NaN                            NaN   \n",
              "4                 12        average                            NaN   \n",
              "\n",
              "  contribution-to-dental-plan bereavement-assistance  \\\n",
              "0                         NaN                    yes   \n",
              "1                        full                    NaN   \n",
              "2                        half                    yes   \n",
              "3                         NaN                    yes   \n",
              "4                        half                    yes   \n",
              "\n",
              "  contribution-to-health-plan class  \n",
              "0                         NaN  good  \n",
              "1                        full  good  \n",
              "2                        half  good  \n",
              "3                         NaN  good  \n",
              "4                        half  good  "
            ],
            "text/html": [
              "\n",
              "  <div id=\"df-32abf748-9960-41ab-b371-438178aca094\">\n",
              "    <div class=\"colab-df-container\">\n",
              "      <div>\n",
              "<style scoped>\n",
              "    .dataframe tbody tr th:only-of-type {\n",
              "        vertical-align: middle;\n",
              "    }\n",
              "\n",
              "    .dataframe tbody tr th {\n",
              "        vertical-align: top;\n",
              "    }\n",
              "\n",
              "    .dataframe thead th {\n",
              "        text-align: right;\n",
              "    }\n",
              "</style>\n",
              "<table border=\"1\" class=\"dataframe\">\n",
              "  <thead>\n",
              "    <tr style=\"text-align: right;\">\n",
              "      <th></th>\n",
              "      <th>duration</th>\n",
              "      <th>wage-increase-first-year</th>\n",
              "      <th>wage-increase-second-year</th>\n",
              "      <th>wage-increase-third-year</th>\n",
              "      <th>cost-of-living-adjustment</th>\n",
              "      <th>working-hours</th>\n",
              "      <th>pension</th>\n",
              "      <th>standby-pay</th>\n",
              "      <th>shift-differential</th>\n",
              "      <th>education-allowance</th>\n",
              "      <th>statutory-holidays</th>\n",
              "      <th>vacation</th>\n",
              "      <th>longterm-disability-assistance</th>\n",
              "      <th>contribution-to-dental-plan</th>\n",
              "      <th>bereavement-assistance</th>\n",
              "      <th>contribution-to-health-plan</th>\n",
              "      <th>class</th>\n",
              "    </tr>\n",
              "  </thead>\n",
              "  <tbody>\n",
              "    <tr>\n",
              "      <th>0</th>\n",
              "      <td>1</td>\n",
              "      <td>5</td>\n",
              "      <td>NaN</td>\n",
              "      <td>NaN</td>\n",
              "      <td>NaN</td>\n",
              "      <td>40</td>\n",
              "      <td>NaN</td>\n",
              "      <td>NaN</td>\n",
              "      <td>2</td>\n",
              "      <td>NaN</td>\n",
              "      <td>11</td>\n",
              "      <td>average</td>\n",
              "      <td>NaN</td>\n",
              "      <td>NaN</td>\n",
              "      <td>yes</td>\n",
              "      <td>NaN</td>\n",
              "      <td>good</td>\n",
              "    </tr>\n",
              "    <tr>\n",
              "      <th>1</th>\n",
              "      <td>2</td>\n",
              "      <td>4.5</td>\n",
              "      <td>5.8</td>\n",
              "      <td>NaN</td>\n",
              "      <td>NaN</td>\n",
              "      <td>35</td>\n",
              "      <td>ret_allw</td>\n",
              "      <td>NaN</td>\n",
              "      <td>NaN</td>\n",
              "      <td>yes</td>\n",
              "      <td>11</td>\n",
              "      <td>below_average</td>\n",
              "      <td>NaN</td>\n",
              "      <td>full</td>\n",
              "      <td>NaN</td>\n",
              "      <td>full</td>\n",
              "      <td>good</td>\n",
              "    </tr>\n",
              "    <tr>\n",
              "      <th>2</th>\n",
              "      <td>NaN</td>\n",
              "      <td>NaN</td>\n",
              "      <td>NaN</td>\n",
              "      <td>NaN</td>\n",
              "      <td>NaN</td>\n",
              "      <td>38</td>\n",
              "      <td>empl_contr</td>\n",
              "      <td>NaN</td>\n",
              "      <td>5</td>\n",
              "      <td>NaN</td>\n",
              "      <td>11</td>\n",
              "      <td>generous</td>\n",
              "      <td>yes</td>\n",
              "      <td>half</td>\n",
              "      <td>yes</td>\n",
              "      <td>half</td>\n",
              "      <td>good</td>\n",
              "    </tr>\n",
              "    <tr>\n",
              "      <th>3</th>\n",
              "      <td>3</td>\n",
              "      <td>3.7</td>\n",
              "      <td>4</td>\n",
              "      <td>5</td>\n",
              "      <td>tc</td>\n",
              "      <td>NaN</td>\n",
              "      <td>NaN</td>\n",
              "      <td>NaN</td>\n",
              "      <td>NaN</td>\n",
              "      <td>yes</td>\n",
              "      <td>NaN</td>\n",
              "      <td>NaN</td>\n",
              "      <td>NaN</td>\n",
              "      <td>NaN</td>\n",
              "      <td>yes</td>\n",
              "      <td>NaN</td>\n",
              "      <td>good</td>\n",
              "    </tr>\n",
              "    <tr>\n",
              "      <th>4</th>\n",
              "      <td>3</td>\n",
              "      <td>4.5</td>\n",
              "      <td>4.5</td>\n",
              "      <td>5</td>\n",
              "      <td>NaN</td>\n",
              "      <td>40</td>\n",
              "      <td>NaN</td>\n",
              "      <td>NaN</td>\n",
              "      <td>NaN</td>\n",
              "      <td>NaN</td>\n",
              "      <td>12</td>\n",
              "      <td>average</td>\n",
              "      <td>NaN</td>\n",
              "      <td>half</td>\n",
              "      <td>yes</td>\n",
              "      <td>half</td>\n",
              "      <td>good</td>\n",
              "    </tr>\n",
              "  </tbody>\n",
              "</table>\n",
              "</div>\n",
              "      <button class=\"colab-df-convert\" onclick=\"convertToInteractive('df-32abf748-9960-41ab-b371-438178aca094')\"\n",
              "              title=\"Convert this dataframe to an interactive table.\"\n",
              "              style=\"display:none;\">\n",
              "        \n",
              "  <svg xmlns=\"http://www.w3.org/2000/svg\" height=\"24px\"viewBox=\"0 0 24 24\"\n",
              "       width=\"24px\">\n",
              "    <path d=\"M0 0h24v24H0V0z\" fill=\"none\"/>\n",
              "    <path d=\"M18.56 5.44l.94 2.06.94-2.06 2.06-.94-2.06-.94-.94-2.06-.94 2.06-2.06.94zm-11 1L8.5 8.5l.94-2.06 2.06-.94-2.06-.94L8.5 2.5l-.94 2.06-2.06.94zm10 10l.94 2.06.94-2.06 2.06-.94-2.06-.94-.94-2.06-.94 2.06-2.06.94z\"/><path d=\"M17.41 7.96l-1.37-1.37c-.4-.4-.92-.59-1.43-.59-.52 0-1.04.2-1.43.59L10.3 9.45l-7.72 7.72c-.78.78-.78 2.05 0 2.83L4 21.41c.39.39.9.59 1.41.59.51 0 1.02-.2 1.41-.59l7.78-7.78 2.81-2.81c.8-.78.8-2.07 0-2.86zM5.41 20L4 18.59l7.72-7.72 1.47 1.35L5.41 20z\"/>\n",
              "  </svg>\n",
              "      </button>\n",
              "      \n",
              "  <style>\n",
              "    .colab-df-container {\n",
              "      display:flex;\n",
              "      flex-wrap:wrap;\n",
              "      gap: 12px;\n",
              "    }\n",
              "\n",
              "    .colab-df-convert {\n",
              "      background-color: #E8F0FE;\n",
              "      border: none;\n",
              "      border-radius: 50%;\n",
              "      cursor: pointer;\n",
              "      display: none;\n",
              "      fill: #1967D2;\n",
              "      height: 32px;\n",
              "      padding: 0 0 0 0;\n",
              "      width: 32px;\n",
              "    }\n",
              "\n",
              "    .colab-df-convert:hover {\n",
              "      background-color: #E2EBFA;\n",
              "      box-shadow: 0px 1px 2px rgba(60, 64, 67, 0.3), 0px 1px 3px 1px rgba(60, 64, 67, 0.15);\n",
              "      fill: #174EA6;\n",
              "    }\n",
              "\n",
              "    [theme=dark] .colab-df-convert {\n",
              "      background-color: #3B4455;\n",
              "      fill: #D2E3FC;\n",
              "    }\n",
              "\n",
              "    [theme=dark] .colab-df-convert:hover {\n",
              "      background-color: #434B5C;\n",
              "      box-shadow: 0px 1px 3px 1px rgba(0, 0, 0, 0.15);\n",
              "      filter: drop-shadow(0px 1px 2px rgba(0, 0, 0, 0.3));\n",
              "      fill: #FFFFFF;\n",
              "    }\n",
              "  </style>\n",
              "\n",
              "      <script>\n",
              "        const buttonEl =\n",
              "          document.querySelector('#df-32abf748-9960-41ab-b371-438178aca094 button.colab-df-convert');\n",
              "        buttonEl.style.display =\n",
              "          google.colab.kernel.accessAllowed ? 'block' : 'none';\n",
              "\n",
              "        async function convertToInteractive(key) {\n",
              "          const element = document.querySelector('#df-32abf748-9960-41ab-b371-438178aca094');\n",
              "          const dataTable =\n",
              "            await google.colab.kernel.invokeFunction('convertToInteractive',\n",
              "                                                     [key], {});\n",
              "          if (!dataTable) return;\n",
              "\n",
              "          const docLinkHtml = 'Like what you see? Visit the ' +\n",
              "            '<a target=\"_blank\" href=https://colab.research.google.com/notebooks/data_table.ipynb>data table notebook</a>'\n",
              "            + ' to learn more about interactive tables.';\n",
              "          element.innerHTML = '';\n",
              "          dataTable['output_type'] = 'display_data';\n",
              "          await google.colab.output.renderOutput(dataTable, element);\n",
              "          const docLink = document.createElement('div');\n",
              "          docLink.innerHTML = docLinkHtml;\n",
              "          element.appendChild(docLink);\n",
              "        }\n",
              "      </script>\n",
              "    </div>\n",
              "  </div>\n",
              "  "
            ]
          },
          "metadata": {},
          "execution_count": 35
        }
      ]
    },
    {
      "cell_type": "code",
      "source": [
        "new_relations = new_relations.fillna(method='ffill').fillna(method='bfill')"
      ],
      "metadata": {
        "id": "p_51OrwFyf0T"
      },
      "execution_count": 36,
      "outputs": []
    },
    {
      "cell_type": "code",
      "source": [
        "new_relations.tail()"
      ],
      "metadata": {
        "colab": {
          "base_uri": "https://localhost:8080/",
          "height": 322
        },
        "id": "6i6lr-KXzzIj",
        "outputId": "9711f25c-5439-4a93-d73e-3c1b8107b75b"
      },
      "execution_count": 37,
      "outputs": [
        {
          "output_type": "execute_result",
          "data": {
            "text/plain": [
              "   duration wage-increase-first-year wage-increase-second-year  \\\n",
              "52        3                      3.5                         4   \n",
              "53        3                        4                       3.5   \n",
              "54        3                        5                       4.4   \n",
              "55        3                        5                         5   \n",
              "56        3                        6                         6   \n",
              "\n",
              "   wage-increase-third-year cost-of-living-adjustment working-hours  \\\n",
              "52                      4.5                       tcf            35   \n",
              "53                      4.5                      none            40   \n",
              "54                      4.5                      none            38   \n",
              "55                        5                      none            40   \n",
              "56                        4                      none            35   \n",
              "\n",
              "       pension standby-pay shift-differential education-allowance  \\\n",
              "52  empl_contr          14                  5                 yes   \n",
              "53  empl_contr          14                  6                 yes   \n",
              "54  empl_contr          10                  6                 yes   \n",
              "55  empl_contr          10                  6                 yes   \n",
              "56  empl_contr          10                 14                 yes   \n",
              "\n",
              "   statutory-holidays  vacation longterm-disability-assistance  \\\n",
              "52                 13  generous                            yes   \n",
              "53                 11   average                            yes   \n",
              "54                 11  generous                            yes   \n",
              "55                 12   average                            yes   \n",
              "56                  9  generous                            yes   \n",
              "\n",
              "   contribution-to-dental-plan bereavement-assistance  \\\n",
              "52                        half                    yes   \n",
              "53                        full                    yes   \n",
              "54                        full                    yes   \n",
              "55                        half                    yes   \n",
              "56                        full                    yes   \n",
              "\n",
              "   contribution-to-health-plan class  \n",
              "52                        full  good  \n",
              "53                        full  good  \n",
              "54                        full  good  \n",
              "55                        half  good  \n",
              "56                        full  good  "
            ],
            "text/html": [
              "\n",
              "  <div id=\"df-fe22b4e6-2915-4a09-b0ab-e163f505bb0f\">\n",
              "    <div class=\"colab-df-container\">\n",
              "      <div>\n",
              "<style scoped>\n",
              "    .dataframe tbody tr th:only-of-type {\n",
              "        vertical-align: middle;\n",
              "    }\n",
              "\n",
              "    .dataframe tbody tr th {\n",
              "        vertical-align: top;\n",
              "    }\n",
              "\n",
              "    .dataframe thead th {\n",
              "        text-align: right;\n",
              "    }\n",
              "</style>\n",
              "<table border=\"1\" class=\"dataframe\">\n",
              "  <thead>\n",
              "    <tr style=\"text-align: right;\">\n",
              "      <th></th>\n",
              "      <th>duration</th>\n",
              "      <th>wage-increase-first-year</th>\n",
              "      <th>wage-increase-second-year</th>\n",
              "      <th>wage-increase-third-year</th>\n",
              "      <th>cost-of-living-adjustment</th>\n",
              "      <th>working-hours</th>\n",
              "      <th>pension</th>\n",
              "      <th>standby-pay</th>\n",
              "      <th>shift-differential</th>\n",
              "      <th>education-allowance</th>\n",
              "      <th>statutory-holidays</th>\n",
              "      <th>vacation</th>\n",
              "      <th>longterm-disability-assistance</th>\n",
              "      <th>contribution-to-dental-plan</th>\n",
              "      <th>bereavement-assistance</th>\n",
              "      <th>contribution-to-health-plan</th>\n",
              "      <th>class</th>\n",
              "    </tr>\n",
              "  </thead>\n",
              "  <tbody>\n",
              "    <tr>\n",
              "      <th>52</th>\n",
              "      <td>3</td>\n",
              "      <td>3.5</td>\n",
              "      <td>4</td>\n",
              "      <td>4.5</td>\n",
              "      <td>tcf</td>\n",
              "      <td>35</td>\n",
              "      <td>empl_contr</td>\n",
              "      <td>14</td>\n",
              "      <td>5</td>\n",
              "      <td>yes</td>\n",
              "      <td>13</td>\n",
              "      <td>generous</td>\n",
              "      <td>yes</td>\n",
              "      <td>half</td>\n",
              "      <td>yes</td>\n",
              "      <td>full</td>\n",
              "      <td>good</td>\n",
              "    </tr>\n",
              "    <tr>\n",
              "      <th>53</th>\n",
              "      <td>3</td>\n",
              "      <td>4</td>\n",
              "      <td>3.5</td>\n",
              "      <td>4.5</td>\n",
              "      <td>none</td>\n",
              "      <td>40</td>\n",
              "      <td>empl_contr</td>\n",
              "      <td>14</td>\n",
              "      <td>6</td>\n",
              "      <td>yes</td>\n",
              "      <td>11</td>\n",
              "      <td>average</td>\n",
              "      <td>yes</td>\n",
              "      <td>full</td>\n",
              "      <td>yes</td>\n",
              "      <td>full</td>\n",
              "      <td>good</td>\n",
              "    </tr>\n",
              "    <tr>\n",
              "      <th>54</th>\n",
              "      <td>3</td>\n",
              "      <td>5</td>\n",
              "      <td>4.4</td>\n",
              "      <td>4.5</td>\n",
              "      <td>none</td>\n",
              "      <td>38</td>\n",
              "      <td>empl_contr</td>\n",
              "      <td>10</td>\n",
              "      <td>6</td>\n",
              "      <td>yes</td>\n",
              "      <td>11</td>\n",
              "      <td>generous</td>\n",
              "      <td>yes</td>\n",
              "      <td>full</td>\n",
              "      <td>yes</td>\n",
              "      <td>full</td>\n",
              "      <td>good</td>\n",
              "    </tr>\n",
              "    <tr>\n",
              "      <th>55</th>\n",
              "      <td>3</td>\n",
              "      <td>5</td>\n",
              "      <td>5</td>\n",
              "      <td>5</td>\n",
              "      <td>none</td>\n",
              "      <td>40</td>\n",
              "      <td>empl_contr</td>\n",
              "      <td>10</td>\n",
              "      <td>6</td>\n",
              "      <td>yes</td>\n",
              "      <td>12</td>\n",
              "      <td>average</td>\n",
              "      <td>yes</td>\n",
              "      <td>half</td>\n",
              "      <td>yes</td>\n",
              "      <td>half</td>\n",
              "      <td>good</td>\n",
              "    </tr>\n",
              "    <tr>\n",
              "      <th>56</th>\n",
              "      <td>3</td>\n",
              "      <td>6</td>\n",
              "      <td>6</td>\n",
              "      <td>4</td>\n",
              "      <td>none</td>\n",
              "      <td>35</td>\n",
              "      <td>empl_contr</td>\n",
              "      <td>10</td>\n",
              "      <td>14</td>\n",
              "      <td>yes</td>\n",
              "      <td>9</td>\n",
              "      <td>generous</td>\n",
              "      <td>yes</td>\n",
              "      <td>full</td>\n",
              "      <td>yes</td>\n",
              "      <td>full</td>\n",
              "      <td>good</td>\n",
              "    </tr>\n",
              "  </tbody>\n",
              "</table>\n",
              "</div>\n",
              "      <button class=\"colab-df-convert\" onclick=\"convertToInteractive('df-fe22b4e6-2915-4a09-b0ab-e163f505bb0f')\"\n",
              "              title=\"Convert this dataframe to an interactive table.\"\n",
              "              style=\"display:none;\">\n",
              "        \n",
              "  <svg xmlns=\"http://www.w3.org/2000/svg\" height=\"24px\"viewBox=\"0 0 24 24\"\n",
              "       width=\"24px\">\n",
              "    <path d=\"M0 0h24v24H0V0z\" fill=\"none\"/>\n",
              "    <path d=\"M18.56 5.44l.94 2.06.94-2.06 2.06-.94-2.06-.94-.94-2.06-.94 2.06-2.06.94zm-11 1L8.5 8.5l.94-2.06 2.06-.94-2.06-.94L8.5 2.5l-.94 2.06-2.06.94zm10 10l.94 2.06.94-2.06 2.06-.94-2.06-.94-.94-2.06-.94 2.06-2.06.94z\"/><path d=\"M17.41 7.96l-1.37-1.37c-.4-.4-.92-.59-1.43-.59-.52 0-1.04.2-1.43.59L10.3 9.45l-7.72 7.72c-.78.78-.78 2.05 0 2.83L4 21.41c.39.39.9.59 1.41.59.51 0 1.02-.2 1.41-.59l7.78-7.78 2.81-2.81c.8-.78.8-2.07 0-2.86zM5.41 20L4 18.59l7.72-7.72 1.47 1.35L5.41 20z\"/>\n",
              "  </svg>\n",
              "      </button>\n",
              "      \n",
              "  <style>\n",
              "    .colab-df-container {\n",
              "      display:flex;\n",
              "      flex-wrap:wrap;\n",
              "      gap: 12px;\n",
              "    }\n",
              "\n",
              "    .colab-df-convert {\n",
              "      background-color: #E8F0FE;\n",
              "      border: none;\n",
              "      border-radius: 50%;\n",
              "      cursor: pointer;\n",
              "      display: none;\n",
              "      fill: #1967D2;\n",
              "      height: 32px;\n",
              "      padding: 0 0 0 0;\n",
              "      width: 32px;\n",
              "    }\n",
              "\n",
              "    .colab-df-convert:hover {\n",
              "      background-color: #E2EBFA;\n",
              "      box-shadow: 0px 1px 2px rgba(60, 64, 67, 0.3), 0px 1px 3px 1px rgba(60, 64, 67, 0.15);\n",
              "      fill: #174EA6;\n",
              "    }\n",
              "\n",
              "    [theme=dark] .colab-df-convert {\n",
              "      background-color: #3B4455;\n",
              "      fill: #D2E3FC;\n",
              "    }\n",
              "\n",
              "    [theme=dark] .colab-df-convert:hover {\n",
              "      background-color: #434B5C;\n",
              "      box-shadow: 0px 1px 3px 1px rgba(0, 0, 0, 0.15);\n",
              "      filter: drop-shadow(0px 1px 2px rgba(0, 0, 0, 0.3));\n",
              "      fill: #FFFFFF;\n",
              "    }\n",
              "  </style>\n",
              "\n",
              "      <script>\n",
              "        const buttonEl =\n",
              "          document.querySelector('#df-fe22b4e6-2915-4a09-b0ab-e163f505bb0f button.colab-df-convert');\n",
              "        buttonEl.style.display =\n",
              "          google.colab.kernel.accessAllowed ? 'block' : 'none';\n",
              "\n",
              "        async function convertToInteractive(key) {\n",
              "          const element = document.querySelector('#df-fe22b4e6-2915-4a09-b0ab-e163f505bb0f');\n",
              "          const dataTable =\n",
              "            await google.colab.kernel.invokeFunction('convertToInteractive',\n",
              "                                                     [key], {});\n",
              "          if (!dataTable) return;\n",
              "\n",
              "          const docLinkHtml = 'Like what you see? Visit the ' +\n",
              "            '<a target=\"_blank\" href=https://colab.research.google.com/notebooks/data_table.ipynb>data table notebook</a>'\n",
              "            + ' to learn more about interactive tables.';\n",
              "          element.innerHTML = '';\n",
              "          dataTable['output_type'] = 'display_data';\n",
              "          await google.colab.output.renderOutput(dataTable, element);\n",
              "          const docLink = document.createElement('div');\n",
              "          docLink.innerHTML = docLinkHtml;\n",
              "          element.appendChild(docLink);\n",
              "        }\n",
              "      </script>\n",
              "    </div>\n",
              "  </div>\n",
              "  "
            ]
          },
          "metadata": {},
          "execution_count": 37
        }
      ]
    },
    {
      "cell_type": "code",
      "source": [
        "# Define data types for columns\n",
        "types = {\n",
        "    'duration': 'float',\n",
        "    'wage-increase-first-year': 'float',\n",
        "    'wage-increase-second-year': 'float',\n",
        "    'wage-increase-third-year': 'float',\n",
        "    'working-hours': 'float',\n",
        "    'standby-pay': 'float',\n",
        "    'shift-differential': 'float',\n",
        "    'statutory-holidays': 'float',    \n",
        "}\n"
      ],
      "metadata": {
        "id": "M_qCwQ5Y18J0"
      },
      "execution_count": 38,
      "outputs": []
    },
    {
      "cell_type": "code",
      "source": [
        "# Convert columns\n",
        "new_relations = new_relations.astype(types)"
      ],
      "metadata": {
        "id": "CmD62sxQ0KR3"
      },
      "execution_count": 39,
      "outputs": []
    },
    {
      "cell_type": "code",
      "source": [
        "numeric = ['duration',\n",
        "    'wage-increase-first-year',\n",
        "    'wage-increase-second-year',\n",
        "    'wage-increase-third-year',\n",
        "    'working-hours',\n",
        "    'standby-pay',\n",
        "    'shift-differential',\n",
        "    'statutory-holidays']"
      ],
      "metadata": {
        "id": "6_Dv8tvx-GyU"
      },
      "execution_count": 40,
      "outputs": []
    },
    {
      "cell_type": "code",
      "source": [
        "column_names = new_relations.columns\n",
        "column_names"
      ],
      "metadata": {
        "colab": {
          "base_uri": "https://localhost:8080/"
        },
        "id": "PVVbmrfY91xO",
        "outputId": "c2a6d671-aed0-402a-99e5-a42a010afb79"
      },
      "execution_count": 41,
      "outputs": [
        {
          "output_type": "execute_result",
          "data": {
            "text/plain": [
              "Index(['duration', 'wage-increase-first-year', 'wage-increase-second-year',\n",
              "       'wage-increase-third-year', 'cost-of-living-adjustment',\n",
              "       'working-hours', 'pension', 'standby-pay', 'shift-differential',\n",
              "       'education-allowance', 'statutory-holidays', 'vacation',\n",
              "       'longterm-disability-assistance', 'contribution-to-dental-plan',\n",
              "       'bereavement-assistance', 'contribution-to-health-plan', 'class'],\n",
              "      dtype='object')"
            ]
          },
          "metadata": {},
          "execution_count": 41
        }
      ]
    },
    {
      "cell_type": "code",
      "source": [
        "categorical = list(set(column_names) - set(numeric))\n",
        "categorical"
      ],
      "metadata": {
        "colab": {
          "base_uri": "https://localhost:8080/"
        },
        "id": "bcSgi9c8-fKS",
        "outputId": "03d86b27-fbe3-467e-a3d6-776ad1df26ae"
      },
      "execution_count": 42,
      "outputs": [
        {
          "output_type": "execute_result",
          "data": {
            "text/plain": [
              "['contribution-to-dental-plan',\n",
              " 'pension',\n",
              " 'contribution-to-health-plan',\n",
              " 'class',\n",
              " 'bereavement-assistance',\n",
              " 'longterm-disability-assistance',\n",
              " 'cost-of-living-adjustment',\n",
              " 'vacation',\n",
              " 'education-allowance']"
            ]
          },
          "metadata": {},
          "execution_count": 42
        }
      ]
    },
    {
      "cell_type": "code",
      "source": [
        "new_relations.info()"
      ],
      "metadata": {
        "colab": {
          "base_uri": "https://localhost:8080/"
        },
        "id": "MnG_I42C0zNh",
        "outputId": "f1423472-52a5-4af2-fbac-d26381da14e5"
      },
      "execution_count": 43,
      "outputs": [
        {
          "output_type": "stream",
          "name": "stdout",
          "text": [
            "<class 'pandas.core.frame.DataFrame'>\n",
            "RangeIndex: 57 entries, 0 to 56\n",
            "Data columns (total 17 columns):\n",
            " #   Column                          Non-Null Count  Dtype  \n",
            "---  ------                          --------------  -----  \n",
            " 0   duration                        57 non-null     float64\n",
            " 1   wage-increase-first-year        57 non-null     float64\n",
            " 2   wage-increase-second-year       57 non-null     float64\n",
            " 3   wage-increase-third-year        57 non-null     float64\n",
            " 4   cost-of-living-adjustment       57 non-null     object \n",
            " 5   working-hours                   57 non-null     float64\n",
            " 6   pension                         57 non-null     object \n",
            " 7   standby-pay                     57 non-null     float64\n",
            " 8   shift-differential              57 non-null     float64\n",
            " 9   education-allowance             57 non-null     object \n",
            " 10  statutory-holidays              57 non-null     float64\n",
            " 11  vacation                        57 non-null     object \n",
            " 12  longterm-disability-assistance  57 non-null     object \n",
            " 13  contribution-to-dental-plan     57 non-null     object \n",
            " 14  bereavement-assistance          57 non-null     object \n",
            " 15  contribution-to-health-plan     57 non-null     object \n",
            " 16  class                           57 non-null     object \n",
            "dtypes: float64(8), object(9)\n",
            "memory usage: 7.7+ KB\n"
          ]
        }
      ]
    },
    {
      "cell_type": "code",
      "source": [
        "new_relations.hist(figsize=(15, 15))"
      ],
      "metadata": {
        "colab": {
          "base_uri": "https://localhost:8080/",
          "height": 1000
        },
        "id": "q7wjXJOz1zdr",
        "outputId": "0b7faaf4-c65f-435a-a731-92c4fb194669"
      },
      "execution_count": 21,
      "outputs": [
        {
          "output_type": "execute_result",
          "data": {
            "text/plain": [
              "array([[<matplotlib.axes._subplots.AxesSubplot object at 0x7fdfd3da9c90>,\n",
              "        <matplotlib.axes._subplots.AxesSubplot object at 0x7fdfd3d483d0>,\n",
              "        <matplotlib.axes._subplots.AxesSubplot object at 0x7fdfd3d049d0>],\n",
              "       [<matplotlib.axes._subplots.AxesSubplot object at 0x7fdfd3cafb10>,\n",
              "        <matplotlib.axes._subplots.AxesSubplot object at 0x7fdfd3c7c610>,\n",
              "        <matplotlib.axes._subplots.AxesSubplot object at 0x7fdfd3c33c10>],\n",
              "       [<matplotlib.axes._subplots.AxesSubplot object at 0x7fdfd3bf62d0>,\n",
              "        <matplotlib.axes._subplots.AxesSubplot object at 0x7fdfd3bab810>,\n",
              "        <matplotlib.axes._subplots.AxesSubplot object at 0x7fdfd3bab850>]],\n",
              "      dtype=object)"
            ]
          },
          "metadata": {},
          "execution_count": 21
        },
        {
          "output_type": "display_data",
          "data": {
            "text/plain": [
              "<Figure size 1080x1080 with 9 Axes>"
            ],
            "image/png": "[encoded data removed]"
          },
          "metadata": {
            "needs_background": "light"
          }
        }
      ]
    },
    {
      "cell_type": "code",
      "source": [
        "from sklearn.preprocessing import LabelEncoder\n",
        "encoder = LabelEncoder()"
      ],
      "metadata": {
        "id": "SO2LSt-Q3q8P"
      },
      "execution_count": 44,
      "outputs": []
    },
    {
      "cell_type": "code",
      "source": [
        "new_relations = new_relations.apply(LabelEncoder().fit_transform)"
      ],
      "metadata": {
        "id": "TO1F26T3CsZ0"
      },
      "execution_count": 60,
      "outputs": []
    },
    {
      "cell_type": "code",
      "source": [
        "new_relations.head()"
      ],
      "metadata": {
        "colab": {
          "base_uri": "https://localhost:8080/",
          "height": 322
        },
        "id": "mEi8MMtrDDzo",
        "outputId": "85ebc683-d7b2-49c0-bc10-91eac4f24a86"
      },
      "execution_count": 66,
      "outputs": [
        {
          "output_type": "execute_result",
          "data": {
            "text/plain": [
              "   duration  wage-increase-first-year  wage-increase-second-year  \\\n",
              "0         0                        11                         11   \n",
              "1         1                         9                         11   \n",
              "2         1                         9                         11   \n",
              "3         2                         6                          4   \n",
              "4         2                         9                          6   \n",
              "\n",
              "   wage-increase-third-year  cost-of-living-adjustment  working-hours  \\\n",
              "0                         7                          1              7   \n",
              "1                         7                          1              2   \n",
              "2                         7                          1              5   \n",
              "3                         7                          1              5   \n",
              "4                         7                          1              7   \n",
              "\n",
              "   pension  standby-pay  shift-differential  education-allowance  \\\n",
              "0        2            4                   2                    1   \n",
              "1        2            4                   2                    1   \n",
              "2        0            4                   5                    1   \n",
              "3        0            4                   5                    1   \n",
              "4        0            4                   5                    1   \n",
              "\n",
              "   statutory-holidays  vacation  longterm-disability-assistance  \\\n",
              "0                   2         0                               1   \n",
              "1                   2         1                               1   \n",
              "2                   2         2                               1   \n",
              "3                   2         2                               1   \n",
              "4                   3         0                               1   \n",
              "\n",
              "   contribution-to-dental-plan  bereavement-assistance  \\\n",
              "0                            0                       1   \n",
              "1                            0                       1   \n",
              "2                            1                       1   \n",
              "3                            1                       1   \n",
              "4                            1                       1   \n",
              "\n",
              "   contribution-to-health-plan  class  \n",
              "0                            0      1  \n",
              "1                            0      1  \n",
              "2                            1      1  \n",
              "3                            1      1  \n",
              "4                            1      1  "
            ],
            "text/html": [
              "\n",
              "  <div id=\"df-2f8c7697-48e7-457e-a271-d98a97c99ba1\">\n",
              "    <div class=\"colab-df-container\">\n",
              "      <div>\n",
              "<style scoped>\n",
              "    .dataframe tbody tr th:only-of-type {\n",
              "        vertical-align: middle;\n",
              "    }\n",
              "\n",
              "    .dataframe tbody tr th {\n",
              "        vertical-align: top;\n",
              "    }\n",
              "\n",
              "    .dataframe thead th {\n",
              "        text-align: right;\n",
              "    }\n",
              "</style>\n",
              "<table border=\"1\" class=\"dataframe\">\n",
              "  <thead>\n",
              "    <tr style=\"text-align: right;\">\n",
              "      <th></th>\n",
              "      <th>duration</th>\n",
              "      <th>wage-increase-first-year</th>\n",
              "      <th>wage-increase-second-year</th>\n",
              "      <th>wage-increase-third-year</th>\n",
              "      <th>cost-of-living-adjustment</th>\n",
              "      <th>working-hours</th>\n",
              "      <th>pension</th>\n",
              "      <th>standby-pay</th>\n",
              "      <th>shift-differential</th>\n",
              "      <th>education-allowance</th>\n",
              "      <th>statutory-holidays</th>\n",
              "      <th>vacation</th>\n",
              "      <th>longterm-disability-assistance</th>\n",
              "      <th>contribution-to-dental-plan</th>\n",
              "      <th>bereavement-assistance</th>\n",
              "      <th>contribution-to-health-plan</th>\n",
              "      <th>class</th>\n",
              "    </tr>\n",
              "  </thead>\n",
              "  <tbody>\n",
              "    <tr>\n",
              "      <th>0</th>\n",
              "      <td>0</td>\n",
              "      <td>11</td>\n",
              "      <td>11</td>\n",
              "      <td>7</td>\n",
              "      <td>1</td>\n",
              "      <td>7</td>\n",
              "      <td>2</td>\n",
              "      <td>4</td>\n",
              "      <td>2</td>\n",
              "      <td>1</td>\n",
              "      <td>2</td>\n",
              "      <td>0</td>\n",
              "      <td>1</td>\n",
              "      <td>0</td>\n",
              "      <td>1</td>\n",
              "      <td>0</td>\n",
              "      <td>1</td>\n",
              "    </tr>\n",
              "    <tr>\n",
              "      <th>1</th>\n",
              "      <td>1</td>\n",
              "      <td>9</td>\n",
              "      <td>11</td>\n",
              "      <td>7</td>\n",
              "      <td>1</td>\n",
              "      <td>2</td>\n",
              "      <td>2</td>\n",
              "      <td>4</td>\n",
              "      <td>2</td>\n",
              "      <td>1</td>\n",
              "      <td>2</td>\n",
              "      <td>1</td>\n",
              "      <td>1</td>\n",
              "      <td>0</td>\n",
              "      <td>1</td>\n",
              "      <td>0</td>\n",
              "      <td>1</td>\n",
              "    </tr>\n",
              "    <tr>\n",
              "      <th>2</th>\n",
              "      <td>1</td>\n",
              "      <td>9</td>\n",
              "      <td>11</td>\n",
              "      <td>7</td>\n",
              "      <td>1</td>\n",
              "      <td>5</td>\n",
              "      <td>0</td>\n",
              "      <td>4</td>\n",
              "      <td>5</td>\n",
              "      <td>1</td>\n",
              "      <td>2</td>\n",
              "      <td>2</td>\n",
              "      <td>1</td>\n",
              "      <td>1</td>\n",
              "      <td>1</td>\n",
              "      <td>1</td>\n",
              "      <td>1</td>\n",
              "    </tr>\n",
              "    <tr>\n",
              "      <th>3</th>\n",
              "      <td>2</td>\n",
              "      <td>6</td>\n",
              "      <td>4</td>\n",
              "      <td>7</td>\n",
              "      <td>1</td>\n",
              "      <td>5</td>\n",
              "      <td>0</td>\n",
              "      <td>4</td>\n",
              "      <td>5</td>\n",
              "      <td>1</td>\n",
              "      <td>2</td>\n",
              "      <td>2</td>\n",
              "      <td>1</td>\n",
              "      <td>1</td>\n",
              "      <td>1</td>\n",
              "      <td>1</td>\n",
              "      <td>1</td>\n",
              "    </tr>\n",
              "    <tr>\n",
              "      <th>4</th>\n",
              "      <td>2</td>\n",
              "      <td>9</td>\n",
              "      <td>6</td>\n",
              "      <td>7</td>\n",
              "      <td>1</td>\n",
              "      <td>7</td>\n",
              "      <td>0</td>\n",
              "      <td>4</td>\n",
              "      <td>5</td>\n",
              "      <td>1</td>\n",
              "      <td>3</td>\n",
              "      <td>0</td>\n",
              "      <td>1</td>\n",
              "      <td>1</td>\n",
              "      <td>1</td>\n",
              "      <td>1</td>\n",
              "      <td>1</td>\n",
              "    </tr>\n",
              "  </tbody>\n",
              "</table>\n",
              "</div>\n",
              "      <button class=\"colab-df-convert\" onclick=\"convertToInteractive('df-2f8c7697-48e7-457e-a271-d98a97c99ba1')\"\n",
              "              title=\"Convert this dataframe to an interactive table.\"\n",
              "              style=\"display:none;\">\n",
              "        \n",
              "  <svg xmlns=\"http://www.w3.org/2000/svg\" height=\"24px\"viewBox=\"0 0 24 24\"\n",
              "       width=\"24px\">\n",
              "    <path d=\"M0 0h24v24H0V0z\" fill=\"none\"/>\n",
              "    <path d=\"M18.56 5.44l.94 2.06.94-2.06 2.06-.94-2.06-.94-.94-2.06-.94 2.06-2.06.94zm-11 1L8.5 8.5l.94-2.06 2.06-.94-2.06-.94L8.5 2.5l-.94 2.06-2.06.94zm10 10l.94 2.06.94-2.06 2.06-.94-2.06-.94-.94-2.06-.94 2.06-2.06.94z\"/><path d=\"M17.41 7.96l-1.37-1.37c-.4-.4-.92-.59-1.43-.59-.52 0-1.04.2-1.43.59L10.3 9.45l-7.72 7.72c-.78.78-.78 2.05 0 2.83L4 21.41c.39.39.9.59 1.41.59.51 0 1.02-.2 1.41-.59l7.78-7.78 2.81-2.81c.8-.78.8-2.07 0-2.86zM5.41 20L4 18.59l7.72-7.72 1.47 1.35L5.41 20z\"/>\n",
              "  </svg>\n",
              "      </button>\n",
              "      \n",
              "  <style>\n",
              "    .colab-df-container {\n",
              "      display:flex;\n",
              "      flex-wrap:wrap;\n",
              "      gap: 12px;\n",
              "    }\n",
              "\n",
              "    .colab-df-convert {\n",
              "      background-color: #E8F0FE;\n",
              "      border: none;\n",
              "      border-radius: 50%;\n",
              "      cursor: pointer;\n",
              "      display: none;\n",
              "      fill: #1967D2;\n",
              "      height: 32px;\n",
              "      padding: 0 0 0 0;\n",
              "      width: 32px;\n",
              "    }\n",
              "\n",
              "    .colab-df-convert:hover {\n",
              "      background-color: #E2EBFA;\n",
              "      box-shadow: 0px 1px 2px rgba(60, 64, 67, 0.3), 0px 1px 3px 1px rgba(60, 64, 67, 0.15);\n",
              "      fill: #174EA6;\n",
              "    }\n",
              "\n",
              "    [theme=dark] .colab-df-convert {\n",
              "      background-color: #3B4455;\n",
              "      fill: #D2E3FC;\n",
              "    }\n",
              "\n",
              "    [theme=dark] .colab-df-convert:hover {\n",
              "      background-color: #434B5C;\n",
              "      box-shadow: 0px 1px 3px 1px rgba(0, 0, 0, 0.15);\n",
              "      filter: drop-shadow(0px 1px 2px rgba(0, 0, 0, 0.3));\n",
              "      fill: #FFFFFF;\n",
              "    }\n",
              "  </style>\n",
              "\n",
              "      <script>\n",
              "        const buttonEl =\n",
              "          document.querySelector('#df-2f8c7697-48e7-457e-a271-d98a97c99ba1 button.colab-df-convert');\n",
              "        buttonEl.style.display =\n",
              "          google.colab.kernel.accessAllowed ? 'block' : 'none';\n",
              "\n",
              "        async function convertToInteractive(key) {\n",
              "          const element = document.querySelector('#df-2f8c7697-48e7-457e-a271-d98a97c99ba1');\n",
              "          const dataTable =\n",
              "            await google.colab.kernel.invokeFunction('convertToInteractive',\n",
              "                                                     [key], {});\n",
              "          if (!dataTable) return;\n",
              "\n",
              "          const docLinkHtml = 'Like what you see? Visit the ' +\n",
              "            '<a target=\"_blank\" href=https://colab.research.google.com/notebooks/data_table.ipynb>data table notebook</a>'\n",
              "            + ' to learn more about interactive tables.';\n",
              "          element.innerHTML = '';\n",
              "          dataTable['output_type'] = 'display_data';\n",
              "          await google.colab.output.renderOutput(dataTable, element);\n",
              "          const docLink = document.createElement('div');\n",
              "          docLink.innerHTML = docLinkHtml;\n",
              "          element.appendChild(docLink);\n",
              "        }\n",
              "      </script>\n",
              "    </div>\n",
              "  </div>\n",
              "  "
            ]
          },
          "metadata": {},
          "execution_count": 66
        }
      ]
    },
    {
      "cell_type": "markdown",
      "source": [
        "### Scaling and feature selection on labor dataset"
      ],
      "metadata": {
        "id": "zNCK8K7lIbsg"
      }
    },
    {
      "cell_type": "code",
      "source": [
        "# scale labor relations data\n",
        "# Select important features\n",
        "columns = new_relations.columns\n",
        "new_labor_data = scale_features(new_relations)\n",
        "new_labor_data = pd.DataFrame(new_labor_data, columns=columns)\n",
        "new_labor_data = select_features(new_labor_data)"
      ],
      "metadata": {
        "colab": {
          "base_uri": "https://localhost:8080/"
        },
        "id": "sVQAZkYNE7s4",
        "outputId": "d3221c1b-1cc5-4744-adc4-7ed4d3c9bd75"
      },
      "execution_count": 68,
      "outputs": [
        {
          "output_type": "stream",
          "name": "stdout",
          "text": [
            "Index(['wage-increase-first-year', 'wage-increase-second-year',\n",
            "       'working-hours', 'standby-pay', 'statutory-holidays',\n",
            "       'contribution-to-dental-plan'],\n",
            "      dtype='object')\n"
          ]
        },
        {
          "output_type": "stream",
          "name": "stderr",
          "text": [
            "/usr/local/lib/python3.7/dist-packages/sklearn/base.py:444: UserWarning: X has feature names, but SelectFromModel was fitted without feature names\n",
            "  f\"X has feature names, but {self.__class__.__name__} was fitted without\"\n"
          ]
        }
      ]
    },
    {
      "cell_type": "code",
      "source": [
        "new_labor_data.head()"
      ],
      "metadata": {
        "colab": {
          "base_uri": "https://localhost:8080/",
          "height": 268
        },
        "id": "FcdxP-RsIkt6",
        "outputId": "a3e0e7c2-757e-4576-a535-42b30f09e302"
      },
      "execution_count": 82,
      "outputs": [
        {
          "output_type": "execute_result",
          "data": {
            "text/plain": [
              "   wage-increase-first-year  wage-increase-second-year  working-hours  \\\n",
              "0                    0.6875                   0.785714       1.000000   \n",
              "1                    0.5625                   0.785714       0.285714   \n",
              "2                    0.5625                   0.785714       0.714286   \n",
              "3                    0.3750                   0.285714       0.714286   \n",
              "4                    0.5625                   0.428571       1.000000   \n",
              "\n",
              "   standby-pay  statutory-holidays  contribution-to-dental-plan  class  \n",
              "0     0.666667                 0.4                          0.0    1.0  \n",
              "1     0.666667                 0.4                          0.0    1.0  \n",
              "2     0.666667                 0.4                          0.5    1.0  \n",
              "3     0.666667                 0.4                          0.5    1.0  \n",
              "4     0.666667                 0.6                          0.5    1.0  "
            ],
            "text/html": [
              "\n",
              "  <div id=\"df-16b90fb3-b008-476e-b8b4-269ac92bd9fe\">\n",
              "    <div class=\"colab-df-container\">\n",
              "      <div>\n",
              "<style scoped>\n",
              "    .dataframe tbody tr th:only-of-type {\n",
              "        vertical-align: middle;\n",
              "    }\n",
              "\n",
              "    .dataframe tbody tr th {\n",
              "        vertical-align: top;\n",
              "    }\n",
              "\n",
              "    .dataframe thead th {\n",
              "        text-align: right;\n",
              "    }\n",
              "</style>\n",
              "<table border=\"1\" class=\"dataframe\">\n",
              "  <thead>\n",
              "    <tr style=\"text-align: right;\">\n",
              "      <th></th>\n",
              "      <th>wage-increase-first-year</th>\n",
              "      <th>wage-increase-second-year</th>\n",
              "      <th>working-hours</th>\n",
              "      <th>standby-pay</th>\n",
              "      <th>statutory-holidays</th>\n",
              "      <th>contribution-to-dental-plan</th>\n",
              "      <th>class</th>\n",
              "    </tr>\n",
              "  </thead>\n",
              "  <tbody>\n",
              "    <tr>\n",
              "      <th>0</th>\n",
              "      <td>0.6875</td>\n",
              "      <td>0.785714</td>\n",
              "      <td>1.000000</td>\n",
              "      <td>0.666667</td>\n",
              "      <td>0.4</td>\n",
              "      <td>0.0</td>\n",
              "      <td>1.0</td>\n",
              "    </tr>\n",
              "    <tr>\n",
              "      <th>1</th>\n",
              "      <td>0.5625</td>\n",
              "      <td>0.785714</td>\n",
              "      <td>0.285714</td>\n",
              "      <td>0.666667</td>\n",
              "      <td>0.4</td>\n",
              "      <td>0.0</td>\n",
              "      <td>1.0</td>\n",
              "    </tr>\n",
              "    <tr>\n",
              "      <th>2</th>\n",
              "      <td>0.5625</td>\n",
              "      <td>0.785714</td>\n",
              "      <td>0.714286</td>\n",
              "      <td>0.666667</td>\n",
              "      <td>0.4</td>\n",
              "      <td>0.5</td>\n",
              "      <td>1.0</td>\n",
              "    </tr>\n",
              "    <tr>\n",
              "      <th>3</th>\n",
              "      <td>0.3750</td>\n",
              "      <td>0.285714</td>\n",
              "      <td>0.714286</td>\n",
              "      <td>0.666667</td>\n",
              "      <td>0.4</td>\n",
              "      <td>0.5</td>\n",
              "      <td>1.0</td>\n",
              "    </tr>\n",
              "    <tr>\n",
              "      <th>4</th>\n",
              "      <td>0.5625</td>\n",
              "      <td>0.428571</td>\n",
              "      <td>1.000000</td>\n",
              "      <td>0.666667</td>\n",
              "      <td>0.6</td>\n",
              "      <td>0.5</td>\n",
              "      <td>1.0</td>\n",
              "    </tr>\n",
              "  </tbody>\n",
              "</table>\n",
              "</div>\n",
              "      <button class=\"colab-df-convert\" onclick=\"convertToInteractive('df-16b90fb3-b008-476e-b8b4-269ac92bd9fe')\"\n",
              "              title=\"Convert this dataframe to an interactive table.\"\n",
              "              style=\"display:none;\">\n",
              "        \n",
              "  <svg xmlns=\"http://www.w3.org/2000/svg\" height=\"24px\"viewBox=\"0 0 24 24\"\n",
              "       width=\"24px\">\n",
              "    <path d=\"M0 0h24v24H0V0z\" fill=\"none\"/>\n",
              "    <path d=\"M18.56 5.44l.94 2.06.94-2.06 2.06-.94-2.06-.94-.94-2.06-.94 2.06-2.06.94zm-11 1L8.5 8.5l.94-2.06 2.06-.94-2.06-.94L8.5 2.5l-.94 2.06-2.06.94zm10 10l.94 2.06.94-2.06 2.06-.94-2.06-.94-.94-2.06-.94 2.06-2.06.94z\"/><path d=\"M17.41 7.96l-1.37-1.37c-.4-.4-.92-.59-1.43-.59-.52 0-1.04.2-1.43.59L10.3 9.45l-7.72 7.72c-.78.78-.78 2.05 0 2.83L4 21.41c.39.39.9.59 1.41.59.51 0 1.02-.2 1.41-.59l7.78-7.78 2.81-2.81c.8-.78.8-2.07 0-2.86zM5.41 20L4 18.59l7.72-7.72 1.47 1.35L5.41 20z\"/>\n",
              "  </svg>\n",
              "      </button>\n",
              "      \n",
              "  <style>\n",
              "    .colab-df-container {\n",
              "      display:flex;\n",
              "      flex-wrap:wrap;\n",
              "      gap: 12px;\n",
              "    }\n",
              "\n",
              "    .colab-df-convert {\n",
              "      background-color: #E8F0FE;\n",
              "      border: none;\n",
              "      border-radius: 50%;\n",
              "      cursor: pointer;\n",
              "      display: none;\n",
              "      fill: #1967D2;\n",
              "      height: 32px;\n",
              "      padding: 0 0 0 0;\n",
              "      width: 32px;\n",
              "    }\n",
              "\n",
              "    .colab-df-convert:hover {\n",
              "      background-color: #E2EBFA;\n",
              "      box-shadow: 0px 1px 2px rgba(60, 64, 67, 0.3), 0px 1px 3px 1px rgba(60, 64, 67, 0.15);\n",
              "      fill: #174EA6;\n",
              "    }\n",
              "\n",
              "    [theme=dark] .colab-df-convert {\n",
              "      background-color: #3B4455;\n",
              "      fill: #D2E3FC;\n",
              "    }\n",
              "\n",
              "    [theme=dark] .colab-df-convert:hover {\n",
              "      background-color: #434B5C;\n",
              "      box-shadow: 0px 1px 3px 1px rgba(0, 0, 0, 0.15);\n",
              "      filter: drop-shadow(0px 1px 2px rgba(0, 0, 0, 0.3));\n",
              "      fill: #FFFFFF;\n",
              "    }\n",
              "  </style>\n",
              "\n",
              "      <script>\n",
              "        const buttonEl =\n",
              "          document.querySelector('#df-16b90fb3-b008-476e-b8b4-269ac92bd9fe button.colab-df-convert');\n",
              "        buttonEl.style.display =\n",
              "          google.colab.kernel.accessAllowed ? 'block' : 'none';\n",
              "\n",
              "        async function convertToInteractive(key) {\n",
              "          const element = document.querySelector('#df-16b90fb3-b008-476e-b8b4-269ac92bd9fe');\n",
              "          const dataTable =\n",
              "            await google.colab.kernel.invokeFunction('convertToInteractive',\n",
              "                                                     [key], {});\n",
              "          if (!dataTable) return;\n",
              "\n",
              "          const docLinkHtml = 'Like what you see? Visit the ' +\n",
              "            '<a target=\"_blank\" href=https://colab.research.google.com/notebooks/data_table.ipynb>data table notebook</a>'\n",
              "            + ' to learn more about interactive tables.';\n",
              "          element.innerHTML = '';\n",
              "          dataTable['output_type'] = 'display_data';\n",
              "          await google.colab.output.renderOutput(dataTable, element);\n",
              "          const docLink = document.createElement('div');\n",
              "          docLink.innerHTML = docLinkHtml;\n",
              "          element.appendChild(docLink);\n",
              "        }\n",
              "      </script>\n",
              "    </div>\n",
              "  </div>\n",
              "  "
            ]
          },
          "metadata": {},
          "execution_count": 82
        }
      ]
    },
    {
      "cell_type": "code",
      "source": [
        "x = new_labor_data.drop(columns=[\"class\"])\n",
        "y = new_labor_data[columns[-1]].copy()"
      ],
      "metadata": {
        "id": "_YpeIB5KFnyH"
      },
      "execution_count": 70,
      "outputs": []
    },
    {
      "cell_type": "code",
      "source": [
        "labor_results = {}\n",
        "\n",
        "for algorithm in algorithms:\n",
        "  scores = cross_val_score(algorithms[algorithm], x, y, cv=10, verbose=1, scoring='accuracy')\n",
        "  score = scores.mean()\n",
        "  labor_results[algorithm] = round(score * 100, 2)\n",
        "\n",
        "labor_results"
      ],
      "metadata": {
        "colab": {
          "base_uri": "https://localhost:8080/"
        },
        "id": "Bet9geQPGqfq",
        "outputId": "70b65e8a-ed6b-4981-c37e-8ce7dc76586e"
      },
      "execution_count": 79,
      "outputs": [
        {
          "output_type": "stream",
          "name": "stderr",
          "text": [
            "[Parallel(n_jobs=1)]: Using backend SequentialBackend with 1 concurrent workers.\n",
            "[Parallel(n_jobs=1)]: Done  10 out of  10 | elapsed:    0.1s finished\n",
            "[Parallel(n_jobs=1)]: Using backend SequentialBackend with 1 concurrent workers.\n",
            "[Parallel(n_jobs=1)]: Done  10 out of  10 | elapsed:    2.7s finished\n",
            "[Parallel(n_jobs=1)]: Using backend SequentialBackend with 1 concurrent workers.\n",
            "[Parallel(n_jobs=1)]: Done  10 out of  10 | elapsed:    0.0s finished\n",
            "[Parallel(n_jobs=1)]: Using backend SequentialBackend with 1 concurrent workers.\n",
            "[Parallel(n_jobs=1)]: Done  10 out of  10 | elapsed:    0.0s finished\n"
          ]
        },
        {
          "output_type": "execute_result",
          "data": {
            "text/plain": [
              "{'decision trees': 87.33,\n",
              " 'random forest': 77.67,\n",
              " 'support vector': 86.0,\n",
              " 'nearest neighbor': 86.0}"
            ]
          },
          "metadata": {},
          "execution_count": 79
        }
      ]
    },
    {
      "cell_type": "code",
      "source": [
        "search.fit(x, y)\n",
        "search.best_params_\n",
        "search.best_score_"
      ],
      "metadata": {
        "colab": {
          "base_uri": "https://localhost:8080/"
        },
        "id": "mIKsjLdYHj0w",
        "outputId": "8617208c-2de9-4362-da66-05d3ceafb408"
      },
      "execution_count": 80,
      "outputs": [
        {
          "output_type": "stream",
          "name": "stdout",
          "text": [
            "Fitting 10 folds for each of 64 candidates, totalling 640 fits\n"
          ]
        },
        {
          "output_type": "stream",
          "name": "stderr",
          "text": [
            "/usr/local/lib/python3.7/dist-packages/sklearn/neural_network/_multilayer_perceptron.py:696: ConvergenceWarning: Stochastic Optimizer: Maximum iterations (100) reached and the optimization hasn't converged yet.\n",
            "  ConvergenceWarning,\n"
          ]
        },
        {
          "output_type": "execute_result",
          "data": {
            "text/plain": [
              "0.9333333333333333"
            ]
          },
          "metadata": {},
          "execution_count": 80
        }
      ]
    },
    {
      "cell_type": "code",
      "source": [
        "gb_search.fit(x, y)\n",
        "gb_search.best_params_\n",
        "gb_search.best_score_"
      ],
      "metadata": {
        "colab": {
          "base_uri": "https://localhost:8080/"
        },
        "id": "OwKxt1MiH6Tk",
        "outputId": "97df693a-29ff-4808-e7f9-04502283f3f7"
      },
      "execution_count": 81,
      "outputs": [
        {
          "output_type": "stream",
          "name": "stdout",
          "text": [
            "Fitting 10 folds for each of 36 candidates, totalling 360 fits\n"
          ]
        },
        {
          "output_type": "execute_result",
          "data": {
            "text/plain": [
              "0.8266666666666668"
            ]
          },
          "metadata": {},
          "execution_count": 81
        }
      ]
    },
    {
      "cell_type": "code",
      "source": [
        "results_combined = pd.read_csv(\"output.csv\")\n",
        "results_combined.head(6)"
      ],
      "metadata": {
        "colab": {
          "base_uri": "https://localhost:8080/",
          "height": 238
        },
        "id": "UIS0t3MJJXK6",
        "outputId": "5cd8fabf-8234-4a8e-b950-ff2d2516c8b0"
      },
      "execution_count": 91,
      "outputs": [
        {
          "output_type": "execute_result",
          "data": {
            "text/plain": [
              "           Algorithm     DB    DB1    DB2  Heart  Labor\n",
              "0     Decision Trees  98.03  46.04  48.42  62.90  87.33\n",
              "1     Random Forests  97.87  97.34  62.44  78.08  77.67\n",
              "2    Support Vectors  98.03  72.83  52.63  80.49  86.00\n",
              "3  Nearest Neighbors  97.98  91.58  61.86  81.16  86.00\n",
              "4                MLP  98.03  71.50  57.43  83.50  93.33\n",
              "5  Gradient Boosting  98.03  89.13  62.92  79.82  82.67"
            ],
            "text/html": [
              "\n",
              "  <div id=\"df-fb8bf9c7-eb7e-445a-aba4-9e512125568d\">\n",
              "    <div class=\"colab-df-container\">\n",
              "      <div>\n",
              "<style scoped>\n",
              "    .dataframe tbody tr th:only-of-type {\n",
              "        vertical-align: middle;\n",
              "    }\n",
              "\n",
              "    .dataframe tbody tr th {\n",
              "        vertical-align: top;\n",
              "    }\n",
              "\n",
              "    .dataframe thead th {\n",
              "        text-align: right;\n",
              "    }\n",
              "</style>\n",
              "<table border=\"1\" class=\"dataframe\">\n",
              "  <thead>\n",
              "    <tr style=\"text-align: right;\">\n",
              "      <th></th>\n",
              "      <th>Algorithm</th>\n",
              "      <th>DB</th>\n",
              "      <th>DB1</th>\n",
              "      <th>DB2</th>\n",
              "      <th>Heart</th>\n",
              "      <th>Labor</th>\n",
              "    </tr>\n",
              "  </thead>\n",
              "  <tbody>\n",
              "    <tr>\n",
              "      <th>0</th>\n",
              "      <td>Decision Trees</td>\n",
              "      <td>98.03</td>\n",
              "      <td>46.04</td>\n",
              "      <td>48.42</td>\n",
              "      <td>62.90</td>\n",
              "      <td>87.33</td>\n",
              "    </tr>\n",
              "    <tr>\n",
              "      <th>1</th>\n",
              "      <td>Random Forests</td>\n",
              "      <td>97.87</td>\n",
              "      <td>97.34</td>\n",
              "      <td>62.44</td>\n",
              "      <td>78.08</td>\n",
              "      <td>77.67</td>\n",
              "    </tr>\n",
              "    <tr>\n",
              "      <th>2</th>\n",
              "      <td>Support Vectors</td>\n",
              "      <td>98.03</td>\n",
              "      <td>72.83</td>\n",
              "      <td>52.63</td>\n",
              "      <td>80.49</td>\n",
              "      <td>86.00</td>\n",
              "    </tr>\n",
              "    <tr>\n",
              "      <th>3</th>\n",
              "      <td>Nearest Neighbors</td>\n",
              "      <td>97.98</td>\n",
              "      <td>91.58</td>\n",
              "      <td>61.86</td>\n",
              "      <td>81.16</td>\n",
              "      <td>86.00</td>\n",
              "    </tr>\n",
              "    <tr>\n",
              "      <th>4</th>\n",
              "      <td>MLP</td>\n",
              "      <td>98.03</td>\n",
              "      <td>71.50</td>\n",
              "      <td>57.43</td>\n",
              "      <td>83.50</td>\n",
              "      <td>93.33</td>\n",
              "    </tr>\n",
              "    <tr>\n",
              "      <th>5</th>\n",
              "      <td>Gradient Boosting</td>\n",
              "      <td>98.03</td>\n",
              "      <td>89.13</td>\n",
              "      <td>62.92</td>\n",
              "      <td>79.82</td>\n",
              "      <td>82.67</td>\n",
              "    </tr>\n",
              "  </tbody>\n",
              "</table>\n",
              "</div>\n",
              "      <button class=\"colab-df-convert\" onclick=\"convertToInteractive('df-fb8bf9c7-eb7e-445a-aba4-9e512125568d')\"\n",
              "              title=\"Convert this dataframe to an interactive table.\"\n",
              "              style=\"display:none;\">\n",
              "        \n",
              "  <svg xmlns=\"http://www.w3.org/2000/svg\" height=\"24px\"viewBox=\"0 0 24 24\"\n",
              "       width=\"24px\">\n",
              "    <path d=\"M0 0h24v24H0V0z\" fill=\"none\"/>\n",
              "    <path d=\"M18.56 5.44l.94 2.06.94-2.06 2.06-.94-2.06-.94-.94-2.06-.94 2.06-2.06.94zm-11 1L8.5 8.5l.94-2.06 2.06-.94-2.06-.94L8.5 2.5l-.94 2.06-2.06.94zm10 10l.94 2.06.94-2.06 2.06-.94-2.06-.94-.94-2.06-.94 2.06-2.06.94z\"/><path d=\"M17.41 7.96l-1.37-1.37c-.4-.4-.92-.59-1.43-.59-.52 0-1.04.2-1.43.59L10.3 9.45l-7.72 7.72c-.78.78-.78 2.05 0 2.83L4 21.41c.39.39.9.59 1.41.59.51 0 1.02-.2 1.41-.59l7.78-7.78 2.81-2.81c.8-.78.8-2.07 0-2.86zM5.41 20L4 18.59l7.72-7.72 1.47 1.35L5.41 20z\"/>\n",
              "  </svg>\n",
              "      </button>\n",
              "      \n",
              "  <style>\n",
              "    .colab-df-container {\n",
              "      display:flex;\n",
              "      flex-wrap:wrap;\n",
              "      gap: 12px;\n",
              "    }\n",
              "\n",
              "    .colab-df-convert {\n",
              "      background-color: #E8F0FE;\n",
              "      border: none;\n",
              "      border-radius: 50%;\n",
              "      cursor: pointer;\n",
              "      display: none;\n",
              "      fill: #1967D2;\n",
              "      height: 32px;\n",
              "      padding: 0 0 0 0;\n",
              "      width: 32px;\n",
              "    }\n",
              "\n",
              "    .colab-df-convert:hover {\n",
              "      background-color: #E2EBFA;\n",
              "      box-shadow: 0px 1px 2px rgba(60, 64, 67, 0.3), 0px 1px 3px 1px rgba(60, 64, 67, 0.15);\n",
              "      fill: #174EA6;\n",
              "    }\n",
              "\n",
              "    [theme=dark] .colab-df-convert {\n",
              "      background-color: #3B4455;\n",
              "      fill: #D2E3FC;\n",
              "    }\n",
              "\n",
              "    [theme=dark] .colab-df-convert:hover {\n",
              "      background-color: #434B5C;\n",
              "      box-shadow: 0px 1px 3px 1px rgba(0, 0, 0, 0.15);\n",
              "      filter: drop-shadow(0px 1px 2px rgba(0, 0, 0, 0.3));\n",
              "      fill: #FFFFFF;\n",
              "    }\n",
              "  </style>\n",
              "\n",
              "      <script>\n",
              "        const buttonEl =\n",
              "          document.querySelector('#df-fb8bf9c7-eb7e-445a-aba4-9e512125568d button.colab-df-convert');\n",
              "        buttonEl.style.display =\n",
              "          google.colab.kernel.accessAllowed ? 'block' : 'none';\n",
              "\n",
              "        async function convertToInteractive(key) {\n",
              "          const element = document.querySelector('#df-fb8bf9c7-eb7e-445a-aba4-9e512125568d');\n",
              "          const dataTable =\n",
              "            await google.colab.kernel.invokeFunction('convertToInteractive',\n",
              "                                                     [key], {});\n",
              "          if (!dataTable) return;\n",
              "\n",
              "          const docLinkHtml = 'Like what you see? Visit the ' +\n",
              "            '<a target=\"_blank\" href=https://colab.research.google.com/notebooks/data_table.ipynb>data table notebook</a>'\n",
              "            + ' to learn more about interactive tables.';\n",
              "          element.innerHTML = '';\n",
              "          dataTable['output_type'] = 'display_data';\n",
              "          await google.colab.output.renderOutput(dataTable, element);\n",
              "          const docLink = document.createElement('div');\n",
              "          docLink.innerHTML = docLinkHtml;\n",
              "          element.appendChild(docLink);\n",
              "        }\n",
              "      </script>\n",
              "    </div>\n",
              "  </div>\n",
              "  "
            ]
          },
          "metadata": {},
          "execution_count": 91
        }
      ]
    },
    {
      "cell_type": "markdown",
      "source": [
        "### Tests of statistical significance"
      ],
      "metadata": {
        "id": "YJb8BWEtIq_y"
      }
    },
    {
      "cell_type": "code",
      "source": [
        "from scipy.stats import friedmanchisquare, wilcoxon\n",
        "import itertools\n",
        "\n",
        "results = results_combined.T\n",
        "results.head(6)"
      ],
      "metadata": {
        "colab": {
          "base_uri": "https://localhost:8080/",
          "height": 238
        },
        "id": "PSS0eK3hIFns",
        "outputId": "a94ab92f-b1ce-4715-f40e-9777a4ca94d0"
      },
      "execution_count": 86,
      "outputs": [
        {
          "output_type": "execute_result",
          "data": {
            "text/plain": [
              "                        0               1                2                  3  \\\n",
              "Algorithm  Decision Trees  Random Forests  Support Vectors  Nearest Neighbors   \n",
              "DB                  98.03           97.87            98.03              97.98   \n",
              "DB1                 46.04           97.34            72.83              91.58   \n",
              "DB2                 48.42           62.44            52.63              61.86   \n",
              "Heart                62.9           78.08            80.49              81.16   \n",
              "Labor               87.33           77.67             86.0               86.0   \n",
              "\n",
              "               4                  5  \n",
              "Algorithm    MLP  Gradient Boosting  \n",
              "DB         98.03              98.03  \n",
              "DB1         71.5              89.13  \n",
              "DB2        57.43              62.92  \n",
              "Heart       83.5              79.82  \n",
              "Labor      93.33              82.67  "
            ],
            "text/html": [
              "\n",
              "  <div id=\"df-706f0b91-ab6d-4b2a-8db5-78071080d9d4\">\n",
              "    <div class=\"colab-df-container\">\n",
              "      <div>\n",
              "<style scoped>\n",
              "    .dataframe tbody tr th:only-of-type {\n",
              "        vertical-align: middle;\n",
              "    }\n",
              "\n",
              "    .dataframe tbody tr th {\n",
              "        vertical-align: top;\n",
              "    }\n",
              "\n",
              "    .dataframe thead th {\n",
              "        text-align: right;\n",
              "    }\n",
              "</style>\n",
              "<table border=\"1\" class=\"dataframe\">\n",
              "  <thead>\n",
              "    <tr style=\"text-align: right;\">\n",
              "      <th></th>\n",
              "      <th>0</th>\n",
              "      <th>1</th>\n",
              "      <th>2</th>\n",
              "      <th>3</th>\n",
              "      <th>4</th>\n",
              "      <th>5</th>\n",
              "    </tr>\n",
              "  </thead>\n",
              "  <tbody>\n",
              "    <tr>\n",
              "      <th>Algorithm</th>\n",
              "      <td>Decision Trees</td>\n",
              "      <td>Random Forests</td>\n",
              "      <td>Support Vectors</td>\n",
              "      <td>Nearest Neighbors</td>\n",
              "      <td>MLP</td>\n",
              "      <td>Gradient Boosting</td>\n",
              "    </tr>\n",
              "    <tr>\n",
              "      <th>DB</th>\n",
              "      <td>98.03</td>\n",
              "      <td>97.87</td>\n",
              "      <td>98.03</td>\n",
              "      <td>97.98</td>\n",
              "      <td>98.03</td>\n",
              "      <td>98.03</td>\n",
              "    </tr>\n",
              "    <tr>\n",
              "      <th>DB1</th>\n",
              "      <td>46.04</td>\n",
              "      <td>97.34</td>\n",
              "      <td>72.83</td>\n",
              "      <td>91.58</td>\n",
              "      <td>71.5</td>\n",
              "      <td>89.13</td>\n",
              "    </tr>\n",
              "    <tr>\n",
              "      <th>DB2</th>\n",
              "      <td>48.42</td>\n",
              "      <td>62.44</td>\n",
              "      <td>52.63</td>\n",
              "      <td>61.86</td>\n",
              "      <td>57.43</td>\n",
              "      <td>62.92</td>\n",
              "    </tr>\n",
              "    <tr>\n",
              "      <th>Heart</th>\n",
              "      <td>62.9</td>\n",
              "      <td>78.08</td>\n",
              "      <td>80.49</td>\n",
              "      <td>81.16</td>\n",
              "      <td>83.5</td>\n",
              "      <td>79.82</td>\n",
              "    </tr>\n",
              "    <tr>\n",
              "      <th>Labor</th>\n",
              "      <td>87.33</td>\n",
              "      <td>77.67</td>\n",
              "      <td>86.0</td>\n",
              "      <td>86.0</td>\n",
              "      <td>93.33</td>\n",
              "      <td>82.67</td>\n",
              "    </tr>\n",
              "  </tbody>\n",
              "</table>\n",
              "</div>\n",
              "      <button class=\"colab-df-convert\" onclick=\"convertToInteractive('df-706f0b91-ab6d-4b2a-8db5-78071080d9d4')\"\n",
              "              title=\"Convert this dataframe to an interactive table.\"\n",
              "              style=\"display:none;\">\n",
              "        \n",
              "  <svg xmlns=\"http://www.w3.org/2000/svg\" height=\"24px\"viewBox=\"0 0 24 24\"\n",
              "       width=\"24px\">\n",
              "    <path d=\"M0 0h24v24H0V0z\" fill=\"none\"/>\n",
              "    <path d=\"M18.56 5.44l.94 2.06.94-2.06 2.06-.94-2.06-.94-.94-2.06-.94 2.06-2.06.94zm-11 1L8.5 8.5l.94-2.06 2.06-.94-2.06-.94L8.5 2.5l-.94 2.06-2.06.94zm10 10l.94 2.06.94-2.06 2.06-.94-2.06-.94-.94-2.06-.94 2.06-2.06.94z\"/><path d=\"M17.41 7.96l-1.37-1.37c-.4-.4-.92-.59-1.43-.59-.52 0-1.04.2-1.43.59L10.3 9.45l-7.72 7.72c-.78.78-.78 2.05 0 2.83L4 21.41c.39.39.9.59 1.41.59.51 0 1.02-.2 1.41-.59l7.78-7.78 2.81-2.81c.8-.78.8-2.07 0-2.86zM5.41 20L4 18.59l7.72-7.72 1.47 1.35L5.41 20z\"/>\n",
              "  </svg>\n",
              "      </button>\n",
              "      \n",
              "  <style>\n",
              "    .colab-df-container {\n",
              "      display:flex;\n",
              "      flex-wrap:wrap;\n",
              "      gap: 12px;\n",
              "    }\n",
              "\n",
              "    .colab-df-convert {\n",
              "      background-color: #E8F0FE;\n",
              "      border: none;\n",
              "      border-radius: 50%;\n",
              "      cursor: pointer;\n",
              "      display: none;\n",
              "      fill: #1967D2;\n",
              "      height: 32px;\n",
              "      padding: 0 0 0 0;\n",
              "      width: 32px;\n",
              "    }\n",
              "\n",
              "    .colab-df-convert:hover {\n",
              "      background-color: #E2EBFA;\n",
              "      box-shadow: 0px 1px 2px rgba(60, 64, 67, 0.3), 0px 1px 3px 1px rgba(60, 64, 67, 0.15);\n",
              "      fill: #174EA6;\n",
              "    }\n",
              "\n",
              "    [theme=dark] .colab-df-convert {\n",
              "      background-color: #3B4455;\n",
              "      fill: #D2E3FC;\n",
              "    }\n",
              "\n",
              "    [theme=dark] .colab-df-convert:hover {\n",
              "      background-color: #434B5C;\n",
              "      box-shadow: 0px 1px 3px 1px rgba(0, 0, 0, 0.15);\n",
              "      filter: drop-shadow(0px 1px 2px rgba(0, 0, 0, 0.3));\n",
              "      fill: #FFFFFF;\n",
              "    }\n",
              "  </style>\n",
              "\n",
              "      <script>\n",
              "        const buttonEl =\n",
              "          document.querySelector('#df-706f0b91-ab6d-4b2a-8db5-78071080d9d4 button.colab-df-convert');\n",
              "        buttonEl.style.display =\n",
              "          google.colab.kernel.accessAllowed ? 'block' : 'none';\n",
              "\n",
              "        async function convertToInteractive(key) {\n",
              "          const element = document.querySelector('#df-706f0b91-ab6d-4b2a-8db5-78071080d9d4');\n",
              "          const dataTable =\n",
              "            await google.colab.kernel.invokeFunction('convertToInteractive',\n",
              "                                                     [key], {});\n",
              "          if (!dataTable) return;\n",
              "\n",
              "          const docLinkHtml = 'Like what you see? Visit the ' +\n",
              "            '<a target=\"_blank\" href=https://colab.research.google.com/notebooks/data_table.ipynb>data table notebook</a>'\n",
              "            + ' to learn more about interactive tables.';\n",
              "          element.innerHTML = '';\n",
              "          dataTable['output_type'] = 'display_data';\n",
              "          await google.colab.output.renderOutput(dataTable, element);\n",
              "          const docLink = document.createElement('div');\n",
              "          docLink.innerHTML = docLinkHtml;\n",
              "          element.appendChild(docLink);\n",
              "        }\n",
              "      </script>\n",
              "    </div>\n",
              "  </div>\n",
              "  "
            ]
          },
          "metadata": {},
          "execution_count": 86
        }
      ]
    },
    {
      "cell_type": "code",
      "source": [
        "results_combined.loc[1].values.tolist()[1:]"
      ],
      "metadata": {
        "colab": {
          "base_uri": "https://localhost:8080/"
        },
        "id": "uQq61f2xM8iB",
        "outputId": "307c6dbe-86dc-4786-b6d1-4eaa84ba9423"
      },
      "execution_count": 106,
      "outputs": [
        {
          "output_type": "execute_result",
          "data": {
            "text/plain": [
              "[97.87, 97.34, 62.44, 78.08, 77.67]"
            ]
          },
          "metadata": {},
          "execution_count": 106
        }
      ]
    },
    {
      "cell_type": "code",
      "source": [
        "f_test = friedmanchisquare(results_combined.iloc[0].values.tolist()[1:],results_combined.iloc[1].values.tolist()[1:],results_combined.iloc[2].values.tolist()[1:], results_combined.iloc[3].values.tolist()[1:], results_combined.iloc[4].values.tolist()[1:], results_combined.iloc[5].values.tolist()[1:])"
      ],
      "metadata": {
        "id": "FE8wKYf2LuCF"
      },
      "execution_count": 107,
      "outputs": []
    },
    {
      "cell_type": "code",
      "source": [
        "f_test"
      ],
      "metadata": {
        "colab": {
          "base_uri": "https://localhost:8080/"
        },
        "id": "MunfdrtwMABz",
        "outputId": "da880899-670a-4a56-99e9-fd0340bc08e2"
      },
      "execution_count": 109,
      "outputs": [
        {
          "output_type": "execute_result",
          "data": {
            "text/plain": [
              "FriedmanchisquareResult(statistic=3.3841463414634063, pvalue=0.6409855854007922)"
            ]
          },
          "metadata": {},
          "execution_count": 109
        }
      ]
    },
    {
      "cell_type": "markdown",
      "source": [
        "a = 0.05 for 6 algorithms and 5 datasets has a critical value of 10.490"
      ],
      "metadata": {
        "id": "CRMIPwPyRapj"
      }
    },
    {
      "cell_type": "code",
      "source": [],
      "metadata": {
        "id": "odXcTKtrPcgb"
      },
      "execution_count": null,
      "outputs": []
    }
  ]
}